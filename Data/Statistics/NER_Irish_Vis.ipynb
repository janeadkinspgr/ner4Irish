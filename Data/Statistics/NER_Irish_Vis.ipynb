{
  "nbformat": 4,
  "nbformat_minor": 0,
  "metadata": {
    "colab": {
      "provenance": []
    },
    "kernelspec": {
      "name": "python3",
      "display_name": "Python 3"
    },
    "language_info": {
      "name": "python"
    }
  },
  "cells": [
    {
      "cell_type": "code",
      "execution_count": null,
      "metadata": {
        "colab": {
          "base_uri": "https://localhost:8080/"
        },
        "id": "2YD5Cv5SAAcR",
        "outputId": "19d36191-8dc9-4b64-ceea-a3013cf1c9ec"
      },
      "outputs": [
        {
          "output_type": "stream",
          "name": "stdout",
          "text": [
            "Collecting conllu\n",
            "  Downloading conllu-4.5.3-py2.py3-none-any.whl (16 kB)\n",
            "Installing collected packages: conllu\n",
            "Successfully installed conllu-4.5.3\n"
          ]
        }
      ],
      "source": [
        "!pip install conllu"
      ]
    },
    {
      "cell_type": "code",
      "source": [
        "import pandas as pd\n",
        "from conllu import parse\n",
        "\n",
        "def conll2003_to_csv(conll_file_path):\n",
        "    with open(conll_file_path, 'r', encoding='utf-8') as file:\n",
        "        lines = file.readlines()\n",
        "\n",
        "    data = {'Word': [], 'Tag': []}\n",
        "\n",
        "    for line in lines:\n",
        "        line = line.strip()\n",
        "        if line and not line.startswith('-DOCSTART-'):\n",
        "            parts = line.split()\n",
        "            if len(parts) == 4:\n",
        "                word = parts[0]\n",
        "                tag = parts[3]\n",
        "                data['Word'].append(word)\n",
        "                data['Tag'].append(tag)\n",
        "\n",
        "    df = pd.DataFrame(data)\n",
        "    return df"
      ],
      "metadata": {
        "id": "_JJvwp4ABQwA"
      },
      "execution_count": null,
      "outputs": []
    },
    {
      "cell_type": "code",
      "source": [
        "def conll2003_to_csv_2(conll_file_path):\n",
        "    with open(conll_file_path, 'r', encoding='utf-8') as file:\n",
        "        lines = file.readlines()\n",
        "\n",
        "    data = {'Word': [], 'Tag': []}\n",
        "\n",
        "    for line in lines:\n",
        "        line = line.strip()\n",
        "        if line and not line.startswith('-DOCSTART-'):\n",
        "            parts = line.split()\n",
        "            if len(parts) == 2:\n",
        "                word = parts[0]\n",
        "                tag = parts[1]\n",
        "                data['Word'].append(word)\n",
        "                data['Tag'].append(tag)\n",
        "\n",
        "    df = pd.DataFrame(data)\n",
        "    return df"
      ],
      "metadata": {
        "id": "nINKA1-DF5FT"
      },
      "execution_count": null,
      "outputs": []
    },
    {
      "cell_type": "code",
      "source": [
        "train = conll2003_to_csv(\"/content/NER_Irish_train.conll\")\n",
        "val = conll2003_to_csv_2(\"/content/NER_Irish_validation.conll\")\n",
        "test = conll2003_to_csv_2(\"/content/NER_Irish_test.conll\")"
      ],
      "metadata": {
        "id": "xQgK8gVIDfgm"
      },
      "execution_count": null,
      "outputs": []
    },
    {
      "cell_type": "code",
      "source": [
        "print(train.head(10))"
      ],
      "metadata": {
        "colab": {
          "base_uri": "https://localhost:8080/"
        },
        "id": "x-SnE7sdD7Tu",
        "outputId": "304044c7-75d3-42a2-9b39-3c4346842cd9"
      },
      "execution_count": null,
      "outputs": [
        {
          "output_type": "stream",
          "name": "stdout",
          "text": [
            "       Word    Tag\n",
            "0     ﻿Dáil  B-ORG\n",
            "1   Éireann  I-ORG\n",
            "2        06      O\n",
            "3         /      O\n",
            "4        07      O\n",
            "5         /      O\n",
            "6      2023      O\n",
            "7  Baineann      O\n",
            "8        mo      O\n",
            "9    cheist      O\n"
          ]
        }
      ]
    },
    {
      "cell_type": "code",
      "source": [
        "print(test.head(10))"
      ],
      "metadata": {
        "colab": {
          "base_uri": "https://localhost:8080/"
        },
        "id": "JJvPzEu8D_D1",
        "outputId": "a93164b1-21db-45bd-d124-7bd12f09edde"
      },
      "execution_count": null,
      "outputs": [
        {
          "output_type": "stream",
          "name": "stdout",
          "text": [
            "        Word    Tag\n",
            "0        Mar      O\n",
            "1          a      O\n",
            "2   tchítear      O\n",
            "3         do      O\n",
            "4   Sheosamh  B-PER\n",
            "5        Mac  I-PER\n",
            "6    Grianna  I-PER\n",
            "7          é      O\n",
            "8  caithfidh      O\n",
            "9         an      O\n"
          ]
        }
      ]
    },
    {
      "cell_type": "code",
      "source": [
        "print(val.head(10))"
      ],
      "metadata": {
        "colab": {
          "base_uri": "https://localhost:8080/"
        },
        "id": "OPgU7GkcFLWr",
        "outputId": "a84b83e9-7afc-47d3-84d2-9a04565422c6"
      },
      "execution_count": null,
      "outputs": [
        {
          "output_type": "stream",
          "name": "stdout",
          "text": [
            "         Word    Tag\n",
            "0  Crothnófar      O\n",
            "1         Pól  B-PER\n",
            "2          nó      O\n",
            "3          ba      O\n",
            "4   úrlabhraí      O\n",
            "5       maith      O\n",
            "6           é      O\n",
            "7          ar      O\n",
            "8      Raidió  B-ORG\n",
            "9          na  I-ORG\n"
          ]
        }
      ]
    },
    {
      "cell_type": "code",
      "source": [
        "def tag_count(df):\n",
        "    tag_counts = df['Tag'].value_counts().to_dict()\n",
        "    tag_counts = dict(sorted(tag_counts.items()))\n",
        "    return tag_counts"
      ],
      "metadata": {
        "id": "sIUmbn2iGHL-"
      },
      "execution_count": null,
      "outputs": []
    },
    {
      "cell_type": "code",
      "source": [
        "train_tags = tag_count(train)\n",
        "print(train_tags)\n",
        "val_tags = tag_count(val)\n",
        "print(val_tags)\n",
        "test_tags = tag_count(test)\n",
        "print(test_tags)"
      ],
      "metadata": {
        "colab": {
          "base_uri": "https://localhost:8080/"
        },
        "id": "U8u17aM4GP3b",
        "outputId": "a527ebdd-7d13-439e-cd65-e01bc2fdcb62"
      },
      "execution_count": null,
      "outputs": [
        {
          "output_type": "stream",
          "name": "stdout",
          "text": [
            "{'B-LOC': 677, 'B-ORG': 827, 'B-PER': 579, 'I-LOC': 757, 'I-ORG': 1439, 'I-PER': 639, 'O': 24868}\n",
            "{'B-LOC': 61, 'B-ORG': 75, 'B-PER': 65, 'I-LOC': 38, 'I-ORG': 102, 'I-PER': 85, 'O': 2507}\n",
            "{'B-LOC': 129, 'B-ORG': 97, 'B-PER': 109, 'I-LOC': 138, 'I-ORG': 136, 'I-PER': 115, 'O': 3388}\n"
          ]
        }
      ]
    },
    {
      "cell_type": "code",
      "source": [
        "def merge_B_I_tags(tag_counts):\n",
        "    merged_counts = {}\n",
        "\n",
        "    for tag in tag_counts:\n",
        "        if tag.startswith(('B-', 'I-')):\n",
        "            base_tag = tag[2:]  # Remove 'B-' or 'I-' prefix\n",
        "            if base_tag not in merged_counts:\n",
        "                merged_counts[base_tag] = tag_counts[tag]\n",
        "            else:\n",
        "                merged_counts[base_tag] += tag_counts[tag]\n",
        "\n",
        "    return merged_counts"
      ],
      "metadata": {
        "id": "Qdx9g2PCGywf"
      },
      "execution_count": null,
      "outputs": []
    },
    {
      "cell_type": "code",
      "source": [
        "merged_train = merge_B_I_tags(train_tags)\n",
        "merged_train['O'] = train_tags['O']\n",
        "print(merged_train)\n",
        "\n",
        "merged_val = merge_B_I_tags(val_tags)\n",
        "merged_val['O'] = val_tags['O']\n",
        "print(merged_val)\n",
        "\n",
        "merged_test = merge_B_I_tags(test_tags)\n",
        "merged_test['O'] = test_tags['O']\n",
        "print(merged_test)"
      ],
      "metadata": {
        "colab": {
          "base_uri": "https://localhost:8080/"
        },
        "id": "Cc6ZC-ArG1Wx",
        "outputId": "b2690885-0220-457a-f2f8-9d76ec0fd1a7"
      },
      "execution_count": null,
      "outputs": [
        {
          "output_type": "stream",
          "name": "stdout",
          "text": [
            "{'LOC': 1434, 'ORG': 2266, 'PER': 1218, 'O': 24868}\n",
            "{'LOC': 99, 'ORG': 177, 'PER': 150, 'O': 2507}\n",
            "{'LOC': 267, 'ORG': 233, 'PER': 224, 'O': 3388}\n"
          ]
        }
      ]
    },
    {
      "cell_type": "code",
      "source": [
        "counts = pd.DataFrame()\n",
        "counts['Tag'] = merged_train.keys()\n",
        "\n",
        "counts['Train'] = counts['Tag'].map(merged_train)\n",
        "counts['Validation'] = counts['Tag'].map(merged_val)\n",
        "counts['Test'] = counts['Tag'].map(merged_test)"
      ],
      "metadata": {
        "id": "Drta3tLEHYWy"
      },
      "execution_count": null,
      "outputs": []
    },
    {
      "cell_type": "code",
      "source": [
        "counts"
      ],
      "metadata": {
        "colab": {
          "base_uri": "https://localhost:8080/",
          "height": 174
        },
        "id": "lCEPcJGSJT-N",
        "outputId": "91441323-3747-40db-afae-33d6fc92302a"
      },
      "execution_count": null,
      "outputs": [
        {
          "output_type": "execute_result",
          "data": {
            "text/plain": [
              "   Tag  Train  Validation  Test\n",
              "0  LOC   1434          99   267\n",
              "1  ORG   2266         177   233\n",
              "2  PER   1218         150   224\n",
              "3    O  24868        2507  3388"
            ],
            "text/html": [
              "\n",
              "  <div id=\"df-8f9aeb85-d378-4f4c-ab62-a4c88a3102f6\" class=\"colab-df-container\">\n",
              "    <div>\n",
              "<style scoped>\n",
              "    .dataframe tbody tr th:only-of-type {\n",
              "        vertical-align: middle;\n",
              "    }\n",
              "\n",
              "    .dataframe tbody tr th {\n",
              "        vertical-align: top;\n",
              "    }\n",
              "\n",
              "    .dataframe thead th {\n",
              "        text-align: right;\n",
              "    }\n",
              "</style>\n",
              "<table border=\"1\" class=\"dataframe\">\n",
              "  <thead>\n",
              "    <tr style=\"text-align: right;\">\n",
              "      <th></th>\n",
              "      <th>Tag</th>\n",
              "      <th>Train</th>\n",
              "      <th>Validation</th>\n",
              "      <th>Test</th>\n",
              "    </tr>\n",
              "  </thead>\n",
              "  <tbody>\n",
              "    <tr>\n",
              "      <th>0</th>\n",
              "      <td>LOC</td>\n",
              "      <td>1434</td>\n",
              "      <td>99</td>\n",
              "      <td>267</td>\n",
              "    </tr>\n",
              "    <tr>\n",
              "      <th>1</th>\n",
              "      <td>ORG</td>\n",
              "      <td>2266</td>\n",
              "      <td>177</td>\n",
              "      <td>233</td>\n",
              "    </tr>\n",
              "    <tr>\n",
              "      <th>2</th>\n",
              "      <td>PER</td>\n",
              "      <td>1218</td>\n",
              "      <td>150</td>\n",
              "      <td>224</td>\n",
              "    </tr>\n",
              "    <tr>\n",
              "      <th>3</th>\n",
              "      <td>O</td>\n",
              "      <td>24868</td>\n",
              "      <td>2507</td>\n",
              "      <td>3388</td>\n",
              "    </tr>\n",
              "  </tbody>\n",
              "</table>\n",
              "</div>\n",
              "    <div class=\"colab-df-buttons\">\n",
              "\n",
              "  <div class=\"colab-df-container\">\n",
              "    <button class=\"colab-df-convert\" onclick=\"convertToInteractive('df-8f9aeb85-d378-4f4c-ab62-a4c88a3102f6')\"\n",
              "            title=\"Convert this dataframe to an interactive table.\"\n",
              "            style=\"display:none;\">\n",
              "\n",
              "  <svg xmlns=\"http://www.w3.org/2000/svg\" height=\"24px\" viewBox=\"0 -960 960 960\">\n",
              "    <path d=\"M120-120v-720h720v720H120Zm60-500h600v-160H180v160Zm220 220h160v-160H400v160Zm0 220h160v-160H400v160ZM180-400h160v-160H180v160Zm440 0h160v-160H620v160ZM180-180h160v-160H180v160Zm440 0h160v-160H620v160Z\"/>\n",
              "  </svg>\n",
              "    </button>\n",
              "\n",
              "  <style>\n",
              "    .colab-df-container {\n",
              "      display:flex;\n",
              "      gap: 12px;\n",
              "    }\n",
              "\n",
              "    .colab-df-convert {\n",
              "      background-color: #E8F0FE;\n",
              "      border: none;\n",
              "      border-radius: 50%;\n",
              "      cursor: pointer;\n",
              "      display: none;\n",
              "      fill: #1967D2;\n",
              "      height: 32px;\n",
              "      padding: 0 0 0 0;\n",
              "      width: 32px;\n",
              "    }\n",
              "\n",
              "    .colab-df-convert:hover {\n",
              "      background-color: #E2EBFA;\n",
              "      box-shadow: 0px 1px 2px rgba(60, 64, 67, 0.3), 0px 1px 3px 1px rgba(60, 64, 67, 0.15);\n",
              "      fill: #174EA6;\n",
              "    }\n",
              "\n",
              "    .colab-df-buttons div {\n",
              "      margin-bottom: 4px;\n",
              "    }\n",
              "\n",
              "    [theme=dark] .colab-df-convert {\n",
              "      background-color: #3B4455;\n",
              "      fill: #D2E3FC;\n",
              "    }\n",
              "\n",
              "    [theme=dark] .colab-df-convert:hover {\n",
              "      background-color: #434B5C;\n",
              "      box-shadow: 0px 1px 3px 1px rgba(0, 0, 0, 0.15);\n",
              "      filter: drop-shadow(0px 1px 2px rgba(0, 0, 0, 0.3));\n",
              "      fill: #FFFFFF;\n",
              "    }\n",
              "  </style>\n",
              "\n",
              "    <script>\n",
              "      const buttonEl =\n",
              "        document.querySelector('#df-8f9aeb85-d378-4f4c-ab62-a4c88a3102f6 button.colab-df-convert');\n",
              "      buttonEl.style.display =\n",
              "        google.colab.kernel.accessAllowed ? 'block' : 'none';\n",
              "\n",
              "      async function convertToInteractive(key) {\n",
              "        const element = document.querySelector('#df-8f9aeb85-d378-4f4c-ab62-a4c88a3102f6');\n",
              "        const dataTable =\n",
              "          await google.colab.kernel.invokeFunction('convertToInteractive',\n",
              "                                                    [key], {});\n",
              "        if (!dataTable) return;\n",
              "\n",
              "        const docLinkHtml = 'Like what you see? Visit the ' +\n",
              "          '<a target=\"_blank\" href=https://colab.research.google.com/notebooks/data_table.ipynb>data table notebook</a>'\n",
              "          + ' to learn more about interactive tables.';\n",
              "        element.innerHTML = '';\n",
              "        dataTable['output_type'] = 'display_data';\n",
              "        await google.colab.output.renderOutput(dataTable, element);\n",
              "        const docLink = document.createElement('div');\n",
              "        docLink.innerHTML = docLinkHtml;\n",
              "        element.appendChild(docLink);\n",
              "      }\n",
              "    </script>\n",
              "  </div>\n",
              "\n",
              "\n",
              "<div id=\"df-fbdc434a-e953-43a6-8917-015c9bf966d0\">\n",
              "  <button class=\"colab-df-quickchart\" onclick=\"quickchart('df-fbdc434a-e953-43a6-8917-015c9bf966d0')\"\n",
              "            title=\"Suggest charts\"\n",
              "            style=\"display:none;\">\n",
              "\n",
              "<svg xmlns=\"http://www.w3.org/2000/svg\" height=\"24px\"viewBox=\"0 0 24 24\"\n",
              "     width=\"24px\">\n",
              "    <g>\n",
              "        <path d=\"M19 3H5c-1.1 0-2 .9-2 2v14c0 1.1.9 2 2 2h14c1.1 0 2-.9 2-2V5c0-1.1-.9-2-2-2zM9 17H7v-7h2v7zm4 0h-2V7h2v10zm4 0h-2v-4h2v4z\"/>\n",
              "    </g>\n",
              "</svg>\n",
              "  </button>\n",
              "\n",
              "<style>\n",
              "  .colab-df-quickchart {\n",
              "      --bg-color: #E8F0FE;\n",
              "      --fill-color: #1967D2;\n",
              "      --hover-bg-color: #E2EBFA;\n",
              "      --hover-fill-color: #174EA6;\n",
              "      --disabled-fill-color: #AAA;\n",
              "      --disabled-bg-color: #DDD;\n",
              "  }\n",
              "\n",
              "  [theme=dark] .colab-df-quickchart {\n",
              "      --bg-color: #3B4455;\n",
              "      --fill-color: #D2E3FC;\n",
              "      --hover-bg-color: #434B5C;\n",
              "      --hover-fill-color: #FFFFFF;\n",
              "      --disabled-bg-color: #3B4455;\n",
              "      --disabled-fill-color: #666;\n",
              "  }\n",
              "\n",
              "  .colab-df-quickchart {\n",
              "    background-color: var(--bg-color);\n",
              "    border: none;\n",
              "    border-radius: 50%;\n",
              "    cursor: pointer;\n",
              "    display: none;\n",
              "    fill: var(--fill-color);\n",
              "    height: 32px;\n",
              "    padding: 0;\n",
              "    width: 32px;\n",
              "  }\n",
              "\n",
              "  .colab-df-quickchart:hover {\n",
              "    background-color: var(--hover-bg-color);\n",
              "    box-shadow: 0 1px 2px rgba(60, 64, 67, 0.3), 0 1px 3px 1px rgba(60, 64, 67, 0.15);\n",
              "    fill: var(--button-hover-fill-color);\n",
              "  }\n",
              "\n",
              "  .colab-df-quickchart-complete:disabled,\n",
              "  .colab-df-quickchart-complete:disabled:hover {\n",
              "    background-color: var(--disabled-bg-color);\n",
              "    fill: var(--disabled-fill-color);\n",
              "    box-shadow: none;\n",
              "  }\n",
              "\n",
              "  .colab-df-spinner {\n",
              "    border: 2px solid var(--fill-color);\n",
              "    border-color: transparent;\n",
              "    border-bottom-color: var(--fill-color);\n",
              "    animation:\n",
              "      spin 1s steps(1) infinite;\n",
              "  }\n",
              "\n",
              "  @keyframes spin {\n",
              "    0% {\n",
              "      border-color: transparent;\n",
              "      border-bottom-color: var(--fill-color);\n",
              "      border-left-color: var(--fill-color);\n",
              "    }\n",
              "    20% {\n",
              "      border-color: transparent;\n",
              "      border-left-color: var(--fill-color);\n",
              "      border-top-color: var(--fill-color);\n",
              "    }\n",
              "    30% {\n",
              "      border-color: transparent;\n",
              "      border-left-color: var(--fill-color);\n",
              "      border-top-color: var(--fill-color);\n",
              "      border-right-color: var(--fill-color);\n",
              "    }\n",
              "    40% {\n",
              "      border-color: transparent;\n",
              "      border-right-color: var(--fill-color);\n",
              "      border-top-color: var(--fill-color);\n",
              "    }\n",
              "    60% {\n",
              "      border-color: transparent;\n",
              "      border-right-color: var(--fill-color);\n",
              "    }\n",
              "    80% {\n",
              "      border-color: transparent;\n",
              "      border-right-color: var(--fill-color);\n",
              "      border-bottom-color: var(--fill-color);\n",
              "    }\n",
              "    90% {\n",
              "      border-color: transparent;\n",
              "      border-bottom-color: var(--fill-color);\n",
              "    }\n",
              "  }\n",
              "</style>\n",
              "\n",
              "  <script>\n",
              "    async function quickchart(key) {\n",
              "      const quickchartButtonEl =\n",
              "        document.querySelector('#' + key + ' button');\n",
              "      quickchartButtonEl.disabled = true;  // To prevent multiple clicks.\n",
              "      quickchartButtonEl.classList.add('colab-df-spinner');\n",
              "      try {\n",
              "        const charts = await google.colab.kernel.invokeFunction(\n",
              "            'suggestCharts', [key], {});\n",
              "      } catch (error) {\n",
              "        console.error('Error during call to suggestCharts:', error);\n",
              "      }\n",
              "      quickchartButtonEl.classList.remove('colab-df-spinner');\n",
              "      quickchartButtonEl.classList.add('colab-df-quickchart-complete');\n",
              "    }\n",
              "    (() => {\n",
              "      let quickchartButtonEl =\n",
              "        document.querySelector('#df-fbdc434a-e953-43a6-8917-015c9bf966d0 button');\n",
              "      quickchartButtonEl.style.display =\n",
              "        google.colab.kernel.accessAllowed ? 'block' : 'none';\n",
              "    })();\n",
              "  </script>\n",
              "</div>\n",
              "    </div>\n",
              "  </div>\n"
            ],
            "application/vnd.google.colaboratory.intrinsic+json": {
              "type": "dataframe",
              "variable_name": "counts",
              "summary": "{\n  \"name\": \"counts\",\n  \"rows\": 4,\n  \"fields\": [\n    {\n      \"column\": \"Tag\",\n      \"properties\": {\n        \"dtype\": \"string\",\n        \"num_unique_values\": 4,\n        \"samples\": [\n          \"ORG\",\n          \"O\",\n          \"LOC\"\n        ],\n        \"semantic_type\": \"\",\n        \"description\": \"\"\n      }\n    },\n    {\n      \"column\": \"Train\",\n      \"properties\": {\n        \"dtype\": \"number\",\n        \"std\": 11623,\n        \"min\": 1218,\n        \"max\": 24868,\n        \"num_unique_values\": 4,\n        \"samples\": [\n          2266,\n          24868,\n          1434\n        ],\n        \"semantic_type\": \"\",\n        \"description\": \"\"\n      }\n    },\n    {\n      \"column\": \"Validation\",\n      \"properties\": {\n        \"dtype\": \"number\",\n        \"std\": 1182,\n        \"min\": 99,\n        \"max\": 2507,\n        \"num_unique_values\": 4,\n        \"samples\": [\n          177,\n          2507,\n          99\n        ],\n        \"semantic_type\": \"\",\n        \"description\": \"\"\n      }\n    },\n    {\n      \"column\": \"Test\",\n      \"properties\": {\n        \"dtype\": \"number\",\n        \"std\": 1573,\n        \"min\": 224,\n        \"max\": 3388,\n        \"num_unique_values\": 4,\n        \"samples\": [\n          233,\n          3388,\n          267\n        ],\n        \"semantic_type\": \"\",\n        \"description\": \"\"\n      }\n    }\n  ]\n}"
            }
          },
          "metadata": {},
          "execution_count": 13
        }
      ]
    },
    {
      "cell_type": "code",
      "source": [
        "counts = counts.reset_index(drop=True)\n",
        "counts"
      ],
      "metadata": {
        "colab": {
          "base_uri": "https://localhost:8080/",
          "height": 174
        },
        "id": "i0zuA8pxIisX",
        "outputId": "b116cf13-dda6-4b89-bf86-5370bd93510a"
      },
      "execution_count": null,
      "outputs": [
        {
          "output_type": "execute_result",
          "data": {
            "text/plain": [
              "   Tag  Train  Validation  Test\n",
              "0  LOC   1434          99   267\n",
              "1  ORG   2266         177   233\n",
              "2  PER   1218         150   224\n",
              "3    O  24868        2507  3388"
            ],
            "text/html": [
              "\n",
              "  <div id=\"df-494d0b87-9bec-434d-b935-a56281ebc7ac\" class=\"colab-df-container\">\n",
              "    <div>\n",
              "<style scoped>\n",
              "    .dataframe tbody tr th:only-of-type {\n",
              "        vertical-align: middle;\n",
              "    }\n",
              "\n",
              "    .dataframe tbody tr th {\n",
              "        vertical-align: top;\n",
              "    }\n",
              "\n",
              "    .dataframe thead th {\n",
              "        text-align: right;\n",
              "    }\n",
              "</style>\n",
              "<table border=\"1\" class=\"dataframe\">\n",
              "  <thead>\n",
              "    <tr style=\"text-align: right;\">\n",
              "      <th></th>\n",
              "      <th>Tag</th>\n",
              "      <th>Train</th>\n",
              "      <th>Validation</th>\n",
              "      <th>Test</th>\n",
              "    </tr>\n",
              "  </thead>\n",
              "  <tbody>\n",
              "    <tr>\n",
              "      <th>0</th>\n",
              "      <td>LOC</td>\n",
              "      <td>1434</td>\n",
              "      <td>99</td>\n",
              "      <td>267</td>\n",
              "    </tr>\n",
              "    <tr>\n",
              "      <th>1</th>\n",
              "      <td>ORG</td>\n",
              "      <td>2266</td>\n",
              "      <td>177</td>\n",
              "      <td>233</td>\n",
              "    </tr>\n",
              "    <tr>\n",
              "      <th>2</th>\n",
              "      <td>PER</td>\n",
              "      <td>1218</td>\n",
              "      <td>150</td>\n",
              "      <td>224</td>\n",
              "    </tr>\n",
              "    <tr>\n",
              "      <th>3</th>\n",
              "      <td>O</td>\n",
              "      <td>24868</td>\n",
              "      <td>2507</td>\n",
              "      <td>3388</td>\n",
              "    </tr>\n",
              "  </tbody>\n",
              "</table>\n",
              "</div>\n",
              "    <div class=\"colab-df-buttons\">\n",
              "\n",
              "  <div class=\"colab-df-container\">\n",
              "    <button class=\"colab-df-convert\" onclick=\"convertToInteractive('df-494d0b87-9bec-434d-b935-a56281ebc7ac')\"\n",
              "            title=\"Convert this dataframe to an interactive table.\"\n",
              "            style=\"display:none;\">\n",
              "\n",
              "  <svg xmlns=\"http://www.w3.org/2000/svg\" height=\"24px\" viewBox=\"0 -960 960 960\">\n",
              "    <path d=\"M120-120v-720h720v720H120Zm60-500h600v-160H180v160Zm220 220h160v-160H400v160Zm0 220h160v-160H400v160ZM180-400h160v-160H180v160Zm440 0h160v-160H620v160ZM180-180h160v-160H180v160Zm440 0h160v-160H620v160Z\"/>\n",
              "  </svg>\n",
              "    </button>\n",
              "\n",
              "  <style>\n",
              "    .colab-df-container {\n",
              "      display:flex;\n",
              "      gap: 12px;\n",
              "    }\n",
              "\n",
              "    .colab-df-convert {\n",
              "      background-color: #E8F0FE;\n",
              "      border: none;\n",
              "      border-radius: 50%;\n",
              "      cursor: pointer;\n",
              "      display: none;\n",
              "      fill: #1967D2;\n",
              "      height: 32px;\n",
              "      padding: 0 0 0 0;\n",
              "      width: 32px;\n",
              "    }\n",
              "\n",
              "    .colab-df-convert:hover {\n",
              "      background-color: #E2EBFA;\n",
              "      box-shadow: 0px 1px 2px rgba(60, 64, 67, 0.3), 0px 1px 3px 1px rgba(60, 64, 67, 0.15);\n",
              "      fill: #174EA6;\n",
              "    }\n",
              "\n",
              "    .colab-df-buttons div {\n",
              "      margin-bottom: 4px;\n",
              "    }\n",
              "\n",
              "    [theme=dark] .colab-df-convert {\n",
              "      background-color: #3B4455;\n",
              "      fill: #D2E3FC;\n",
              "    }\n",
              "\n",
              "    [theme=dark] .colab-df-convert:hover {\n",
              "      background-color: #434B5C;\n",
              "      box-shadow: 0px 1px 3px 1px rgba(0, 0, 0, 0.15);\n",
              "      filter: drop-shadow(0px 1px 2px rgba(0, 0, 0, 0.3));\n",
              "      fill: #FFFFFF;\n",
              "    }\n",
              "  </style>\n",
              "\n",
              "    <script>\n",
              "      const buttonEl =\n",
              "        document.querySelector('#df-494d0b87-9bec-434d-b935-a56281ebc7ac button.colab-df-convert');\n",
              "      buttonEl.style.display =\n",
              "        google.colab.kernel.accessAllowed ? 'block' : 'none';\n",
              "\n",
              "      async function convertToInteractive(key) {\n",
              "        const element = document.querySelector('#df-494d0b87-9bec-434d-b935-a56281ebc7ac');\n",
              "        const dataTable =\n",
              "          await google.colab.kernel.invokeFunction('convertToInteractive',\n",
              "                                                    [key], {});\n",
              "        if (!dataTable) return;\n",
              "\n",
              "        const docLinkHtml = 'Like what you see? Visit the ' +\n",
              "          '<a target=\"_blank\" href=https://colab.research.google.com/notebooks/data_table.ipynb>data table notebook</a>'\n",
              "          + ' to learn more about interactive tables.';\n",
              "        element.innerHTML = '';\n",
              "        dataTable['output_type'] = 'display_data';\n",
              "        await google.colab.output.renderOutput(dataTable, element);\n",
              "        const docLink = document.createElement('div');\n",
              "        docLink.innerHTML = docLinkHtml;\n",
              "        element.appendChild(docLink);\n",
              "      }\n",
              "    </script>\n",
              "  </div>\n",
              "\n",
              "\n",
              "<div id=\"df-db8250ea-e44b-4d12-aef8-04bf460f9541\">\n",
              "  <button class=\"colab-df-quickchart\" onclick=\"quickchart('df-db8250ea-e44b-4d12-aef8-04bf460f9541')\"\n",
              "            title=\"Suggest charts\"\n",
              "            style=\"display:none;\">\n",
              "\n",
              "<svg xmlns=\"http://www.w3.org/2000/svg\" height=\"24px\"viewBox=\"0 0 24 24\"\n",
              "     width=\"24px\">\n",
              "    <g>\n",
              "        <path d=\"M19 3H5c-1.1 0-2 .9-2 2v14c0 1.1.9 2 2 2h14c1.1 0 2-.9 2-2V5c0-1.1-.9-2-2-2zM9 17H7v-7h2v7zm4 0h-2V7h2v10zm4 0h-2v-4h2v4z\"/>\n",
              "    </g>\n",
              "</svg>\n",
              "  </button>\n",
              "\n",
              "<style>\n",
              "  .colab-df-quickchart {\n",
              "      --bg-color: #E8F0FE;\n",
              "      --fill-color: #1967D2;\n",
              "      --hover-bg-color: #E2EBFA;\n",
              "      --hover-fill-color: #174EA6;\n",
              "      --disabled-fill-color: #AAA;\n",
              "      --disabled-bg-color: #DDD;\n",
              "  }\n",
              "\n",
              "  [theme=dark] .colab-df-quickchart {\n",
              "      --bg-color: #3B4455;\n",
              "      --fill-color: #D2E3FC;\n",
              "      --hover-bg-color: #434B5C;\n",
              "      --hover-fill-color: #FFFFFF;\n",
              "      --disabled-bg-color: #3B4455;\n",
              "      --disabled-fill-color: #666;\n",
              "  }\n",
              "\n",
              "  .colab-df-quickchart {\n",
              "    background-color: var(--bg-color);\n",
              "    border: none;\n",
              "    border-radius: 50%;\n",
              "    cursor: pointer;\n",
              "    display: none;\n",
              "    fill: var(--fill-color);\n",
              "    height: 32px;\n",
              "    padding: 0;\n",
              "    width: 32px;\n",
              "  }\n",
              "\n",
              "  .colab-df-quickchart:hover {\n",
              "    background-color: var(--hover-bg-color);\n",
              "    box-shadow: 0 1px 2px rgba(60, 64, 67, 0.3), 0 1px 3px 1px rgba(60, 64, 67, 0.15);\n",
              "    fill: var(--button-hover-fill-color);\n",
              "  }\n",
              "\n",
              "  .colab-df-quickchart-complete:disabled,\n",
              "  .colab-df-quickchart-complete:disabled:hover {\n",
              "    background-color: var(--disabled-bg-color);\n",
              "    fill: var(--disabled-fill-color);\n",
              "    box-shadow: none;\n",
              "  }\n",
              "\n",
              "  .colab-df-spinner {\n",
              "    border: 2px solid var(--fill-color);\n",
              "    border-color: transparent;\n",
              "    border-bottom-color: var(--fill-color);\n",
              "    animation:\n",
              "      spin 1s steps(1) infinite;\n",
              "  }\n",
              "\n",
              "  @keyframes spin {\n",
              "    0% {\n",
              "      border-color: transparent;\n",
              "      border-bottom-color: var(--fill-color);\n",
              "      border-left-color: var(--fill-color);\n",
              "    }\n",
              "    20% {\n",
              "      border-color: transparent;\n",
              "      border-left-color: var(--fill-color);\n",
              "      border-top-color: var(--fill-color);\n",
              "    }\n",
              "    30% {\n",
              "      border-color: transparent;\n",
              "      border-left-color: var(--fill-color);\n",
              "      border-top-color: var(--fill-color);\n",
              "      border-right-color: var(--fill-color);\n",
              "    }\n",
              "    40% {\n",
              "      border-color: transparent;\n",
              "      border-right-color: var(--fill-color);\n",
              "      border-top-color: var(--fill-color);\n",
              "    }\n",
              "    60% {\n",
              "      border-color: transparent;\n",
              "      border-right-color: var(--fill-color);\n",
              "    }\n",
              "    80% {\n",
              "      border-color: transparent;\n",
              "      border-right-color: var(--fill-color);\n",
              "      border-bottom-color: var(--fill-color);\n",
              "    }\n",
              "    90% {\n",
              "      border-color: transparent;\n",
              "      border-bottom-color: var(--fill-color);\n",
              "    }\n",
              "  }\n",
              "</style>\n",
              "\n",
              "  <script>\n",
              "    async function quickchart(key) {\n",
              "      const quickchartButtonEl =\n",
              "        document.querySelector('#' + key + ' button');\n",
              "      quickchartButtonEl.disabled = true;  // To prevent multiple clicks.\n",
              "      quickchartButtonEl.classList.add('colab-df-spinner');\n",
              "      try {\n",
              "        const charts = await google.colab.kernel.invokeFunction(\n",
              "            'suggestCharts', [key], {});\n",
              "      } catch (error) {\n",
              "        console.error('Error during call to suggestCharts:', error);\n",
              "      }\n",
              "      quickchartButtonEl.classList.remove('colab-df-spinner');\n",
              "      quickchartButtonEl.classList.add('colab-df-quickchart-complete');\n",
              "    }\n",
              "    (() => {\n",
              "      let quickchartButtonEl =\n",
              "        document.querySelector('#df-db8250ea-e44b-4d12-aef8-04bf460f9541 button');\n",
              "      quickchartButtonEl.style.display =\n",
              "        google.colab.kernel.accessAllowed ? 'block' : 'none';\n",
              "    })();\n",
              "  </script>\n",
              "</div>\n",
              "    </div>\n",
              "  </div>\n"
            ],
            "application/vnd.google.colaboratory.intrinsic+json": {
              "type": "dataframe",
              "variable_name": "counts",
              "summary": "{\n  \"name\": \"counts\",\n  \"rows\": 4,\n  \"fields\": [\n    {\n      \"column\": \"Tag\",\n      \"properties\": {\n        \"dtype\": \"string\",\n        \"num_unique_values\": 4,\n        \"samples\": [\n          \"ORG\",\n          \"O\",\n          \"LOC\"\n        ],\n        \"semantic_type\": \"\",\n        \"description\": \"\"\n      }\n    },\n    {\n      \"column\": \"Train\",\n      \"properties\": {\n        \"dtype\": \"number\",\n        \"std\": 11623,\n        \"min\": 1218,\n        \"max\": 24868,\n        \"num_unique_values\": 4,\n        \"samples\": [\n          2266,\n          24868,\n          1434\n        ],\n        \"semantic_type\": \"\",\n        \"description\": \"\"\n      }\n    },\n    {\n      \"column\": \"Validation\",\n      \"properties\": {\n        \"dtype\": \"number\",\n        \"std\": 1182,\n        \"min\": 99,\n        \"max\": 2507,\n        \"num_unique_values\": 4,\n        \"samples\": [\n          177,\n          2507,\n          99\n        ],\n        \"semantic_type\": \"\",\n        \"description\": \"\"\n      }\n    },\n    {\n      \"column\": \"Test\",\n      \"properties\": {\n        \"dtype\": \"number\",\n        \"std\": 1573,\n        \"min\": 224,\n        \"max\": 3388,\n        \"num_unique_values\": 4,\n        \"samples\": [\n          233,\n          3388,\n          267\n        ],\n        \"semantic_type\": \"\",\n        \"description\": \"\"\n      }\n    }\n  ]\n}"
            }
          },
          "metadata": {},
          "execution_count": 14
        }
      ]
    },
    {
      "cell_type": "code",
      "source": [
        "transposed_df = counts.pivot_table(index='Tag', values=['Train', 'Validation', 'Test'], aggfunc='sum')\n",
        "\n",
        "transposed_df"
      ],
      "metadata": {
        "colab": {
          "base_uri": "https://localhost:8080/",
          "height": 206
        },
        "id": "trs8m8o1J1hW",
        "outputId": "ae0616f6-7111-4e6f-cfb0-42e294262fb3"
      },
      "execution_count": null,
      "outputs": [
        {
          "output_type": "execute_result",
          "data": {
            "text/plain": [
              "     Test  Train  Validation\n",
              "Tag                         \n",
              "LOC   267   1434          99\n",
              "O    3388  24868        2507\n",
              "ORG   233   2266         177\n",
              "PER   224   1218         150"
            ],
            "text/html": [
              "\n",
              "  <div id=\"df-af5e0dd5-d9ca-48ef-9143-193f72e49af3\" class=\"colab-df-container\">\n",
              "    <div>\n",
              "<style scoped>\n",
              "    .dataframe tbody tr th:only-of-type {\n",
              "        vertical-align: middle;\n",
              "    }\n",
              "\n",
              "    .dataframe tbody tr th {\n",
              "        vertical-align: top;\n",
              "    }\n",
              "\n",
              "    .dataframe thead th {\n",
              "        text-align: right;\n",
              "    }\n",
              "</style>\n",
              "<table border=\"1\" class=\"dataframe\">\n",
              "  <thead>\n",
              "    <tr style=\"text-align: right;\">\n",
              "      <th></th>\n",
              "      <th>Test</th>\n",
              "      <th>Train</th>\n",
              "      <th>Validation</th>\n",
              "    </tr>\n",
              "    <tr>\n",
              "      <th>Tag</th>\n",
              "      <th></th>\n",
              "      <th></th>\n",
              "      <th></th>\n",
              "    </tr>\n",
              "  </thead>\n",
              "  <tbody>\n",
              "    <tr>\n",
              "      <th>LOC</th>\n",
              "      <td>267</td>\n",
              "      <td>1434</td>\n",
              "      <td>99</td>\n",
              "    </tr>\n",
              "    <tr>\n",
              "      <th>O</th>\n",
              "      <td>3388</td>\n",
              "      <td>24868</td>\n",
              "      <td>2507</td>\n",
              "    </tr>\n",
              "    <tr>\n",
              "      <th>ORG</th>\n",
              "      <td>233</td>\n",
              "      <td>2266</td>\n",
              "      <td>177</td>\n",
              "    </tr>\n",
              "    <tr>\n",
              "      <th>PER</th>\n",
              "      <td>224</td>\n",
              "      <td>1218</td>\n",
              "      <td>150</td>\n",
              "    </tr>\n",
              "  </tbody>\n",
              "</table>\n",
              "</div>\n",
              "    <div class=\"colab-df-buttons\">\n",
              "\n",
              "  <div class=\"colab-df-container\">\n",
              "    <button class=\"colab-df-convert\" onclick=\"convertToInteractive('df-af5e0dd5-d9ca-48ef-9143-193f72e49af3')\"\n",
              "            title=\"Convert this dataframe to an interactive table.\"\n",
              "            style=\"display:none;\">\n",
              "\n",
              "  <svg xmlns=\"http://www.w3.org/2000/svg\" height=\"24px\" viewBox=\"0 -960 960 960\">\n",
              "    <path d=\"M120-120v-720h720v720H120Zm60-500h600v-160H180v160Zm220 220h160v-160H400v160Zm0 220h160v-160H400v160ZM180-400h160v-160H180v160Zm440 0h160v-160H620v160ZM180-180h160v-160H180v160Zm440 0h160v-160H620v160Z\"/>\n",
              "  </svg>\n",
              "    </button>\n",
              "\n",
              "  <style>\n",
              "    .colab-df-container {\n",
              "      display:flex;\n",
              "      gap: 12px;\n",
              "    }\n",
              "\n",
              "    .colab-df-convert {\n",
              "      background-color: #E8F0FE;\n",
              "      border: none;\n",
              "      border-radius: 50%;\n",
              "      cursor: pointer;\n",
              "      display: none;\n",
              "      fill: #1967D2;\n",
              "      height: 32px;\n",
              "      padding: 0 0 0 0;\n",
              "      width: 32px;\n",
              "    }\n",
              "\n",
              "    .colab-df-convert:hover {\n",
              "      background-color: #E2EBFA;\n",
              "      box-shadow: 0px 1px 2px rgba(60, 64, 67, 0.3), 0px 1px 3px 1px rgba(60, 64, 67, 0.15);\n",
              "      fill: #174EA6;\n",
              "    }\n",
              "\n",
              "    .colab-df-buttons div {\n",
              "      margin-bottom: 4px;\n",
              "    }\n",
              "\n",
              "    [theme=dark] .colab-df-convert {\n",
              "      background-color: #3B4455;\n",
              "      fill: #D2E3FC;\n",
              "    }\n",
              "\n",
              "    [theme=dark] .colab-df-convert:hover {\n",
              "      background-color: #434B5C;\n",
              "      box-shadow: 0px 1px 3px 1px rgba(0, 0, 0, 0.15);\n",
              "      filter: drop-shadow(0px 1px 2px rgba(0, 0, 0, 0.3));\n",
              "      fill: #FFFFFF;\n",
              "    }\n",
              "  </style>\n",
              "\n",
              "    <script>\n",
              "      const buttonEl =\n",
              "        document.querySelector('#df-af5e0dd5-d9ca-48ef-9143-193f72e49af3 button.colab-df-convert');\n",
              "      buttonEl.style.display =\n",
              "        google.colab.kernel.accessAllowed ? 'block' : 'none';\n",
              "\n",
              "      async function convertToInteractive(key) {\n",
              "        const element = document.querySelector('#df-af5e0dd5-d9ca-48ef-9143-193f72e49af3');\n",
              "        const dataTable =\n",
              "          await google.colab.kernel.invokeFunction('convertToInteractive',\n",
              "                                                    [key], {});\n",
              "        if (!dataTable) return;\n",
              "\n",
              "        const docLinkHtml = 'Like what you see? Visit the ' +\n",
              "          '<a target=\"_blank\" href=https://colab.research.google.com/notebooks/data_table.ipynb>data table notebook</a>'\n",
              "          + ' to learn more about interactive tables.';\n",
              "        element.innerHTML = '';\n",
              "        dataTable['output_type'] = 'display_data';\n",
              "        await google.colab.output.renderOutput(dataTable, element);\n",
              "        const docLink = document.createElement('div');\n",
              "        docLink.innerHTML = docLinkHtml;\n",
              "        element.appendChild(docLink);\n",
              "      }\n",
              "    </script>\n",
              "  </div>\n",
              "\n",
              "\n",
              "<div id=\"df-2367b116-c790-437a-a259-d30bb9b4a302\">\n",
              "  <button class=\"colab-df-quickchart\" onclick=\"quickchart('df-2367b116-c790-437a-a259-d30bb9b4a302')\"\n",
              "            title=\"Suggest charts\"\n",
              "            style=\"display:none;\">\n",
              "\n",
              "<svg xmlns=\"http://www.w3.org/2000/svg\" height=\"24px\"viewBox=\"0 0 24 24\"\n",
              "     width=\"24px\">\n",
              "    <g>\n",
              "        <path d=\"M19 3H5c-1.1 0-2 .9-2 2v14c0 1.1.9 2 2 2h14c1.1 0 2-.9 2-2V5c0-1.1-.9-2-2-2zM9 17H7v-7h2v7zm4 0h-2V7h2v10zm4 0h-2v-4h2v4z\"/>\n",
              "    </g>\n",
              "</svg>\n",
              "  </button>\n",
              "\n",
              "<style>\n",
              "  .colab-df-quickchart {\n",
              "      --bg-color: #E8F0FE;\n",
              "      --fill-color: #1967D2;\n",
              "      --hover-bg-color: #E2EBFA;\n",
              "      --hover-fill-color: #174EA6;\n",
              "      --disabled-fill-color: #AAA;\n",
              "      --disabled-bg-color: #DDD;\n",
              "  }\n",
              "\n",
              "  [theme=dark] .colab-df-quickchart {\n",
              "      --bg-color: #3B4455;\n",
              "      --fill-color: #D2E3FC;\n",
              "      --hover-bg-color: #434B5C;\n",
              "      --hover-fill-color: #FFFFFF;\n",
              "      --disabled-bg-color: #3B4455;\n",
              "      --disabled-fill-color: #666;\n",
              "  }\n",
              "\n",
              "  .colab-df-quickchart {\n",
              "    background-color: var(--bg-color);\n",
              "    border: none;\n",
              "    border-radius: 50%;\n",
              "    cursor: pointer;\n",
              "    display: none;\n",
              "    fill: var(--fill-color);\n",
              "    height: 32px;\n",
              "    padding: 0;\n",
              "    width: 32px;\n",
              "  }\n",
              "\n",
              "  .colab-df-quickchart:hover {\n",
              "    background-color: var(--hover-bg-color);\n",
              "    box-shadow: 0 1px 2px rgba(60, 64, 67, 0.3), 0 1px 3px 1px rgba(60, 64, 67, 0.15);\n",
              "    fill: var(--button-hover-fill-color);\n",
              "  }\n",
              "\n",
              "  .colab-df-quickchart-complete:disabled,\n",
              "  .colab-df-quickchart-complete:disabled:hover {\n",
              "    background-color: var(--disabled-bg-color);\n",
              "    fill: var(--disabled-fill-color);\n",
              "    box-shadow: none;\n",
              "  }\n",
              "\n",
              "  .colab-df-spinner {\n",
              "    border: 2px solid var(--fill-color);\n",
              "    border-color: transparent;\n",
              "    border-bottom-color: var(--fill-color);\n",
              "    animation:\n",
              "      spin 1s steps(1) infinite;\n",
              "  }\n",
              "\n",
              "  @keyframes spin {\n",
              "    0% {\n",
              "      border-color: transparent;\n",
              "      border-bottom-color: var(--fill-color);\n",
              "      border-left-color: var(--fill-color);\n",
              "    }\n",
              "    20% {\n",
              "      border-color: transparent;\n",
              "      border-left-color: var(--fill-color);\n",
              "      border-top-color: var(--fill-color);\n",
              "    }\n",
              "    30% {\n",
              "      border-color: transparent;\n",
              "      border-left-color: var(--fill-color);\n",
              "      border-top-color: var(--fill-color);\n",
              "      border-right-color: var(--fill-color);\n",
              "    }\n",
              "    40% {\n",
              "      border-color: transparent;\n",
              "      border-right-color: var(--fill-color);\n",
              "      border-top-color: var(--fill-color);\n",
              "    }\n",
              "    60% {\n",
              "      border-color: transparent;\n",
              "      border-right-color: var(--fill-color);\n",
              "    }\n",
              "    80% {\n",
              "      border-color: transparent;\n",
              "      border-right-color: var(--fill-color);\n",
              "      border-bottom-color: var(--fill-color);\n",
              "    }\n",
              "    90% {\n",
              "      border-color: transparent;\n",
              "      border-bottom-color: var(--fill-color);\n",
              "    }\n",
              "  }\n",
              "</style>\n",
              "\n",
              "  <script>\n",
              "    async function quickchart(key) {\n",
              "      const quickchartButtonEl =\n",
              "        document.querySelector('#' + key + ' button');\n",
              "      quickchartButtonEl.disabled = true;  // To prevent multiple clicks.\n",
              "      quickchartButtonEl.classList.add('colab-df-spinner');\n",
              "      try {\n",
              "        const charts = await google.colab.kernel.invokeFunction(\n",
              "            'suggestCharts', [key], {});\n",
              "      } catch (error) {\n",
              "        console.error('Error during call to suggestCharts:', error);\n",
              "      }\n",
              "      quickchartButtonEl.classList.remove('colab-df-spinner');\n",
              "      quickchartButtonEl.classList.add('colab-df-quickchart-complete');\n",
              "    }\n",
              "    (() => {\n",
              "      let quickchartButtonEl =\n",
              "        document.querySelector('#df-2367b116-c790-437a-a259-d30bb9b4a302 button');\n",
              "      quickchartButtonEl.style.display =\n",
              "        google.colab.kernel.accessAllowed ? 'block' : 'none';\n",
              "    })();\n",
              "  </script>\n",
              "</div>\n",
              "    </div>\n",
              "  </div>\n"
            ],
            "application/vnd.google.colaboratory.intrinsic+json": {
              "type": "dataframe",
              "variable_name": "transposed_df",
              "summary": "{\n  \"name\": \"transposed_df\",\n  \"rows\": 4,\n  \"fields\": [\n    {\n      \"column\": \"Tag\",\n      \"properties\": {\n        \"dtype\": \"string\",\n        \"num_unique_values\": 4,\n        \"samples\": [\n          \"O\",\n          \"PER\",\n          \"LOC\"\n        ],\n        \"semantic_type\": \"\",\n        \"description\": \"\"\n      }\n    },\n    {\n      \"column\": \"Test\",\n      \"properties\": {\n        \"dtype\": \"number\",\n        \"std\": 1573,\n        \"min\": 224,\n        \"max\": 3388,\n        \"num_unique_values\": 4,\n        \"samples\": [\n          3388,\n          224,\n          267\n        ],\n        \"semantic_type\": \"\",\n        \"description\": \"\"\n      }\n    },\n    {\n      \"column\": \"Train\",\n      \"properties\": {\n        \"dtype\": \"number\",\n        \"std\": 11623,\n        \"min\": 1218,\n        \"max\": 24868,\n        \"num_unique_values\": 4,\n        \"samples\": [\n          24868,\n          1218,\n          1434\n        ],\n        \"semantic_type\": \"\",\n        \"description\": \"\"\n      }\n    },\n    {\n      \"column\": \"Validation\",\n      \"properties\": {\n        \"dtype\": \"number\",\n        \"std\": 1182,\n        \"min\": 99,\n        \"max\": 2507,\n        \"num_unique_values\": 4,\n        \"samples\": [\n          2507,\n          150,\n          99\n        ],\n        \"semantic_type\": \"\",\n        \"description\": \"\"\n      }\n    }\n  ]\n}"
            }
          },
          "metadata": {},
          "execution_count": 15
        }
      ]
    },
    {
      "cell_type": "code",
      "source": [
        "reordered_df = pd.concat([transposed_df.drop(index='O'), transposed_df.loc[['O']]])\n",
        "\n",
        "print(reordered_df)"
      ],
      "metadata": {
        "colab": {
          "base_uri": "https://localhost:8080/"
        },
        "id": "vTUCxkn7Kt9A",
        "outputId": "b76a1139-d037-453d-ce11-ca440d225aa8"
      },
      "execution_count": null,
      "outputs": [
        {
          "output_type": "stream",
          "name": "stdout",
          "text": [
            "     Test  Train  Validation\n",
            "Tag                         \n",
            "LOC   267   1434          99\n",
            "ORG   233   2266         177\n",
            "PER   224   1218         150\n",
            "O    3388  24868        2507\n"
          ]
        }
      ]
    },
    {
      "cell_type": "code",
      "source": [
        "reordered_df = reordered_df[['Train', 'Validation', 'Test']]\n",
        "\n",
        "print(reordered_df)"
      ],
      "metadata": {
        "colab": {
          "base_uri": "https://localhost:8080/"
        },
        "id": "isocglSjK0xl",
        "outputId": "938b461f-8576-4bc0-b152-8fab08c751cb"
      },
      "execution_count": null,
      "outputs": [
        {
          "output_type": "stream",
          "name": "stdout",
          "text": [
            "     Train  Validation  Test\n",
            "Tag                         \n",
            "LOC   1434          99   267\n",
            "ORG   2266         177   233\n",
            "PER   1218         150   224\n",
            "O    24868        2507  3388\n"
          ]
        }
      ]
    },
    {
      "cell_type": "code",
      "source": [
        "column_totals = reordered_df.sum()\n",
        "reordered_df = pd.concat([reordered_df, column_totals.to_frame().T])\n",
        "\n",
        "# Calculate row-wise totals\n",
        "row_totals = reordered_df.sum(axis=1)\n",
        "row_totals.name = 'Total'\n",
        "\n",
        "# Append row-wise totals as a new column\n",
        "reordered_df['Total'] = row_totals\n",
        "\n",
        "print(reordered_df)"
      ],
      "metadata": {
        "colab": {
          "base_uri": "https://localhost:8080/"
        },
        "id": "6wT8PZ9QLJSx",
        "outputId": "609c5395-1af9-4820-f1b4-5fef76b6e63f"
      },
      "execution_count": null,
      "outputs": [
        {
          "output_type": "stream",
          "name": "stdout",
          "text": [
            "     Train  Validation  Test  Total\n",
            "LOC   1434          99   267   1800\n",
            "ORG   2266         177   233   2676\n",
            "PER   1218         150   224   1592\n",
            "O    24868        2507  3388  30763\n",
            "0    29786        2933  4112  36831\n"
          ]
        }
      ]
    },
    {
      "cell_type": "code",
      "source": [
        "reordered_df.to_csv('tag_counts.csv')"
      ],
      "metadata": {
        "id": "sZQDHbgGLoG2"
      },
      "execution_count": null,
      "outputs": []
    },
    {
      "cell_type": "code",
      "source": [
        "def extract_joined_words(df):\n",
        "    joined_words = []\n",
        "    current_word = \"\"\n",
        "    current_tag = \"\"\n",
        "\n",
        "    for index, row in df.iterrows():\n",
        "        word = row['Word']\n",
        "        tag = row['Tag']\n",
        "\n",
        "        if tag.startswith('B-'):\n",
        "            if current_word != \"\":\n",
        "                joined_words.append(current_word)\n",
        "            current_word = word\n",
        "            current_tag = tag[2:]  # Remove 'B-'\n",
        "        elif tag.startswith('I-'):\n",
        "            if current_tag == tag[2:]:\n",
        "                current_word += \" \" + word\n",
        "            else:\n",
        "                joined_words.append(current_word)\n",
        "                current_word = word\n",
        "                current_tag = tag[2:]  # Remove 'I-'\n",
        "        else:\n",
        "            if current_word != \"\":\n",
        "                joined_words.append(current_word)\n",
        "            current_word = \"\"\n",
        "            current_tag = \"\"\n",
        "\n",
        "    if current_word != \"\":\n",
        "        joined_words.append(current_word)\n",
        "\n",
        "    return joined_words"
      ],
      "metadata": {
        "id": "4boKIRsaXpJv"
      },
      "execution_count": null,
      "outputs": []
    },
    {
      "cell_type": "code",
      "source": [
        "train_words = extract_joined_words(train)\n",
        "val_words = extract_joined_words(val)\n",
        "test_words = extract_joined_words(test)"
      ],
      "metadata": {
        "id": "MK8VPEqHXqxD"
      },
      "execution_count": null,
      "outputs": []
    },
    {
      "cell_type": "code",
      "source": [
        "print(train_words)\n",
        "print(len(train_words))"
      ],
      "metadata": {
        "colab": {
          "base_uri": "https://localhost:8080/"
        },
        "id": "GnXT7bntYIwB",
        "outputId": "820a1882-4047-4f4e-eff3-8abf864f1d9a"
      },
      "execution_count": null,
      "outputs": [
        {
          "output_type": "stream",
          "name": "stdout",
          "text": [
            "['\\ufeffDáil Éireann', 'nGaillimh', 'nGaillimh', 'Dé', 'Dail Éireann', 'Andrews', 'Aire Stáit', 'Dáil', 'Fís Éireann', 'RTÉ', 'TG4', 'Údarás Craolacháin na hÉireann', 'Leas-Cheann Comhairle', 'Leas-Cheann Comhairle', 'RTÉ', 'RTÉ', 'RTÉ', 'Nike', 'Jennifer Lawrence', 'an Stáit', 'Palaistíne', 'mBruach Thiar', 'Iosrael', 'Taoiseach', 'Iordáin', 'RTÉ', 'RTÉ', 'Sky', 'RTÉ', 'Baile Átha Cliath', 'Dála', 'Sinn Féin', 'Dála', 'gCluain Leathard', 'Aire', 'Éamon Ó Cuív', 'Aire Oideachais', 'Ó Cuív', 'Ghaeltacht', 'An Garda Síochána', 'Éamon Ó Cuív', 'gCeathrú Rua', 'Ó Cuív', 'Cheathrú Rua', 'Gaeltachta', 'Ghaeltacht dheisceart', 'Chonamara', 'Ghaeltacht Conamara', 'Áras Mhic Dara', 'Áras Mhic Dara', 'HSE', 'Chonamara', 'Ceathrún Rua', 'HSE', 'Ceathrún Rua', 'dheisceart Chonamara', 'HSE', 'gCeathrú Rua', 'Aire Stáit', 'HSE', 'Raidió na Gaeltachta', 'TG4', 'gConamara', 'Ghaeltacht', 'Aire Stáit', 'Donnelly', 'Aire', 'gCeathrú Rua', 'gCo na Gaillimhe', 'Áras Mhic Dara', 'Ó Cuív', 'Butler', '', 'Sláinte', 'Sláintecare', 'Butler', 'Áras Mhic Dara', 'dTearmann Éanna', 'Butler', 'Port Omna', 'gCeathrú Rua', 'mBaile Átha Cliath', 'mBaile Átha Luain', 'Bhaile Átha Cliath', 'Baile Átha Luain', 'gCeathrú Rua', 'Port Omna', 'gConamara', 'HSE', 'gConamara', 'tAire Stáit', 'HSE', 'Aire Stáit', 'Leitir Mealláin', 'gceantar na nOileán', 'Aire Stáit', 'Spidéal', 'Chonamara', 'HSE', 'Butler', 'Conamara', 'gCeathrú Rua', 'gConamara', 'Áras Mhic Dara', 'gCeathrú Rua', 'gContae na Gaillimhe', 'gCeathrú Rua', 'HSE', 'gCeathrú Rua', 'gCeathrú Rua', 'na Stáit Aontaithe', 'Chumann Stairiúil an Tí Bháin', 'John F Kennedy', 'gComhaontas Glas', 'Fianna Fáil', 'Fine Gael', 'd’Fhianna Fáil', 'Fine Gael', 'Fianna Fáil', 'Fine Gael', 'gComhaontas Glas', 'RTÉ', 'Ryan Tubridy', 'Dee Forbes', 'RTÉ', 'Dáil', 'Tánaiste', 'Taoiseach', 'RTÉ', 'Ryan Tubridy', 'RTÉ', 'RTÉ', 'Aire Stáit', 'Cathaoirleach Gníomhach', 'Cill Dara', 'mBaile Átha Cliath', 'Gaeltachta', 'Eirinn', 'Dáil', 'Teach', 'Ghaeltacht', 'Gaeltachta', 'TG4', 'Ghaeltacht', 'gcontae na Mhí', 'Roinne', 'Ghaeltacht', 'TG4', 'Cúla4', 'Údarás na Gaeltachta', 'd’Údarás na Gaeltachta', 'DEIS Gaeltachta', 'Ghaeltacht', 'Roinne', 'Chonradh na Gaeilge', 'Gaeltachta', 'frith-Ghaeltacht', 'Ghaeltacht', 'Gaeltachta', 'Gaeltachta', 'Tánaiste', 'Gaeltachta', 'Aire', 'tAire', 'sa Ghaeltacht', 'tAire', 'Ghaeltacht', 'Ghaeltacht', 'TG4', 'Sinn Féin', 'nGaeltacht', 'Gaeltachta', 'hÉireann', 'Ghaeltacht', 'Moore Street', 'tAire', 'frithGhaeltachta', 'd’Údarás na Gaeltachta', 'Údarás na Gaeltachta', 'd’Údarás na Gaeltachta', 'Gaeltachtaí', 'nDún na nGall', 'Luimnigh', 'gCathaoirleach Gníomhach', 'Massie Ferguson', 'New Holland', 'John Deere', 'Dáil', 'Aire Airgeadais', 'Aaron O’Shea', 'Fidelma', 'Martin', 'Chontae an Chláir', 'bhForas Make-A-Wish', 'Theach Laighean', 'Ghaeltacht', 'O’Donovan', 'd’Údarás na Gaeltachta', 'Ghaeltacht', 'Sinn Féin', 'Ghaeltacht', 'TG4', 'Aire Iompair', 'tAire', 'tAire Stáit', 'Éireann', '“Irish Independent”', 'Martina Devlin', 'nGaillimh', 'mBaile Átha Cliath', 'Aire', 'RTÉ', 'TG4', 'VirginMedia', 'RTÉ', 'Taoiseach', 'TG4', 'S4C', 'Sinn Féin', 'CLG Bhaile Chaisleáin Bhéarra', 'Ó Griffin', 'Leithinis Bhéarra', 'gCumann Lúthcleas Ghaeil Baile Chaisleáin Bhéarra', 'Ó Snodaigh', 'Fórsa', 'SIPTU', 'INMO', 'Taoisigh', 'Enable Ireland', 'Tusla', 'FSS', 'Aire Sláinte', 'Humphreys', 'RTÉ', 'TG4', 'TG4', 'RTÉ', 'TG4', 'S4C', 'Thithe an Oireachtais', 'Ó Cuív', 'Verona Murphy', 'Mary', 'Joan', 'Emer', 'Lisa', 'Rory', 'Noel', 'Noel', 'Gael', 'Aire Stáit', 'Aire', 'Aire Stáit', 'Éirinn', 'Ard-Mhúsaem na hÉireann', 'nDánlann Náisiúnta na hÉireann', 'Ard-Mhúsaem na hÉireann', 'Leabharlann Náisiúnta na hÉireann', 'Éamon Ó Cuív', 'Aire Turasóireachta , Cultúir , Ealaíon , Gaeltachta , Spóirt agus Meán', 'Ghaeltacht', 'Údarás na Gaeltachta', 'Foras na Gaeilge', 'Údarás na Gaeltachta', 'bhForas Teanga', 'gComhairle Aireachta Thuaidh Theas', 'CATT', 'dTuaisceart Éireann', 'CATT', 'Conradh na Gaeilge', 'Glór na nGael agus', 'Gael Linn', 'Mairéad Farrell', 'Aire Turasóireachta , Cultúir , Ealaíon , Gaeltachta , Spóirt agus Meán', 'Údarás na Gaeltachta', 'Údaras na Gaeltachta', 'gComhchoiste Oireachtais don Ghaeilge', 'Ghaeltacht', 'Comhchoiste', 'Thithe an Oireachtais', 'Teachta', 'Comhairle Contae na Gaillimhe', 'hOileáin Árainn', 'Inis Meáin', 'Chomhairle Contae', 'Inis Oírr', 'Inis Meáin', 'Chomhairle Chontae na Gaillimhe', 'Inis Meáin', 'Chomhairle Contae', 'Comhairle Contae na Gaillimhe', 'Rannóg na gColáistí Gaeilge', 'Rannóg Airgeadais de chuid na Roinne', 'Chomhairle Contae na Gaillimhe', 'Cuan na Loinge', 'Burke', 'hOspidéal San Séamas', 'Ospidéal Ollscoile an Choim do Mhná agus do Naíonáin', 'Cluichí Oilimpeacha', 'Éireann', 'Keith Earls', 'Johnny Sexton', 'Katie Taylor', 'hÉireann', 'hÉireann', 'Scoil an tSeachtar Laoch', 'Cumann Báire Setanta', 'Dáil', 'Dáil', 'gConamara', 'Citylink', 'gClochán', 'Gaillimh', 'Gannon', 'Aire Stáit', 'Aindrias Moynihan', 'Aire Oideachais', 'Coláiste Ghobnatan', 'Seanad Éireann', 'DEIS Gaeltachta', 'Ghaeltacht', 'Dia', 'Coláiste na Rinne', 'Choláiste Pobail Naomh Pól', 'chathair Phort Láirge', 'DEIS', 'Gaeltachta', 'TG4', 'Ghaeltacht', 'Rialtas', 'TG4', 'Cúla4', 'Údarás na Gaeltachta', 'Chonradh na Gaeilge', 'Uimhir 6 Sráid Fhearchair', 'Rialtas', 'Sinn Féin', 'nGaeltacht', 'gCathaoirleach Gníomhach', 'Fianna Fáil', 'Fine Gael', 'hÚcráine', 'Aontas Eorpach', 'Gharda Síochána', 'Coimisinéir Teanga', 'nGarda', 'chathair na Gaillimhe', 'Chontae na Gaillimhe', 'Bhruiséil', 'TG4', 'Taoiseach', 'TG4', 'S4C', 'Leas-Cheann Comhairle', 'Banc Ceannais Eorpach', 'Fhine Gael', 'Fhianna Fáil', 'hArd-Chúirte', 'Oireachtas', 'Oireachtais', 'Bhreatain Bheag', 'Málta', 'Ceanada', 'Uachtarán', 'Oireachtais', 'Aire Dlí agus Cirt', 'Ó Snodaigh', 'Rialtas', 'RTÉ', 'RTÉ', 'RTÉ', 'Grant Thornton', 'Choiste na gCuntas Poiblí', 'Chomhchoiste Oireachtais um Thurasóireacht , Chultúr , na hEalaíona , Spórt agus na Meáin', 'RTÉ', 'Kevin Bakhurst', 'Raidió na Gaeltachta', 'RTÉ Radio 1', 'tAire Stáit', 'Roinn Sláinte', 'Aire Stáit', 'Áras Mhic Dara', 'gcroílár na Gaeltachta', 'gConamara', 'Dáil', 'Rialtas', 'Éirinn', 'Rialtas', 'gCeann Comhairle', 'Taoiseach', 'Rialtas', 'Dáil Éireann', 'Fhine Gael', 'Fhianna Fáil', 'hÉireann', 'Hildegarde', 'Naughton', 'Cormac Devlin', 'Pádraig Mac Lochlainn', 'Carol Nolan', 'na Meánmhara', 'Rós Mhuire', 'Rafiq Mottiar', 'Afraic Theas', 'Eoin', 'Pio Nono', 'Pius IX', 'Uí Ghallchóir', 'Bhun Bheag', 'Hiúdaí Bhig', 'Ihab', 'Pól', 'gCluain Sceach', 'Golway', 'Rannóg Dóiteáin Nua-Eabhrac', \"'Seirbhísí Sóisialta\", 'Comhdháil Náisiúnta na Gaeilge', 'Éirinn', \"d'Éirinn\", 'RTÉ', 'Sky', 'Sky', 'de Valera', 'Éirinn', 'Meán-suidhte', 'de Brún', 'Coláiste na Tríonóide', 'Comhar', 'Tuaisceart', 'Cúldoras', 'Acadamh an Bhaile Meánach', 'Kennedy', 'Marilyn Monroe', 'Sam Giancano', 'Judith Cambell', 'FBI', 'Séamus Puirséal', 'Chomhairle na nDámhachtainí Ardoideachais Oiliúna', 'Concubhar Ó Liatháin', 'tArd- Reachtaire', 'Ard-Reachtaire', 'nAirí Stáit', 'Airí Stáit', 'Chlub Bailitheoirí', 'Garth Brooks', 'Tia Maria', 'S.A.M', 'Oifig na bPaitinneacha', 'Lundain', 'INTRA', 'Caoilfhionn Nic Pháidín', 'Stiúrthóir Fiontar', 'gColáiste na Tríonóide', 'Chumann Gaedhealach an Choláiste', 'College Choral Society', 'hÉireannaigh Aontaithe', 'Rialtas na Fraince', 'hArm na Fraince', 'Potter', 'BBC', 'Rupert Murdoch', 'Globalise Resistance', 'Óstán an Burlington', 'mBaile Átha Cliath', 'gCuntas Tarraingthe Speisialta', 'Ó Cléirigh', 'Comhairle Contae na Gaillimhe', 'Thoghroinn Chonamara', 'Pádraig', 'Fabrizio Caselli', 'Lucca', 'Tuscáin', 'Pháirc an Chrócaigh', 'Francis Bellew', 'Ciarraí', 'Sheehy', 'Liston', 'Egan', 'Ó Ríordáin', 'Náisiún Aontaithe', 'Rí Laighin', 'Tountinna', 'Dhúbhglais de h-Íde', 'Phortach Ard', 'Dr Douglas Hyde Centre', 'An Gúm', \"Horseman 's Inn\", 'mBéal na Coire Thoir', \"Nettle 's Cottage\", 'Faisean le Úna Ní Bhrannagáin', 'Fahey', 'Maigh Eo', 'Údarás Forbartha Dugthailte Bhaile Átha Cliath', 'John Baptist Crozier', '', 'ar Ard Mhacha', 'Éire', 'mBaile Átha Cliath', 'Scoil Naomh Pól', 'Tóiceo', 'Aerfort Haneda', 'Aerfort Idirnáisiúnta Thóiceo', 'Naritam', 'Seán Mac Eoin', 'Risteárd Ó Maolchatha', 'Uachtarán na Comhairle Parlaimint na hEorpa', 'ECU', 'ANOIS', 'Cill Chainnigh', 'Mac Adaim', 'Thomas Cloney', 'Edward Hay', 'Éirí Amach Loch Garman', 'Pat An Cóp Ó Gallchóir', 'Eoraip', 'Dála', 'P. Ó Síocháin', 'mBrú na Bóinne', 'Árann', 'An Foras Pátrúnachta', 'Roinne Oideachais', 'Foras na Gaeilge', 'Ó Cuinneagáin', 'SEANA-BHID', 'Marcais Mhantua', 'Comerama Inderama', 'gCaisleán an Chomair', 'Ó Dubhurthuile', 'Siobhán Ní Bhrádaigh', 'Setanta Ó Dochartaigh', 'Santa Lucia', 'Mhuir Chairib', 'Comhaltas Ceoltóirí Éireann', 'Meiriceá Thuaidh', 'dTír Chonaill', 'nGaoth Dobhair', 'Fianna Fáil', 'Mahogany Gaspipe', 'Coimisinéirí Ioncaim', 'TG4', 'Raidió na Life', 'Raidió Fáilte', 'LINGUA FRANCA', 'AE', 'AN tAONTAS EORPACH', 'Shíomóin', 'Anthony', 'Chill Dara', 'Sam', 'Údarás na Gaeltachta', 'Thoraí', 'bPort an Dúin', 'Giall Dubh', 'Ian Paisley', 'Baile Meánach', 'Sinn Féin', 'Dúbhglas de h-Íde', 'Dún Gar', 'Bealach an Doirín', 'shéipéal Eaglais na hÉireann', 'Dhúbhglais', 'Phortach Ard', 'Bhaváir', 'Beirlin', 'Gearmáine', 'London Irish Rifles', 'Bheilg', 'Gaillimh', 'Siobhán Kelly', 'Gormley', 'Scoil na gCailíní , Doirí Beaga', 'Arm Slánaithe', 'Stephen Byers', 'Steven Stiofáinín', 'Seoige', 'Oifig na Deoise', 'Halla Naomh Muire', 'Thomáis Eccleston', 'nGleann na Claise Móire', 'Dhún Chaoin', 'nGráig', 'Inis Meáin', 'Chlann na Poblachta', 'Pháirtí na nOibrithe', 'Piaras Ó Dochartaigh', 'Ian', 'Tom Sheldon', 'Gleann Wallace', 'Cholm de Bhailís', 'Naomh Pádraig', 'Éirinn', 'gComhairle', 'gComhairle', 'Noel Tracy', 'An tAire Stáit', 'Roinn Fiontar , Trádála agus Fostaíochta', 'Ordú Fiontar agus Fostaíochta', 'Ordú Fiontar , Trádála agus Fostaíochta', 'Tarmligean Feidhmeanna Aireachta', 'Réamannaigh ag Westminster', 'C.J. Dolan', 'Liatroim Thuaidh', 'Pháirtí Náisiúnta', 'Chorcaí', 'Fianna Fáil', 'Páirtí an Lucht Oibre', 'gCuan Chorcaí', 'De Róiste', 'Saor Éire', 'Murascaill na Peirse', 'Briain Cairt', 'Náisiún Aontaithe', 'Orient Express', 'K Club', 'Anne-Marie Nic Dhonncha', 'Anne-Marie', 'Chonamara', 'hEaglaise Caitlicí', 'Easpag na Gaillimhe', 'Éamonn Casey', 'Paul Ó Braoin', 'Baile Átha Luain', 'Irish Computer', 'Declan McColgan', 'An Bainisteoir , Ionad an Bhlascaoid Mhóir , Dún Chaoin , Trá Lí , Co. Chiarraí', 'Jahn Sacks', 'The Donegal Mafia', 'bParlaimint na hEorpa', 'Winnie Ewing', 'hAlban', 'an Ministir Protastúnach / Liútarach', 'Danmhairge', \"'Technical Coordination Group\", 'Scoil Dhara', 'Scoil Eoin', 'Conradh na Gaeilge', 'Garret FitzGerald', 'rialtas an Heavy Gang', 'Chonradh na Gaeilge', 'Éirinn', 'Ó Conaire', 'Bhaile Átha Cliath Thiar Thuaidh', 'Frank P. Walsh', 'National Labour Board', 'Edward F. Dunne', 'Micheal J. Ryan', 'Chrannóg', 'nGaoth Dobhair', 'gCeithre Cúirteanna', 'Ó Conchubhair', 'Ó Maoilíosa', 'Earnán Ó Máille', 'Seán Lemass', 'Seán Mac Giolla Bhríde', 'Aindrias Mac Domhnaill', 'FÁS', 'WATIS', 'SEIRBHÍSÍ CEANTAIR áitiúil FÁS', 'FÁS', 'mBaile Áth Cliath', 'Chaisleán Dracula', 'mBaile an Chaolais', 'Ollaimh Fódhla', 'Vicar St', 'mBaile Átha Cliath', 'Dé', 'Máthair Dé', 'Mel Gibson', \"'Conchúr\", \"d'Fhearghus\", 'Fhearghus', 'Róigh', 'Uisnigh', 'Fearghus', 'Eamhain Mhacha', 'Tighe den Oireachtas', 'Cóil', 'Mhicil Choilm', 'Micil', 'Choirnéal Parra', 'Richard Behal', 'Staid Semple', 'Pádraig', 'Belfast Regeneration Office', 'Childhood Fund', 'Chiste Síochána agus Athmhuintearais', 'Roinn Oideachais', 'Bhord Oideachais agus Leabharlainne Bhéal Feirste', 'Fhoras na Gaeilge', 'Dhún Chaoin', 'Fhaiche Stiabhna', 'Liam Ó Briain', 'Arm Cathartha', 'gCúige Laighean', 'gContae na Mí', 'gContae Chill Dara', 'gContae Uíbh Fháilí', 'gContae Loch Garman', 'Fine Gael', 'Thuar Mhic Éadaigh', 'Chruach Phádraig', 'Phádraig', 'Calpruinn', 'Dhonnchaidh Eoin', 'Hispaniola', 'Boird Sláinte', 'tOrdú Rialtais', 'Ombudsman', 'bord sláinte', 'Ombudsman', 'boird sláinte', 'bord sláinte', 'Ombudsman', 'Éirinn', 'Bruce Springsteen', 'Jeremy Dibble', 'Piarsach', 'Chontae na Mí', 'Mainistreach', 'Chontae Chiarraí', 'Fianna Fáil', 'Suzuki Masajo', 'Beverley Cooper-Flynn', 'Fianna Fáil', 'Malcolm X', 'Finnéithe Iáivé', 'An Pionta', 'An Seanfhear', 'An Strainséara', 'COMHAIRLE CHONTAE NA GAILLIMHE', 'Derry Journal', 'Coirnéal Goring', 'Liam Ó Muirthile', 'Ó Muirthile', 'Maidhc Dainín Ó Sé', 'Ó Cíobháin', 'Pádraig Ó hAoláin', 'Údarás na Gaeltachta', 'Seán Ó Coistealbha', 'Pádraic Mac Donncha', 'Foireann Chigireachta na Roinne Oideachais', 'Seán de Cléir', 'Údarás na Gaeltachta', 'Pádraig Ó Coimín', 'Teagasc', 'Séamus Ó Buachalla', 'Coláiste na Tríonóide , Baile Átha Cliath', 'Ghort Bhaile Loisce', 'Domhnall Mac Giobúin', 'Fianna Fáil', 'Chonradh', 'Ghaeltacht', 'Phádraig Ághais', 'Conradh na Gaeilge', 'Baile Átha Cliath', 'Co. na Mí', 'Ó Brádaigh', 'ospidéal Naomh Gréagóir', 'Nead na gCreabhar', 'Foinse', 'Athair Mac Grianna', 'gCoiste Eacnamaíoch agus Sóisialta', 'Coiste na Réigiún', 'Ciste Sóisialta na hEorpa', 'gCúige Mumhan', 'Swindon Town', 'FA', 'Thierry Lacroix', 'Afraic Theas', 'Ceannasaí Pól Ó Gallchóir', 'RTÉ', 'Bob Collins', 'Chomhairle Teilifís na Gaeilge', 'Seosamh Mac Donncha', 'NASC', 'Comhairlí Contae Chorcaigh , Dhún na nGall , Mhaigh Eo agus Chiarraí', 'Comhairle Chathair na Gaillimhe', 'Ollscoil na hÉireann i nGaillimh', 'Údarás na Gaeltachta', 'Údarás Réigiúnach an Iarthair', 'Bord Sláinte Limistéar an Tuaiscirt', 'Ginéive', 'John Edwards', 'François de Vic', 'Tiarna Rieux sa bhFrainc', 'Vín', 'Seirbhísí FÁS do Ghnó', 'Kevin Kelly', 'Seán Mac Stiofáin', 'hAontachtaithe', 'Pól VI', 'Veinéise', 'Luciani', 'Baile an Tóchair Thoir', 'Baile na Cille', 'Lios Conaidh', 'Droim Fionn', 'Baile an Mhóta', 'Cluain Eochaille', 'Liatroim', 'Tobar an Choire', 'Cill Toraí', 'Coill Mhór', 'Cill Fraoigh', 'Cúil Ó bhFinn', 'Cill Athracht', 'Teampall an Mhanaigh', 'Eachineach', 'Cill Mhic Treana', 'Baile na Sí', 'Seanchua', 'Droim Colm', 'Baile idir Dhá Abhainn', 'Achadh Mhór', 'Breicshliabh', 'Droim Ráithe', 'Tuaim Fhobhair', 'Cill Sealbhaigh', 'Cill Duibh Dúin', 'Cill Dá Loch', 'Cartrún', 'Cúil Áine', 'Abhainn Mhór', 'An Teampall', 'Eanach', 'Carraig Beannchair', 'Cúil Mhuine', 'Baile an Tóchair Thiar', 'Teach an Phiarsaigh', 'Teach an Mháistir', 'Tí Mhic Eochagáin', 'gCamus', 'Tigh Sheáin Uí Ghaora', 'Choilm', 'tAire', 'Aire Airgeadais', 'Aisling na nÓg', 'Gaeltacht', 'hOileáin na hÉireann', 'Chomhairle Ealaion', 'Feargus ó Flatharta', 'Foinse', 'Mícheál Ó Móráin', 'The Tight Line', 'Tír Chonaill', 'Eaglais Phreispitéireach na hÉireann', 'Ospidéal Bhaile Lochlainn', 'Óstán Chill Chordail', 'Mhacra na Feirme', 'India', 'Nua-Delhi', 'hIndia', 'Martin Smith', 'hAontachtaithe', 'Bhéal Feirste', 'Araib Shádach', 'Phacastáin', 'Seirbhíse Ógra', 'Conradh na Gaeilge', 'Cumann Gaelach Chnoc na Rós', 'nDoire', \"d'Fhéile an Phobail\", 'Iarthar Bhéal Feirste', 'Micheál Ardaingeal', 'na Náisiún Aontaithe', 'bhFrainc', 'Muire', 'Leanbh Íosa', \"Stephen O'Brien\", 'Cumann Naomh Columbán', 'Brendan McHale', 'Sasana', 'Irish Times', 'hÉireann', 'Illaunamrogue', 'Oileán na mBróg', 'Seán Ó Téacháin', 'Bhainc Ceannais', 'Éirinn', 'Bhráithreachas Ospidéal Naomh Eoin', 'Charles Dickens', 'Naíonáin Shinsearacha', 'Naíonáin Shinsearacha', 'Choiste Turasóireachta na Gaillimhe', 'Paul Hughes', 'óstlann Abbeyglen', 'Chlochán', 'United Irishman', 'Mhistéalaigh', 'Chathair Chorcaí', 'Ruagairí', 'Jack', 'Roinn na Gaeltachta', 'Údarás', 'Seán Ó Cadhla', 'Bhord Sláinte', 'Pat Harvey', 'Fianna Fáil', 'Eoghan Fitzsimons', 'Bhaile Mheánach', 'Peter', 'Pádraig Naofa', 'Oisín', 'hÉireann', 'Coimisinéirí Ioncaim', 'Seón Luid', 'gContae an Chláir', 'Proinsias Ó Maonaigh', 'M.', 'Cú Chulainn', 'Suibhne', 'Cú Chulainnín', 'Diarmaid', 'Gráinne', 'J.', 'Chonaire', 'Da Derga', 'Sráid Sheáin Mhic Dhiarmada', 'Burnside', 'Aontachtóir Ultach', 'parlaiminte Aontachtach', 'Mac Dara', 'Bob Kansas', 'An Charraig Mhór', 'Chéibhín na Mine', 'Caimbeul', 'Mac Domhnaill', 'Baile Átha Cliath', 'Stormont', 'bPáras', 'Roinn', 'Oifig an Phríomh-Aturnae Stáit', 'CSSO', 'Seosamh Ó Murchú', 'Micheál Ó Cearúil', 'Antain Mag Shamhráin', 'Oghma', 'RTÉ', \"'National ' Union of Journalists\", 'Dún Éideann', 'Londain', 'Bhaile Átha Cliath', 'Béal Feirste', 'Chomataidh Craolaidh na Gaidhlig', 'BBC', \"d'Iomairt Cholm Cille\", 'Concubhar Ó Liatháin', 'Bríd', 'Joe Éinniú', 'Joe Éinniú', 'Coirnéal', 'Eddie Delaney', 'gClár Chlainne Mhuiris', 'DOIRSE', 'Foghlama i Rith an tSaoil', 'hOstaire', 'Aontas Eorpach', 'Vín', 'Duffy', 'Cnoc Mhuire', 'Baile Átha Cliath', 'Choimisiún Uí Bhrolcháin', 'Doire', 'Kevin Hayes', 'Mícheál Ó Tiománaí', 'Ó Cearúil', 'Coimisinéirí Ioncaim', 'bhFianna Fáil', 'Taoiseach', 'Cúirte Breithiúnais', 'Aontas Eorpach', 'Uí Fhearraigh', 'Hughie Joe', 'Mary Joe', 'Tionól Uí Fhiaich', 'Meitheal an Cheoil Dúchais', 'Sráid Anna', 'Leabharlann Chumann Bhéal Feirste um Eolas a Leathadh', 'Belfast Society for Promoting Knowledge', 'Comhdháil Nice', 'bhForais an Aontais Eorpaigh', 'Éirinn', 'Éirinn', 'W. H. Auden', 'Danny Kennedy', 'tSeirbhís Phóilíneachta', 'Chomhairle', 'Páirtíocht Láir an Bhaile', 'Uí Eachaidh', 'Chonradh na Gaeilge', 'Ghaeltacht', 'Foras na Gaeilge', 'Gaeloiliúint', 'nDoire Cholm Cille', 'Cormac Feorus Buais', 'Séamus Micheál Ó Cogadháin', 'Choiste Gnó an Chonartha', 'Fasti na hEaglaise', 'Ollscoil Ghlaschú', 'Shaorfón', 'Coistí Gairmoideachais', 'Conradh na Gaeilge', 'Óstán Cill Mhartuinn', 'Erskine Childers', 'Coinbhinsiúin', 'Pádraig Breathnach', 'Máirtín Ó hIarlaithe', 'Davy Skerries', 'Coiste na bhFoilseachán', 'Bhaile an Átha', 'Shéipéal Iosóid', 'Ráidio Fáilte', 'Bertie Ahern', 'Ray Cosgrove', 'John McNally', 'Alan Brogan', 'Baile Átha Cliath', 'CHONAMARA', 'gContae an Chláir', 'Gaoth Dobhair', 'Rómáin', 'Belfast Telegraph', 'Durkan', 'hAlbain', 'Leitir Móir', 'Bertie Ahern', 'Celia Larkin', 'Julian Jaynes', 'Iarthar na hEorpa', 'Éire', 'Ó Corcora', 'hAlban', 'Bertti Vogts', 'Paul Lambert', 'EPI', 'Údarás na Gaeltachta', 'Fhrainc', 'Bá Bheanntraí', 'Hoche', 'Mhumhain', 'Mícheál Ó Longáin', 'Scoil Haverstock Hill', 'Felix Partridge', 'South Hamstead Club , Fleet Road , Hamstead', 'Nóirín Ní Nuadháin', 'Bhreatain', 'Ronny Yu', 'nGaoth Dobhair', 'Edel Ní Chuireáin', 'Raidió na Gaeltachta', 'Pádraig Ó Dochartaigh', 'Anna Ní Bhroinn', 'Áisitheoir Ealaíon', 'Údarás na Gaeltachta', 'Sinéad Mac Aodha', 'Oifigeach Liteartha na Comhairle Ealaíon', 'Séamus De Napier', 'Cathaoirleach', 'Iontaobhas Ultach', 'Aodán Mac Póilín', 'Stiúrthóir', 'Iontaobhas Ultach', 'MRBI', 'Raidió na Gaeltachta', 'Naomh Ciarán', 'Ceann Loch Chille Chiarain', 'Seoirse Dalgarnó', 'Aberdeen', \"S ' Againne\", 'Gaeltachta', 'Aeriris', 'Proinsias Mac Aonghusa', 'Cheanada', 'gColáiste Mhichíl', 'Ollscoil Toronto', 'Caitríona', 'tArd Mhúsaem', 'mBaile Átha Cliath', 'Bertie Ahern', 'Earragh', 'Kenneth McAlpin', 'Sgonn', 'Sír Peairt', 'Roy', 'Theresa', 'Mick McCarthy', 'Latapy', 'Alex McLeish', 'Hibernians', \"'An Roinn Ceapachán agus Forbairt Foirne\", 'RTÉ', 'Barranikov', 'Chomhairle Chontae', 'Ord Rialta', 'Teaghlach Contae sin do Leanbhaí', 'Ord', 'Coiste Feidhmiúcháin', 'Maskey', 'Eibhlín Nic Niocail', 'Carl Marstrander', 'Marstrander', 'Bord Oideachais', 'Leabharlann Bhéal Feirste', 'Mheánscoil Feirste', 'Dhrámaí Nuascríofa', 'Amharclann Choláiste Mhuire , Baile Átha cliath', 'Gharraí Eoin', \"'Garryowen\", \"Seachtú Reisimint Marcshlua d'Arm Stáit Aontaithe Mheiriceá\", 'Buachaillí Bána', 'Mhuire', 'Ó Reara', 'Nic Anna', 'Tigh Donnelly', 'mBearna', 'Craig', 'Baile Átha Cliath', 'Chrócaigh', 'Mark Tierney', 'gCrócach', 'tArdEaspag Breathnach', 'gCrócach', 'Matt', 'Éamonn Mac Ruairí', 'Shéamais Uí Dhúgáin', 'Séamas', 'Rúnaí an Fháinne', 'Irish Independent', 'Corcaigh', 'Port Omna', 'Bord Locha', 'Seoirse O Broinn', \"'Buachaillí Ard Mhacha\", 'Spooky Cáimbéal', 'Gay Linn', 'Fourass na Gaeilge', 'Eibhlís Ní Shúilleabháin', 'Sheán Ó Súilleabháin', 'Máirtín Ó Flathartaigh', 'bPáirc an Fhionnuisce', 'Kevin Kelly', 'Seamus Kerr', 'chomhairle na hÓmaí', 'Ádhamh ó Bhremen', 'James Owen Hannay', 'Seosamh Laoide', 'Londain', 'Aga Khan', 'Ali', 'Hamilton', 'Loch an Iúir', 'Oireachtas', 'Bhealtaine', 'Crypt Arts Centre', 'Chaisleán Baile Átha Cliath', 'gCeathrú Rua', 'Comhairle Chondae na Gaillimhe', 'Chonamara', 'Parlaimint na hEorpa', 'gCoiste Eacnamaíoch agus Sóisialta', 'Seán Ó hÉigeartaigh', 'gCnoc Tharlaigh', 'gContae Chill Mhantáin', 'Íosa', 'Máthar Eaglaise', 'Peats Dhónaill Ó Cíobháin', 'Baile na nGall', 'Tomás Mac Gearailt', 'Márthain', 'Peig Sayers', 'Baile Bhiocáire', 'An Blascaod', 'Seán Ó Criomhthain', 'Cill Mhaolchéadair', 'Tomás Ruiséal', 'Coimín', 'Muiris Ó Conchubhair', 'Baile Bhoithín', 'Bhleá Cliath', 'Linton Kwesi Johnson', 'Ghearóid Mac Lochlainn', 'Fondúireacht Bernard Van Leer', 'Bhord an Fhorais', 'Conradh na Gaeilge Ógras', 'Tadhg', 'Chaisleán na hAirde', 'Oileán Máisean', 'mBaile na hInse', 'Bhaile an Dúin', 'Bhaile Conaola', 'Bhóthar Gharbhachaidh', 'Mháire Áine', 'Uíbh Fhailí', 'Séamus Frainc Mac Éil', 'Meikle', 'Teach an Phosta', 'Pól Ó Muirí', 'Irish Times', 'Dáil Éireann', 'Bhaile Átha Cliath', 'Tommy Broughan', 'Finsbury', 'Mad Murphy', 'Horse Reilly', 'Chill Déagláin', 'Aoife Nic Mhánais', 'Dónal Mac Ionraic', 'Chorcaigh', 'Ciarraí', 'Pierre Yves Lambert', 'Sorbonne', 'Nóra Mhór', 'Tríú Domhan', 'T.G.F. Paterson', 'Iarsmalann Ard Mhacha', 'Cluichí Domhanda', 'nAll Blacks', 'bPáirc Lansdún', 'Pierre Curie', 'Naomh Pól', 'Ard Mhaistéara', 'Halla', 'Chúige Uladh', 'Oisín', 'Gráinne', 'Fhinn Mhic Chumhaill', 'Roddy Connolly', 'Pháirtí an Lucht Oibre', 'Máirtín Beag', 'Teachtaí Dála', 'Comhairle na Mumhan', 'Éamon Ó Cuív', 'Banna Ceoil Schomberg', 'Bhanríon Shasana', \"'Oifig an Phoist\", 'Monte Carlo', 'Lios Tuathail', 'Johannes Kepler', 'Brahe', 'Arainn', 'Chaisleán Breadhaig', 'Turnberry', 'Inbhirir', 'Paul McGrath', 'Mháire Ní Chathasaigh', 'Giolla Bríde', 'Earragh idheal', 'Mhag Uidhir', 'Fhoras na Gaeilge', 'Mhícheál Ó Gruagáin', 'Brian Ó Catháin', 'Sráid Kleist', 'Tí Chulainn', 'Pheadair Uí Laoghaire', 'Amharclann de hÍde', 'Synge', \"Pete 's Pizzas\", 'Fiachra Ó Marcaigh', 'Londain', 'hAfraice Theas', 'tAire Oideachais', 'Máirtín Mac Aonghusa', 'Uí Chíobháin', 'Liam Ó Muirthile', 'dTeampall Dé', 'Eaglais Ghallda', 'Ó Bhíobla', 'Ó Mainnín', 'Eibhlín bháin Ní Fhlaithearta Togha', 'Eoin Mac Néill', 'Mhíchíl Uí Chléirigh', 'Mac Alister', 'Lios Tuathail', 'Eoin McNamee', 'John Ó Donnell', 'Paddy Kennelly', 'Michael Coady', 'Ghort na Rátha', 'Máirtín Ó Cadhain', 'Bob Marley', 'Chomhairle Aireachta Thuaidh-Theas', 'Pádraig Ó Snodaigh', 'Oileán Dairbhre', 'Rialtais Shealadaigh', 'Pádraig Mac Piarais', 'Lowe', 'gContae Dhún na nGall', \"O'Neill\", 'Lennon', 'Lambert', 'Tebily', 'gCo. Ros Comáin', 'dTeach Clonalis , An Caisleán Riabhach', 'Uí Chonchúir', 'nDún Gar', 'gColáiste Naithí', 'mBealach an Doirín', 'Harold Wilson', 'Máirtín Ó Direáin', 'Maura McBride', 'Seán Ó Sé', 'Ó Foighil', 'Caidé', 'Alpaire na Gríosaí', 'Thuaisceart Éireann', 'Douglas Alvord', 'Mac Alastair', 'Piaras Ó Dochartaigh', 'Shinn Féin', 'Theach Laighean', 'Loch Garman', 'LA', 'Sunderland', 'Peter Reid', 'Sylvester Stallone', 'Graham', 'Mháirtín Ó Direáin', 'Mick McCarthy', 'Mhicí Mac Gabhann', 'Ó Fiannachta', 'Afraic Theas', 'tSlováin', 'Paragua', 'Margaret Thatcher', 'Tóraithe', 'Luimneach', 'Corcaigh', 'Ó Sé', 'Cill Mhantáin', 'Fear Manach', 'Cill Dara', 'Gaillimh', 'Corcaigh', 'Chomhchoiste Ghaeltachtaí Chiarraí Theas', 'Comharchumann Naomh Fhionáin Teo.', 'gCnocán na gCúrláin', 'Josie', 'Breandán', 'Ó Doibhlin', 'Stardust Club', 'dTuaisceart Bhaile Átha Cliath', 'Rúnaí na Roinne', 'Ceann na Creige', 'Kennacraig', 'Loch Iarthar Tairbeairt', 'Tommy an Táilliúra', 'Sasana', 'mBuailtín', \"'Peadar Beag\", 'Dinny McGinley', 'Fine Gael', 'Berry', 'Liam Lawlor', 'Oireachtais', 'David Beresford', 'Nor Meekly', 'Maigh Eo', 'Pheadar Ó Brádaigh', 'Fine Gael', 'Glasaigh', 'Lucht Oibre', 'Teachtaí Neamhspleácha', 'Diarmuid de Faoite', 'Éamonn Ó Dónaill', 'Sult', 'Art Hughes', 'Ollscoil Uladh', 'Máire Uí Dhuilearga', 'Leabharlann an Línhalla', 'mBéal Feirste', 'Pobal-Scoil Ghaoth Dobhair', 'Agent Orange', 'Vítneam Thuaidh', 'Jordan', 'Giancarlo Fisichella', 'Takuma Sato', 'Comhairle Chontae Mhaigh Eo', 'mBéal an Mhuirthid', 'Sammy Wilson', 'DUP', 'chomhairle achrannach Bhéal Feirste', 'IRA', 'Shinn Féin', 'Ireland West Tourism', 'Nuacht TG4', 'Ghaeltacht', 'Spidéal', 'gConamara', 'Coimisinéirí', 'Coimisinéirí Achomhairc', 'Chúirt Chuarda', 'Brian McEniff', 'Mheiriceá', 'Stáit Aontaithe', 'Iosrael', 'Palaistíne', 'Ollscoil Luimnigh', 'Dámhscoil Mhúscraí Uí Fhloinn', 'mBaile Bhúirne', 'bPádhraic Óg Ó Conaire', 'Cúrsaí Raidió', 'Conamara', 'Ciarán Ó Concheanainn', 'mBóthar na Trá', 'Pádraic Dairbe Ó Flatharta', 'Beartla Dairbe Ó Flatharta', 'Réamon Jimmy an Oileáin Mac Donnchadha', 'Jimí', 'Antain Mór', 'Dúin', 'Marcas Mac Ruairí', 'Ollscoil Chaitliceach Lublin', 'Ceiltigh', 'Henrik Larsson', 'Westenra', 'Scéala Éireann Teo.', 'Shéamas Ó hArgadáin', 'Seán Ó Donnabháin', 'Eoghan Ó Comhraidhe', 'Henrick Wagner', 'Ollscoil na Ríona', 'mBeál Feirste', 'Colm Ó Baoill', 'Ard Mhacha', 'Ceann Tìre', 'Michael Naughton Ltd', 'Ceiltigh', 'St Johnston', 'Pádraig Ó Fiannachta', 'Pádraig Mac Piarais', 'hEorpa', 'hÉireann', 'Atlantaigh', 'Dhairbhre', 'Talamh an Éisc', 'Scoil na gCailíní , Doirí Beaga', 'Údarás na Gaeltachta', 'AE', 'AE', 'Chomhairle Cathrach Bhaile Átha Cliath', 'John Downey', 'Pleanáil agus Forbairt Chomhairle Cathrach Bhaile Átha Cliath', 'Comhairle Cathrach Bhaile Átha Cliath', 'Mhúsaem Tionóntán Bhaile Átha Cliath', 'Shráid Henrietta', 'Chomhairle Eorpach', 'Pharlaimint na hEorpa', 'Pharlaimint na hEorpa', 'Comhairle na Tuaithe', 'Roinn Gnóthaí Pobail , Tuaithe agus Gaeltachta', 'mBeilg', 'Aontais Eorpaigh', 'Cathaoirleach', 'Príomhfheidhmeannach', 'Roinn Gnóthaí Pobail , Tuaithe agus Gaeltachta', 'GFT', 'Éire', 'Fiontraíocht Éireann', 'Oifig Bhaile Átha Cliath Theas-Lár', 'CCBÁC', 'Mhainistir Naomh Tomás an Mairtíreach', 'Saoirsí', 'Bord um Fhaisnéis do Shaoránaigh', 'BFS', 'Líonra Eorpach na nOmbudsmen', 'nOmbudsmain Náisiúnta', 'mBallstáit an AE', 'Chipir', 'Comhairle na Tuaithe', 'Oifig Ealaíon Chathair Bhaile Átha Cliath', 'Comhairle Cathrach Bhaile Átha Cliath', 'BHAILE ÁTHA CLIATH', 'Údarás na Gaeltachta', 'Rialtas', 'Pobal', 'Pharlaimint na hEorpa', 'Uachtarán an Bhainc Cheannais Eorpaigh', 'Bhord Feidhmiúcháin', 'Pharlaimint na hEorpa', 'Uachtarán', 'Bhailiúchán Léinn Bhaile Átha Cliath', 'Captaein Fiontair', 'Captains of Enterprise', 'Bhord Fiontraíochta Chathair Luimnigh', 'gComhairle um Oideachas Gaeltachta & Gaelscolaíochta', 'Baile Átha Cliath', 'UNESCO', 'UNESCO', 'RTI', 'Ghaeltacht', 'Fhiontraíocht Éireann', 'Aontais Eorpaigh', 'Aontais Eorpaigh', 'An Roinn Gnóthaí Pobail , Tuaithe agus Gaeltachta', 'The National Neighbourhood', 'The Fundraising Fellowship , Baile Átha Cliath', 'Tionscadal um Iniúchadh & Léarscáiliú Cultúrtha .', 'Chúirt Breithiúnais', 'Cúirte Breithiúnais', 'Chúirt Bhreithiúnais', 'Chúirt Ghinearálta', 'Chlár um Ealaín Páistí sa Leabharlann', 'EPL', 'Ghaeltachta Dhún na nGall', 'Gaillimhe', 'Comhairle Cathrach Bhaile Átha Cliath', 'Roinn Gnóthaí Leanaí agus Óige', 'AE', 'Leabharlanna Poiblí Chomhairle Cathrach Bhaile Átha Cliath', 'gCéad Abhcóide Ginearálta', 'Chúirt Bhreithiúnais', 'Ionad Poiblí Shráid an tSirriam', 'Oirthuaisceart Lár na Cathrach', 'Comhairle Cathrach', 'Údarás na Gaeltachta', 'Leabharlanna Cathrach Bhaile Átha Cliath', 'CEBC', 'Comhairle Rialaithe an BCE', 'Ionad na nTeangacha , Ollscoil na hÉireann Maigh Nuad', 'Ghaeltacht', 'Chúirt Bhreithiúnais', 'Reacht Chúirt Bhreithiúnais an Aontais Eorpaigh', 'Parlaiminteach na hEorpa', 'Strasbourg', 'Parlaimint na hEorpa', 'Chathair Chruthaitheach Bhaile Átha Cliath', 'Bhord Stiúrtha', \"'Óige na Gaeltachta Teo\", 'Chomhairle Cathrach Bhaile Átha Cliath', 'Bhaile Átha Cliath', 'Humphreys', 'Dhún Éideann', 'bPobal Áitiúil', 'Údarás Buiséadachta', 'Lárleabharlann', 'Ionad ILAC , Sráid Anraí , Baile Átha Cliath 1', 'tIonad Faisnéise Gnó', 'Ionad Foghlama Oscailte', 'tSeirbhís Phoiblí', 'Údarás na Gaeltachta', 'Uachtarán Chomhairle na nAirí', 'An Roinn Nuálaíochta agus Teicneolaíochta', 'CNIPA', 'RTÉ Raidió na Gaeltachta', 'Ghaeltacht', 'Údarás na Gaeltachta', \"d'Údarás na Gaeltachta\", 'Margaret', 'bhord Ionad James Joyce', 'ECDL', 'Ghaeltacht Chonamara', 'Ghaeltacht Dhún na nGall', 'Rannóg Oiliúna agus Oideachais', 'fhaisnéis do shaoránaigh', 'www.citizensinformation.ie', 'nIonad Faisnéise do shaoránaigh', 'Fhaisnéis do Shaoránaigh', 'faisnéis do shaoránaigh', 'Faisnéise do shaoránaigh', 'Oifig Bhaile Átha Cliath Theas-Lár', 'CCBÁC', 'Mhainistir Naomh Tomás an Mairtíreach', 'Saoirsí', 'Gaeltachta', 'Dhún na nGall', 'Mhaigh Eo', 'na Gaillimhe', 'Chiarraí', 'Phort Láirge', 'Chorcaí', 'na Mí', 'PIVOT', 'Johnny Kelly', 'Scott Burnett', 'Meitheal Oibre', 'Eoraip', 'Foireann Chathair Chruthaitheach Bhaile Átha Cliath', 'Bhaile Átha Cliath', 'Oifig Cánach caipitiúla de chuid na gCoimisinéirí Ioncaim', 'Bhaile Átha Cliath', 'hÉirinn', 'Eoraip', 'Parlaimint na hEorpa', 'Comhairle na nAirí', 'bParlaimint na hEorpa', 'Rúnaíocht Déileála na nGearán', 'Ombudsman Eorpach', 'Músaem Tionóntán', '14 Sráid Henrietta', 'Oifig Phrobháide', 'Chlárlanna Probháide Dúiche', 'Roinn Gnóthaí Pobail , Tuaithe agus Gaeltachta', 'Fóram na Gaeilge', 'gCartlann agus Leabharlann Chathair Bhaile Átha Cliath', 'Sráid an Phiarsaigh', 'Bhaile Átha Cliath', 'Éireann', 'Bhaile Átha Cliath', 'Parlaimint na hEorpa', 'gCúirt Dúiche', 'gCúirt Chuarda', 'Bhaile Átha Cliath', 'Údaráis', 'hOifigí Réigiúnacha', 'Coiste Ceoil Tradisiúnta an Iardheiscirt', 'nGleann Cholm Cille', 'dTír Chonaill', 'Ionad Cultúrtha Bhaile Bhúirne', 'gCorcaigh', 'Áras Éanna', 'Inis Oírr', 'gCoiste Comhairleach Idir-Ghníomhaireachta', 'Bhainistiú Aerstráicí na nOileán agus Seirbhísí Gaolmhara', 'Cláraitheoir na mBreitheanna , Básanna agus Póstaí', 'Acadamh na hOllscolaíochta Gaeilge', 'Ollscoil na hÉireann Gaillimh', 'gCeathrú Rua', 'gCarna', 'nGaoth Dobhair', 'mBaile Átha Cliath', 'Iniúchóireacha Inmheánaigh', 'Ard-Reachtaire Cuntas agus Ciste', 'Comhairle Cathrach Bhaile Átha Cliath', 'tArd Údarás', 'Phort Láirge', 'Dún Garbhán', 'Mhór-Iarnród an Deiscirt agus an Iarthair', 'Bhaile Átha Cliath', 'Bhaile Átha Cliath', 'Oliver Goldsmith', 'Maria Edgeworth', 'Padraic Colum', 'P.W .', 'Bhaile Átha Cliath', 'Shochaí an Eolais', 'Atlantaigh', 'Saorstát Éireann', 'Chumann Fiúsailéirí Ríoga Bhaile Átha Cliath', 'Seán Kyne', 'Chamara Ireland', 'TechSpace', 'Chomhairle Cathrach Bhaile Átha Cliath', 'Chlár Éire Ildánach', 'Chúirt Chuarda', 'AE', \"d'Ionad Faisnéise do shaoránaigh\", 'FLAC', 'Faisnéise Gnó', 'an Lárleabharlann', 'Ionad ILAC', 'Ring', 'Choiste na Réigiún', 'Choiste Eacnamaíoch agus Sóisialta', 'Bhaile Átha Cliath', 'Údarás na Gaeltachta', 'Stiúrthóir Ghníomhaireacht an Aontais Eorpaigh um Chearta Bunúsacha', 'Morten Kjaerum', 'Vín', 'Gaelscoil Coláiste Mhuire', 'Shráid Henrietta', 'Puffin Books', 'Fheachtas Léitheoireachta ar fud na Cathrach do Pháistí', 'Aontas Eorpach', 'Choinbhinsiún na Náisiún Aontaithe', 'Parlaiminte', 'gCúirt Dúiche', 'Chomhairle', 'Parlaimint na hEorpa', 'mBanc Ceannais Eorpach', 'Bornholm', 'Mara Bailt', 'an tSualainn', 'an Ghearmáin', 'an Pholainn', 'Parlaimint na hEorpa', 'Chomhairle', 'Aontais', 'Chomhairle Cathrach Bhaile Átha Cliath', 'Bhaile Átha Cliath', 'Ríocht Aontaithe', 'Éirinn', 'Nielsen', 'gComhairle', 'gCoimisiún', 'Coiste Eacnamaíoch agus Sóisialta', 'Coiste na Réigiún', 'Éirinn', 'Aonad Agrai-Éiceolaíochta', 'SPNF', 'Chlár Caomhantais an Chrotaigh', 'Chomhairle Eorpach', 'Aontas', 'Aontas', 'Aire Stáit do Ghnóthaí Gaeltachta', 'Seán Kyne', 'Údarás na Gaeltachta', 'Comharchumann Forbartha Árann', 'Comharchumann Ráth Chairn', 'Mhonarcha Brioscaí Iacóib', 'Choláiste na gCoimisinéirí', 'Coimisinéara', 'Rialtas', 'Bhaile Átha Cliath', 'UNESCO', 'Oifig Eolais', 'bPreasoifig', 'An Roinn Ealaíon , Oidreachta , Gnóthaí Réigiúnacha , Tuaithe agus Gaeltachta , 23 Sráid Chill Dara , Baile Átha Cliath 2', 'Cúirte Breithiúnais', 'Cathair Bhaile Átha Cliath', 'Roinn Cumarsáide , Acmhainní Nádúrtha agus Fuinneamh', 'Preparing for Life', 'Oifig Ceantair Thuaidh-Lár', 'Chomhairle Cathrach Bhaile Átha Cliath', 'Oifig Ealaíon', 'Parlaimint na hEorpa', 'Oifig Aicmithe Scannán na hÉireann', 'IFCO', 'Brendan', 'Chomhairle Comhairle Cathrach Bhaile Átha Cliath', 'Choiste Cuimhneachán na Comhairle', 'Choiste um Ainmniú Cuimhneacháin', 'Mhainistir Naomh Tomás', 'Stephen Conlin', '14 Sráid Henrietta', 'Seoirseacha', 'gCúirt Bhreithiúnais Eorpach', 'Bhainc Eorpaigh Infheistíochta', 'Oifigeach Oidhreachta', 'Bhaile Átha Cliath', 'Bhaile Átha Cliath', 'Ring', 'Chomhairle Chathair Bhaile Átha Cliath', '14 Sráid Henrietta', 'Seoirseacha', 'Údarás na Gaeltachta', 'hOllscoil na hÉireann , Gaillimh', 'Ghaeltacht', 'Acadamh na hOllscolaíochta Gaeilge', 'Chathair Chruthaitheach Bhaile Átha Cliath', 'Bhaile Átha Cliath', 'Cúraim agus Oideachais Luath-Óige', 'COLÓ', 'PÁEP', 'Comhairle Cathrach Bhaile Átha Cliath', 'tArd-Údarás', 'Choiste Chomhairligh', 'lárchathair thuaidh Bhaile Átha Cliath', \"d'Údarás na Gaeltachta\", 'Dix', 'E.R. McClintock Dix', 'mBaile Átha Cliath', 'Arramara Teo', 'gCill Chiaráin , Conamara', 'Cathaoirleach ar Choiste Dhámhachtain Liteartha Idirnáisiúnta Bhaile Átha Cliath', 'Ghrúpa Bainistíochta Bhaile Átha Cliath', 'UNESCO', 'Údarás na Gaeltachta', 'An Chomhairle Ealaíon', 'Ealaíon na Gaeltachta Teo', 'Músaem Tionóntán', 'Mainistir Naomh Tomás', 'Chlár Éire Ildánach', 'Comhairle Cathrach Bhaile Átha Cliath', 'Comhairle Cathrach Bhaile Átha Cliath', 'Leabharlanna Poiblí Chomhairle Cathrach Bhaile Átha Cliath', 'Chathair Bhaile Átha Cliath', 'Leonardo Da Vinci', 'DEArs.net', 'Chúirt Iniúchóirí', 'Parlaimint na hEorpa', 'Comhairle Contae Chiarraí', 'Chlár an Duine agus an Bithsféar', 'nAnaclann Bithsféir', 'mBaile Átha Cliath', 'Ealaín na Gaeltachta', 'Údarás na Gaeltachta', 'Choimisiún Lámhscríbhinní na hÉireann', 'gCartlann Náisiúnta', 'tAontas Eorpach', 'Náisiún Aontaithe', 'Parlaimint na hEorpa', 'Leabharlann Mheal Charleville', 'Lárleabharlann', 'Shé Geraghty', 'Baile Átha Cliath', 'Chúirt Ghinearálta', 'Cúirte Breithiúnais', 'Mhoscó', 'BCE', 'Chúirt Bhreithiúnais', 'Joyce', 'Seamus Heaney', 'John Montague', 'Patrick Kavanagh', 'Brian Friel', 'Derek Mahon', 'Uachtarán na Comhairle', 'Parlaimint na hEorpa', 'Foghlama Oscailte', 'Lárleabharlann', 'Parlaimint na hEorpa', 'Francis Bacon', 'Feidhmeannach na Seirbhísí Sláinte', 'Coiste Gairmoideachais na Gaillimhe', 'Cumann Cúramóirí na hÉireann', 'gCúirt Bhreithiúnais', 'Parlaimint na hEorpa', 'Interreg', 'FLAC', 'Ionaid Chomhairle Dlí in aisce', 'Ruairí Mac Easmainn', 'Angóla', 'Ostair', 'Danmhairg', 'Iorua', 'Éirinn', 'Mheicsiceo', 'Mósaimbíc', 'Nigéir', 'Tuirc', 'Vítneam', 'Stáit Aontaithe Mheiriceá', 'Cultúr Éireann', 'nDún Éideann', 'Chomhphobail Eorpaigh', 'Aontas Eorpach', 'Shráid Henrietta', 'Ghaeltacht', 'hAcadamh na hOllscolaíochta Gaeilge', 'hInstitiúidí Teicneolaíochta na Gaillimhe-Maigh Eo', 'hInstitiúid Theicneolaíocht Phort Láirge', 'gcathair Bhaile Átha Cliath', 'Humphreys', 'gCathair Bhaile Átha Cliath', 'Seomra Léitheoireachta , Sráid an Phiarsaigh', 'Baile Átha Cliath', 'tSeirbhís Buiséadaithe agus Comhairle Airgid', 'SBCA', 'Phlean Cultúir', 'Chlár Éire ildánach', 'Ring', 'Parlaimint na hEorpa', 'Comhairle na nAirí', 'Coimisiún aird', 'gClár um Ealaín Páistí', 'Oifig Ealaíon', 'Preparing for Life', 'Chlár Oiliúna do na hEalaíona Luathbhlianta', 'COELB', 'John Glynn', 'Clár Oibre nua Comhair', 'mBaile Átha Cliath', 'PÁEP', 'chathair Bhaile Átha Cliath', 'Yeats', 'Yeats', 'Colin Smythe', 'W.B. Yeats', 'Jack B. Yeats', 'Dún Emer', 'Cuala', 'Comhairle Cathrach Bhaile Átha Cliath', 'Comhairle Cathrach Bhaile Átha Cliath', 'hÉirinn', 'Baile Átha Cliath', 'Údarás na Gaeltachta', 'TG4', 'Leabharlann Bhaile Munna', 'Leabharlann na Cabraí', 'Lárleabharlann', 'Leabharlann Dhomhnach Míde', 'Leabharlann Ráth Eanaigh', 'Leabharlann Ráth Maonais', 'Leabharlann Shráid an Phiarsaigh', 'Ionad Pobail Shráid Cuffe', 'Sráid Chaoimhín', 'Cathair Bhaile Átha Cliath', 'Shráid an Phiarsaigh', 'Shráid Sheamlas an Éisc', 'Akhil Sharma', 'Chonamara', \"d'Oileáin Árann\", 'gComhphobal Eorpach', 'Coiste Iniúchta', 'Údarás na Gaeltachta', 'Chathair Litríochta', 'Bhaile Átha Cliath', 'Comhairle Cathrach Bhaile Átha Cliath', 'na Polainne', 'na Ríochta Aontaithe', 'Pholainn', 'Ríocht Aontaithe', 'Aontais Eorpaigh', 'Aontais Eorpaigh', 'Oifig Ealaíon Chathair Bhaile Átha Cliath', 'EPL', 'Leabharlanna Poiblí Chathair Bhaile Átha Cliath', 'Junior Achievement Ireland', 'The Power of Design', 'Brendan Teeling', 'Éire Ildánach', 'Dún Richmond', 'Bhaile Átha Cliath', 'Maigh Cuilinn', 'gCarn Mór', 'gCo. na Gaillimhe', 'nDún Richmond , Baile Átha Cliath 8', 'Bhaile Átha Cliath', 'Chomhairle Cathrach Bhaile Átha Cliath', 'Enda Kenny', 'Éire ildánach', 'tArd-Mheára', 'Cairt Fhóram Idirchreidimh Bhaile Átha Cliath', 'Europol', 'Parlaimint na hEorpa', 'Samhaltú Digiteach Bhaile Átha Cliath na Meánaoiseanna', 'John T', 'Ionad Faisnéise Gnó', 'Lárleabharlann', 'Baile Átha Cliath', 'CCE', 'Seamus Nolan', 'Comhairle Cathrach Bhaile Átha Cliath', 'tSeirbhís Bhuiséadta agus Chomhairle Airgid', 'MABS', 'Port Life', 'mBaile Átha Cliath', 'Eoraip', 'NENSI', 'Thionscnamh Oirthuaisceart Lár Chathair Bhaile Átha Cliath', 'An Roinn Oideachais agus Eolaíochta', 'An Roinn Gnóthaí Pobail Tuaithe agus Gaeltachta', 'FÁS', 'Pobal', 'Aontais Eorpaigh', 'Bailiúchán Éireann', 'Bhailiúchán Bhaile Átha Cliath', 'Stiúrthóir um Chathair Bhaile Átha Cliath', 'Margaret Hayes', 'Leabharlannaí Chathair Bhaile Átha Cliath', 'Maigh Eo', 'Tír Chonaill', 'Cúige Mumhan', 'gCeathrú Rua', 'gConamara', 'Staidéar Teangeolaíoch', 'Ghaeltacht', 'Roinn Gnóthaí Pobail Tuaithe agus Gaeltachta', 'Oifig Ealaíon', 'Comhairle Cathrach Bhaile Átha Cliath', 'Dhún Richmond', 'McEntee', 'Mhúsaem Tionóntán Bhaile Átha Cliath', 'Éirinn', 'mBaile Átha Cliath', 'Coiste Iniúchta', 'Údarás na Gaeltachta', 'Baile Átha Cliath', 'Scéim na Siúlóidí', 'Chlár Éire Ildánach', 'Chomhairle Cathrach Bhaile Átha Cliath', 'gCúirt Chuarda', 'gCúirt Dúiche', 'Chomharchumann Forbartha Árann Teo.', 'Inis Mór', 'Chomhairle Eorpach', 'Cúirte Breithiúnais', 'Comhairle Cathrach Bhaile Átha Cliath', 'Dublin.ie', 'Baile Átha Cliath', 'gCeathrú Rua', 'M.A.', 'Dánlann Chathair Bhaile Átha Cliath', 'Create', 'Comhpháirtíocht Chomhoibritheach Ealaíon', 'CCE', 'San José', 'California', 'Learpholl', 'Moscó', 'Montréal', 'Dublin', 'Ohio', 'Bhailiúchán Bhaile Átha Cliath', 'Údarás na Gaeltachta', 'Coimisiún Forbartha an Iarthair', 'Comhairle Contae na Gaillimhe', '( Y ) OUR STORY', 'mBaile Formaid', 'Droimeanach', 'gCuarbhóthar Theas', \"'Ceangal\", 'nGaeltacht Dhún na nGall', 'chathair Bhaile Átha Cliath', 'Chlár Éire Ildánach', 'Bhaile Átha Cliath', 'gCeathrú Rua , Co. na Gaillimhe', 'Comhairle Cathrach Bhaile Átha Cliath', 'Leabharlanna Poiblí Chathair Bhaile Átha Cliath', 'tSeirbhís Idirghabhála Teaghlaigh', 'FLAC', 'Ionaid Chomhairle Dlí Saor in aisce', 'Ríocht Aontaithe', 'Éirinn', 'Chathair Chruthaitheach Bhaile Átha Cliath', 'Bhaile Átha Cliath', 'Leabharlann Phoiblí Chathair Bhaile Átha Cliath', 'Leabharlann Phoiblí Mheal Charleville', 'Lárleabharlann óstáil', 'CoderDojos', 'Údarás na Gaeltachta', 'Chlár Éire Ildánach', 'Líonra Rannpháirtíochta Pobail Chathair Bhaile Átha Cliath', 'Margaret Hayes', 'Comhairle Contae na Mí', 'Coiste Mhúsaem Francis Ledwidge', 'Chlár Right to Read', 'Opportunities for All', 'Údarás na Gaeltachta', 'Humphreys', 'Údarás na Gaeltachta', 'tSualainn', 'Aontas Eorpach', 'Chomharchumann Inis Mór , Árann', 'Éire Ildánach Bhaile Átha Cliath', 'Margaret Hayes', 'Cartlann Chathair Bhaile Átha Cliath', 'Choiste Eacnamaíoch agus Sóisialta', 'Leabharlann Gilbert', 'Leabharlann Gilbert', 'Baile Átha Cliath', 'hÉirinn', 'John T. Gilbert', 'Bardas Bhaile Átha Cliath', 'Humphreys', 'Comhar Naíonraí na Gaeltachta Teo..', 'Aontais Eorpaigh', 'AE', 'Stáit Aontaithe', 'Astráil', 'Nua-Shéalainn', 'Cathair Bhaile Átha Cliath', 'hÉireann', 'Bhaile Átha Cliath', 'hÉirinn', 'Eoraip', 'Cúram Leanaí i dTír an Fhia', 'Mhuintearas', 'Chomhairle Cathrach Bhaile Átha Cliath', 'Bram Stoker', 'Bhéal an Mhuirthead', 'Chois Fharraige', 'Gaeltachta Chiarraí Theas', 'Údarás na Gaeltachta', 'Ghaeltacht', 'Bhaile Átha Cliath', 'Dunedin', 'Nua-Shéalainn', 'Granada na Spáinne', 'Heidelberg', 'Ghearmáin', 'Prág', 'bPoblacht na Seice', 'Pharlaimint na hEorpa', 'Kersten NAUMANN', 'gCoiste Achainíocha', 'Landtage na Beirlín', 'Brandenburg', 'tSeirbhís um Cheapacháin Phoiblí', 'Fiontraíocht Éireann', 'RDI', 'Ionad na dTeangacha , Ollscoil na hÉireann , Má Nuad', 'gClár Interreg IIIB Iarthuaisceart na hEorpa', 'Ionaid Chothaithe', 'Comhairle Cathrach Bhaile Átha Cliath', 'Bhaile Átha Cliath', 'Mitchell O’ Connor', 'Comhpháirtíocht Ealaíon na Luathbhlianta', 'Comhpháirtíocht an Taoibh Thuaidh', 'gCeantar Thuaidh-Lár', 'Chlár Éire Ildánach', 'Media Antenna Teo', 'Aontais Eorpaigh', 'Comhairle Cathrach Bhaile Átha Cliath', 'Moscó', 'Bhaile Átha Cliath', 'UNESCO']\n",
            "2087\n"
          ]
        }
      ]
    },
    {
      "cell_type": "code",
      "source": [
        "import numpy as np\n",
        "\n",
        "unique = {'Validation':[],\n",
        "          'Test':[]}\n",
        "\n",
        "for words in val_words:\n",
        "  if words not in train_words:\n",
        "    unique['Validation'].append(words)\n",
        "\n",
        "for words in test_words:\n",
        "  if words not in train_words:\n",
        "    unique['Test'].append(words)\n",
        "\n",
        "print('Validation:')\n",
        "print(unique['Validation'])\n",
        "print(f'Not in training: {len(unique[\"Validation\"])}, Unique Entities not in training: {len(np.unique(unique[\"Validation\"]))}, Total Entities: {len(val_words)}')\n",
        "print(f'\\nTest:')\n",
        "print(unique[\"Test\"])\n",
        "print(f'Not in training: {len(unique[\"Test\"])}, Unique Entities not in training: {len(np.unique(unique[\"Test\"]))}, Total Entities: {len(test_words)}')"
      ],
      "metadata": {
        "colab": {
          "base_uri": "https://localhost:8080/"
        },
        "id": "LUkbz9CpYZ8V",
        "outputId": "e1de5554-3307-49c9-b5b1-1f6419a1b33b"
      },
      "execution_count": null,
      "outputs": [
        {
          "output_type": "stream",
          "name": "stdout",
          "text": [
            "Validation:\n",
            "['Concepta', 'Eoin Mac Diarmada', 'mBaile na dTor', 'Robert de Niro', 'Kenneth Branagh', 'Tom Hulce', 'Helena Bonham-Carter', 'John Cleese', 'Ian Holm', 'Robert Hardy', 'Corrán Binne', 'Barcó', 'Plunket Greene', 'George Mackay Brown', 'bhFine Gael', 'Cumann Fíoncheannaithe Bhaile Átha Cliath', 'gCúirt Chéadchéime', 'Cláraitheoir na Cúirte Breithiúnais', 'Cláraitheoir na Cúirte Céadchéime', 'Cláraitheoir na Cúirte Céadchéime', 'Cláraitheoir na Cúirte Breithiúnais', 'Cnocán an Ultaigh', 'Ultach', 'Sheán Sheáin Í Chearnaigh', 'Dublin and Banagher Distillery', 'Sheán Ó Gallchóir', 'Stiúrthóir Ginearálta an Fhorais Riaracháin', 'Seosaimhín Ní Bheaglaoich', 'mBaile na bPoc', 'Contae Chiarraí', 'Sherwood Foresters', 'Shráid an Mhóta', 'Dhún Laoghaoire', 'Micheal D. Higgins', 'Colm Cille', 'Cholm Cille', 'Michael Mullen', 'Lecanvey', 'Pádraic Ua Dubhthaigh', 'AIE', 'gCearnóg Pheadair', 'Longueville', 'Co. Chorcaí', 'Dick Spring', \"Shiobhán O ' Keefe\", 'gCeann Trá', 'Hollywood', 'gCloch Chora', 'Coileánach', 'Pearse Hutchinson', 'Peter Kelly', 'Stiúrthóir na nIonchúiseamh Poiblí', 'Ard-Chúirt', 'Tomás Óg', 'Meiriceá', 'Cáit', 'Thomás Ó Maoileoin', 'Dún Mór', 'Loch Dhún Lúiche', 'Earagal', 'Phádraig Bán', 'gCill Orglan', 'Eastát Tionsclaíocha', 'Mustafa Barzaní', 'hIarthar Bhéal Feirste', 'Van Helsing', 'Laoise', 'Mc Ewen', 'Dónall Ó Muláin', 'Comhdháil Vín', 'gCill Dara', 'Uisce Éireann', 'Chúirt Eorpach um Cheart an Duine', 'Beyoncé', 'Coldplay', 'Baile Shláine', 'Gardaí', 'Chúirt Uachtarach', 'Ard-Chúirt', 'Chúirt Dúiche', 'Aire Stáit ,', 'James Browne', 'Seanad', 'dTrá Lí', 'hÚdarás na Gaeltachta', 'Catherine Connolly', 'Bus Éireann', 'Industrial Development Authority', 'IDA', 'NATO', 'Náisiúin Aontaithe', 'Jadotville', 'Náisiúin Aontaithe', 'Rialtais an Stáit', 'Partnership for Peace', 'EU Rapid Deployment Capacity', 'an EU battle group', 'European Defence Agency', 'PESCO', 'O’Callaghan', 'Rúis', 'Úcráin', 'NA ,', 'bhFórsaí Cosanta', 'John F Kennedy.', 'Arlington', 'Bríde', 'nDroichead Átha', 'Réada Cronin', 'Costello', 'Chúirt Uachtarach', 'gCúirt Uachtarach', 'Hogan', 'Ard-Chúirt', 'Chomhaontas Cuimsitheach Eacnamaíoch agus Trádála', 'tSeapáin', 'Connolly', 'Rialtas an Comhaontas Cuimsitheach Eacnamaíoch agus Trádála', 'CETA', 'CCET', 'Comhaontas Cuimsitheach Eacnamaíoch agus Trádála', 'Costello', 'Charleton', 'Ó hÓgáin', 'Raymond Crotty', 'gCoimisiún Eorpach', 'Chúirt Uachtarach', 'Dháil Éireann', 'Roinn Turasóireachta , Cultúir , Ealaíon , Gaeltachta , Spóirt agus Meán', 'Fondúireacht Ollscoile na hÉireann', 'SAM', 'GAA']\n",
            "Not in training: 132, Unique Entities not in training: 124, Total Entities: 201\n",
            "\n",
            "Test:\n",
            "['Sheosamh Mac Grianna', 'Johnathan Cape', 'Naomi', 'Maidhc Ó Seachnasaí', 'mBaile Átha an Rí', 'Pat McDonagh', 'Páistí Naíscoil an Lóiste Úir', 'Bunscoil Mhic Reachtain', 'Kitchener', 'Churchill', 'Ciarán', 'Chaitlín Maude', 'Uí Eidhin', 'Sráid na Cathrach , Co. an Chláir', 'Bishopsgate Institute', 'Bhreandán Ó hEithir', 'Sonny', 'Bhreandán', 'Bhreandáin', 'Conall Ó Dochartaigh', 'Seosamh Ó Cearbhaill', 'Rose of Mooncoin', 'Mike Redfern', 'Jóín Joe Labhráis', 'Dearbhla Ní Bhrolacháin', 'Dhearbhla', 'Quartier Latin Phárais', 'An Páirtí Glas', 'Cearta daonna Bunú comhlachtaí deonacha Cúiteamh timpiste Comhairle do scoileanna Gaeilge', 'Tí Chulainn Co. Ard Mhacha', 'mBuanchoiste Eolaíochta', 'Ghaillimh', 'Michael Crimmins', 'Nua-Ealaíne na hÉireann', 'An Ceoláras Náisiúnta', 'Gailearaí Náisiúnta na hÉireann', 'Músaem na Staire Nádúrtha', 'Dún Uí Choileáin', 'Ard-Mhúsaem na hÉireann , Sráid Chill Dara', 'National Photographic Archive', 'Tiobraid Árann', 'Mumhan', 'Nicky English', 'Phádraig Uí Chaiticín', 'Garret', 'Bill Clinton', 'Fhinn Diarmaid', 'Helena McMahon', 'Ó Murchú', 'Collins', 'RnaG', 'Uachtar Achaidh', 'Logan', 'Unison', 'gCoimisiún um Comhionannas Ciníoch', 'Máire Andrews', 'Aiden Coffey', 'Jackie Daly', 'Máire O Keefe', 'Séamus Creagh', 'Tony Linnane', 'Breándán Ó Beaglaoich', 'Denis Doody', 'Eamonn Coyne', 'tAire Sláinte Bairbre de Brún', 'SEIF', 'John Fisher', 'Liobartaí Bhaile Átha Cliath', 'Theampall Phádraig', \"O ' Shea 's\", 'nDomhnach Broc', \"Madigan 's\", 'Bhreandán', 'Aodh Rua', 'Béal Átha Seanaidh', 'Éamonn', 'gCollchoill', 'gCollchoill', \"Watson 's\", 'gCill Iníon Léinín', 'Óstán Ghaoth Dobhair', 'Ó Néill', 'Kenneth Nicholls', 'gColáiste na hOllscoile , Corcaigh', 'Nic Suibhne', 'Mhainistir Éimhín , Co. Chill Dara', 'Sapa Inca', 'Comiskey', 'Cháit', 'Donncha', 'gCluain na hAbhann', 'Marcas', 'Dónall', 'Scoil Dhamhsa Uí Chorragáin', 'Phádraig Ó hIceadha', 'Coiste Dhaonscoil na Mumhan', 'Coiste Dhaonscoil na Mumhan', 'Phádraig Ó hIceadha', 'Celtic Candles', 'Johnny Rua', 'Mumhan', 'Mac Craith', 'Roinn Ealaíon , Cultúir , Gaeltachta agus Oileán', 'Mary Harney', \"Liz O ' Donnell\", 'Lunga', 'Sgarba', \"Eilean a ' Bhealaich\", 'Coire Bhreacháin', 'Sgarba', 'Eilean Diùra', 'George Orwell', 'Bhriain', 'Chormaic', 'Choinn Uí Néill', 'Suirbhéireacht Ordanáis Éireann', 'Rehab Group', 'Irish Shell', 'Sportsfile', 'Tesco Ireland', 'The Yard', 'Nissan Tino', 'Ghníomhaireacht Forbartha Tionscail Éireann', 'Rús', 'Liospóin', 'Nice', 'Bhriotáin', 'dTír na mBascach', 'Simon Harris', 'Donohoe', 'LPG', 'Cheann Comhairle', 'Bronagh O’Hanlon', 'Inisherin', 'Colm Bairéad', 'Kerry Condon', 'Colin Farrell', 'Brendan Gleeson', 'Barry Keoghan', 'Martin McDonagh', 'Coimisiún na Meán', 'Port Láirge', 'Mhí', 'Seirbhíse um Cheapacháin Poiblí', 'PAS', 'Ghaeltachta', 'Dún na nGall', 'Port Láirge', 'Mhí', 'Rialtais', 'Port Láirge', 'Mhí', 'Ghaeltacht na Gaillimhe', 'Eorpach na Gaeilge', 'TEG', 'an Oireachtais', 'Jigsaw', 'CAMHS', 'Comhairle Slándála na NA', 'Comhairle na Náisiún Aontaithe um Chearta an Duine', 'Úcráin', 'gComhairle Slándála', 'Rúis', 'Úcráin', 'ciniciúil na Rúise', 'NA', 'Rialtais', 'Dháil Éireann', 'Sheanad Éireann', 'Metsola', 'Roberta Metsola', 'Uachtarán Pharlaimint na hEorpa', 'bPáirc an Chrócaigh', 'Zelenskyy', 'gCív', 'Rúise', 'Ghrúpa Réigiúnach', 'Rabbitte', 'tSiria', 'Tuirce', 'Siria', 'tOmbudsman', 'Kathleen Lynn', 'Chontae Mhaigh Eo', 'Móinín na gCiseach', 'Connolly', 'Bord Oideachais agus Oiliúna na Gaillimhe agus Ros Comáin', 'BOO', 'GRETB', 'FET', 'Muirbheach', 'Ollscoil Theicneolaíochta an Atlantaigh', 'ATU', 'Ollscoil na Gaillimhe', 'Rialtais', 'Ollscoil Teicneolaíochta na Mumhan', 'MTU', 'Nicola Sturgeon', 'Barnardos', 'Úcráin', 'Ó Cathasaigh', 'Árainn', 'Slí an Atlantaigh Fhiáin', 'Inis Eoghain', 'Chionn tSáile', 'Contae Chorcaí', 'gCoimisinéir Teanga', 'Fáilte Éireann', 'bhFeidhmeannas ó Thuaidh', 'Fhoras Teanga Thuaidh-Theas', 'Foras Teanga', 'Sheosaimh Mhic Dhonnacha', 'Glór na nGael', 'Gaeloideachas Teoranta', 'Ó Cathasaigh', 'Aengus Ó Snodaigh', 'bhFeidhmeannas ó Thuaidh', 'An gCeathrú Rua', 'Calafort Ros an Mhíl', 'nGaeltacht na Gaillimhe', 'Calafort Ros an Mhíl', 'Atlantach', 'Christopher O’Sullivan', 'nGaeltacht na nDéise', 'Local Link', 'Eamon Ryan', 'nGaeltacht na nDéise', 'gCiarraí']\n",
            "Not in training: 228, Unique Entities not in training: 210, Total Entities: 335\n"
          ]
        }
      ]
    },
    {
      "cell_type": "code",
      "source": [
        "print(unique)"
      ],
      "metadata": {
        "colab": {
          "base_uri": "https://localhost:8080/"
        },
        "id": "WlXDK8Y9atXv",
        "outputId": "852b33a9-be21-46d9-b531-785987e41cf9"
      },
      "execution_count": null,
      "outputs": [
        {
          "output_type": "stream",
          "name": "stdout",
          "text": [
            "{'Validation': ['Concepta', 'Eoin Mac Diarmada', 'mBaile na dTor', 'Robert de Niro', 'Kenneth Branagh', 'Tom Hulce', 'Helena Bonham-Carter', 'John Cleese', 'Ian Holm', 'Robert Hardy', 'Corrán Binne', 'Barcó', 'Plunket Greene', 'George Mackay Brown', 'bhFine Gael', 'Cumann Fíoncheannaithe Bhaile Átha Cliath', 'gCúirt Chéadchéime', 'Cláraitheoir na Cúirte Breithiúnais', 'Cláraitheoir na Cúirte Céadchéime', 'Cláraitheoir na Cúirte Céadchéime', 'Cláraitheoir na Cúirte Breithiúnais', 'Cnocán an Ultaigh', 'Ultach', 'Sheán Sheáin Í Chearnaigh', 'Dublin and Banagher Distillery', 'Sheán Ó Gallchóir', 'Stiúrthóir Ginearálta an Fhorais Riaracháin', 'Seosaimhín Ní Bheaglaoich', 'mBaile na bPoc', 'Contae Chiarraí', 'Sherwood Foresters', 'Shráid an Mhóta', 'Dhún Laoghaoire', 'Micheal D. Higgins', 'Colm Cille', 'Cholm Cille', 'Michael Mullen', 'Lecanvey', 'Pádraic Ua Dubhthaigh', 'AIE', 'gCearnóg Pheadair', 'Longueville', 'Co. Chorcaí', 'Dick Spring', \"Shiobhán O ' Keefe\", 'gCeann Trá', 'Hollywood', 'gCloch Chora', 'Coileánach', 'Pearse Hutchinson', 'Peter Kelly', 'Stiúrthóir na nIonchúiseamh Poiblí', 'Ard-Chúirt', 'Tomás Óg', 'Meiriceá', 'Cáit', 'Thomás Ó Maoileoin', 'Dún Mór', 'Loch Dhún Lúiche', 'Earagal', 'Phádraig Bán', 'gCill Orglan', 'Eastát Tionsclaíocha', 'Mustafa Barzaní', 'hIarthar Bhéal Feirste', 'Van Helsing', 'Laoise', 'Mc Ewen', 'Dónall Ó Muláin', 'Comhdháil Vín', 'gCill Dara', 'Uisce Éireann', 'Chúirt Eorpach um Cheart an Duine', 'Beyoncé', 'Coldplay', 'Baile Shláine', 'Gardaí', 'Chúirt Uachtarach', 'Ard-Chúirt', 'Chúirt Dúiche', 'Aire Stáit ,', 'James Browne', 'Seanad', 'dTrá Lí', 'hÚdarás na Gaeltachta', 'Catherine Connolly', 'Bus Éireann', 'Industrial Development Authority', 'IDA', 'NATO', 'Náisiúin Aontaithe', 'Jadotville', 'Náisiúin Aontaithe', 'Rialtais an Stáit', 'Partnership for Peace', 'EU Rapid Deployment Capacity', 'an EU battle group', 'European Defence Agency', 'PESCO', 'O’Callaghan', 'Rúis', 'Úcráin', 'NA ,', 'bhFórsaí Cosanta', 'John F Kennedy.', 'Arlington', 'Bríde', 'nDroichead Átha', 'Réada Cronin', 'Costello', 'Chúirt Uachtarach', 'gCúirt Uachtarach', 'Hogan', 'Ard-Chúirt', 'Chomhaontas Cuimsitheach Eacnamaíoch agus Trádála', 'tSeapáin', 'Connolly', 'Rialtas an Comhaontas Cuimsitheach Eacnamaíoch agus Trádála', 'CETA', 'CCET', 'Comhaontas Cuimsitheach Eacnamaíoch agus Trádála', 'Costello', 'Charleton', 'Ó hÓgáin', 'Raymond Crotty', 'gCoimisiún Eorpach', 'Chúirt Uachtarach', 'Dháil Éireann', 'Roinn Turasóireachta , Cultúir , Ealaíon , Gaeltachta , Spóirt agus Meán', 'Fondúireacht Ollscoile na hÉireann', 'SAM', 'GAA'], 'Test': ['Sheosamh Mac Grianna', 'Johnathan Cape', 'Naomi', 'Maidhc Ó Seachnasaí', 'mBaile Átha an Rí', 'Pat McDonagh', 'Páistí Naíscoil an Lóiste Úir', 'Bunscoil Mhic Reachtain', 'Kitchener', 'Churchill', 'Ciarán', 'Chaitlín Maude', 'Uí Eidhin', 'Sráid na Cathrach , Co. an Chláir', 'Bishopsgate Institute', 'Bhreandán Ó hEithir', 'Sonny', 'Bhreandán', 'Bhreandáin', 'Conall Ó Dochartaigh', 'Seosamh Ó Cearbhaill', 'Rose of Mooncoin', 'Mike Redfern', 'Jóín Joe Labhráis', 'Dearbhla Ní Bhrolacháin', 'Dhearbhla', 'Quartier Latin Phárais', 'An Páirtí Glas', 'Cearta daonna Bunú comhlachtaí deonacha Cúiteamh timpiste Comhairle do scoileanna Gaeilge', 'Tí Chulainn Co. Ard Mhacha', 'mBuanchoiste Eolaíochta', 'Ghaillimh', 'Michael Crimmins', 'Nua-Ealaíne na hÉireann', 'An Ceoláras Náisiúnta', 'Gailearaí Náisiúnta na hÉireann', 'Músaem na Staire Nádúrtha', 'Dún Uí Choileáin', 'Ard-Mhúsaem na hÉireann , Sráid Chill Dara', 'National Photographic Archive', 'Tiobraid Árann', 'Mumhan', 'Nicky English', 'Phádraig Uí Chaiticín', 'Garret', 'Bill Clinton', 'Fhinn Diarmaid', 'Helena McMahon', 'Ó Murchú', 'Collins', 'RnaG', 'Uachtar Achaidh', 'Logan', 'Unison', 'gCoimisiún um Comhionannas Ciníoch', 'Máire Andrews', 'Aiden Coffey', 'Jackie Daly', 'Máire O Keefe', 'Séamus Creagh', 'Tony Linnane', 'Breándán Ó Beaglaoich', 'Denis Doody', 'Eamonn Coyne', 'tAire Sláinte Bairbre de Brún', 'SEIF', 'John Fisher', 'Liobartaí Bhaile Átha Cliath', 'Theampall Phádraig', \"O ' Shea 's\", 'nDomhnach Broc', \"Madigan 's\", 'Bhreandán', 'Aodh Rua', 'Béal Átha Seanaidh', 'Éamonn', 'gCollchoill', 'gCollchoill', \"Watson 's\", 'gCill Iníon Léinín', 'Óstán Ghaoth Dobhair', 'Ó Néill', 'Kenneth Nicholls', 'gColáiste na hOllscoile , Corcaigh', 'Nic Suibhne', 'Mhainistir Éimhín , Co. Chill Dara', 'Sapa Inca', 'Comiskey', 'Cháit', 'Donncha', 'gCluain na hAbhann', 'Marcas', 'Dónall', 'Scoil Dhamhsa Uí Chorragáin', 'Phádraig Ó hIceadha', 'Coiste Dhaonscoil na Mumhan', 'Coiste Dhaonscoil na Mumhan', 'Phádraig Ó hIceadha', 'Celtic Candles', 'Johnny Rua', 'Mumhan', 'Mac Craith', 'Roinn Ealaíon , Cultúir , Gaeltachta agus Oileán', 'Mary Harney', \"Liz O ' Donnell\", 'Lunga', 'Sgarba', \"Eilean a ' Bhealaich\", 'Coire Bhreacháin', 'Sgarba', 'Eilean Diùra', 'George Orwell', 'Bhriain', 'Chormaic', 'Choinn Uí Néill', 'Suirbhéireacht Ordanáis Éireann', 'Rehab Group', 'Irish Shell', 'Sportsfile', 'Tesco Ireland', 'The Yard', 'Nissan Tino', 'Ghníomhaireacht Forbartha Tionscail Éireann', 'Rús', 'Liospóin', 'Nice', 'Bhriotáin', 'dTír na mBascach', 'Simon Harris', 'Donohoe', 'LPG', 'Cheann Comhairle', 'Bronagh O’Hanlon', 'Inisherin', 'Colm Bairéad', 'Kerry Condon', 'Colin Farrell', 'Brendan Gleeson', 'Barry Keoghan', 'Martin McDonagh', 'Coimisiún na Meán', 'Port Láirge', 'Mhí', 'Seirbhíse um Cheapacháin Poiblí', 'PAS', 'Ghaeltachta', 'Dún na nGall', 'Port Láirge', 'Mhí', 'Rialtais', 'Port Láirge', 'Mhí', 'Ghaeltacht na Gaillimhe', 'Eorpach na Gaeilge', 'TEG', 'an Oireachtais', 'Jigsaw', 'CAMHS', 'Comhairle Slándála na NA', 'Comhairle na Náisiún Aontaithe um Chearta an Duine', 'Úcráin', 'gComhairle Slándála', 'Rúis', 'Úcráin', 'ciniciúil na Rúise', 'NA', 'Rialtais', 'Dháil Éireann', 'Sheanad Éireann', 'Metsola', 'Roberta Metsola', 'Uachtarán Pharlaimint na hEorpa', 'bPáirc an Chrócaigh', 'Zelenskyy', 'gCív', 'Rúise', 'Ghrúpa Réigiúnach', 'Rabbitte', 'tSiria', 'Tuirce', 'Siria', 'tOmbudsman', 'Kathleen Lynn', 'Chontae Mhaigh Eo', 'Móinín na gCiseach', 'Connolly', 'Bord Oideachais agus Oiliúna na Gaillimhe agus Ros Comáin', 'BOO', 'GRETB', 'FET', 'Muirbheach', 'Ollscoil Theicneolaíochta an Atlantaigh', 'ATU', 'Ollscoil na Gaillimhe', 'Rialtais', 'Ollscoil Teicneolaíochta na Mumhan', 'MTU', 'Nicola Sturgeon', 'Barnardos', 'Úcráin', 'Ó Cathasaigh', 'Árainn', 'Slí an Atlantaigh Fhiáin', 'Inis Eoghain', 'Chionn tSáile', 'Contae Chorcaí', 'gCoimisinéir Teanga', 'Fáilte Éireann', 'bhFeidhmeannas ó Thuaidh', 'Fhoras Teanga Thuaidh-Theas', 'Foras Teanga', 'Sheosaimh Mhic Dhonnacha', 'Glór na nGael', 'Gaeloideachas Teoranta', 'Ó Cathasaigh', 'Aengus Ó Snodaigh', 'bhFeidhmeannas ó Thuaidh', 'An gCeathrú Rua', 'Calafort Ros an Mhíl', 'nGaeltacht na Gaillimhe', 'Calafort Ros an Mhíl', 'Atlantach', 'Christopher O’Sullivan', 'nGaeltacht na nDéise', 'Local Link', 'Eamon Ryan', 'nGaeltacht na nDéise', 'gCiarraí']}\n"
          ]
        }
      ]
    },
    {
      "cell_type": "code",
      "source": [
        "unique_counts = {}\n",
        "\n",
        "for k, v in unique.items():\n",
        "  unique_counts[k] = len(np.unique(v))\n",
        "\n",
        "print(unique_counts)"
      ],
      "metadata": {
        "colab": {
          "base_uri": "https://localhost:8080/"
        },
        "id": "DDMUKWZrawRs",
        "outputId": "913e18ee-1244-4aa0-93f0-ad87e69fab11"
      },
      "execution_count": null,
      "outputs": [
        {
          "output_type": "stream",
          "name": "stdout",
          "text": [
            "{'Validation': 124, 'Test': 210}\n"
          ]
        }
      ]
    },
    {
      "cell_type": "code",
      "source": [
        "counts = {}\n",
        "\n",
        "counts['Validation'] = len(np.unique(val_words))\n",
        "counts['Test'] = len(np.unique(test_words))\n",
        "print(counts)"
      ],
      "metadata": {
        "colab": {
          "base_uri": "https://localhost:8080/"
        },
        "id": "-eWpL0AEb9b9",
        "outputId": "94b6a994-b6f2-4bf4-8749-0d7cf2ecc8b0"
      },
      "execution_count": null,
      "outputs": [
        {
          "output_type": "stream",
          "name": "stdout",
          "text": [
            "{'Validation': 169, 'Test': 280}\n"
          ]
        }
      ]
    },
    {
      "cell_type": "code",
      "source": [
        "import matplotlib.pyplot as plt\n",
        "\n",
        "labels = list(unique_counts.keys())\n",
        "\n",
        "# Set the width of the bars\n",
        "bar_width = 0.35\n",
        "\n",
        "# Set the positions for the bars\n",
        "x = np.arange(len(labels))\n",
        "\n",
        "# Plot the bars for unique_counts\n",
        "plt.bar(x - bar_width/2, unique_counts.values(), bar_width, label='Entities Not in Training', color='skyblue', edgecolor='black')\n",
        "\n",
        "# Plot the bars for counts\n",
        "plt.bar(x + bar_width/2, counts.values(), bar_width, label='Total Entities', color='forestgreen', edgecolor='black')\n",
        "\n",
        "# Add labels and title\n",
        "plt.xlabel('Dataset')\n",
        "plt.ylabel('Number of Entities')\n",
        "plt.title('Comparison of Unique Entities by Dataset')\n",
        "plt.xticks(x, labels)\n",
        "\n",
        "# Add legend\n",
        "plt.legend()\n",
        "plt.savefig('comparison_plot.png')"
      ],
      "metadata": {
        "colab": {
          "base_uri": "https://localhost:8080/",
          "height": 472
        },
        "id": "NGARIXUSbGCh",
        "outputId": "657b335c-1fa7-418d-c7ce-c081e9c549b4"
      },
      "execution_count": null,
      "outputs": [
        {
          "output_type": "display_data",
          "data": {
            "text/plain": [
              "<Figure size 640x480 with 1 Axes>"
            ],
            "image/png": "[encoded data removed]"
          },
          "metadata": {}
        }
      ]
    }
  ]
}