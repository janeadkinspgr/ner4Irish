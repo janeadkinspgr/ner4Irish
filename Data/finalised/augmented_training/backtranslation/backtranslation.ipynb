{
  "nbformat": 4,
  "nbformat_minor": 0,
  "metadata": {
    "colab": {
      "provenance": [],
      "gpuType": "T4"
    },
    "kernelspec": {
      "name": "python3",
      "display_name": "Python 3"
    },
    "language_info": {
      "name": "python"
    },
    "accelerator": "GPU"
  },
  "cells": [
    {
      "cell_type": "code",
      "source": [
        "MAX_LEN = 256\n",
        "bs = 32"
      ],
      "metadata": {
        "id": "6fbTJ_tw0ABR"
      },
      "execution_count": 12,
      "outputs": []
    },
    {
      "cell_type": "code",
      "source": [
        "!pip install transformers\n",
        "!pip install tokenizers\n",
        "import pandas as pd"
      ],
      "metadata": {
        "colab": {
          "base_uri": "https://localhost:8080/"
        },
        "id": "uLQvSuqJ0Cj9",
        "outputId": "adb1d495-7666-4b97-a8c7-bcbc498b839b"
      },
      "execution_count": 13,
      "outputs": [
        {
          "output_type": "stream",
          "name": "stdout",
          "text": [
            "Requirement already satisfied: transformers in /usr/local/lib/python3.11/dist-packages (4.47.1)\n",
            "Requirement already satisfied: filelock in /usr/local/lib/python3.11/dist-packages (from transformers) (3.17.0)\n",
            "Requirement already satisfied: huggingface-hub<1.0,>=0.24.0 in /usr/local/lib/python3.11/dist-packages (from transformers) (0.27.1)\n",
            "Requirement already satisfied: numpy>=1.17 in /usr/local/lib/python3.11/dist-packages (from transformers) (1.26.4)\n",
            "Requirement already satisfied: packaging>=20.0 in /usr/local/lib/python3.11/dist-packages (from transformers) (24.2)\n",
            "Requirement already satisfied: pyyaml>=5.1 in /usr/local/lib/python3.11/dist-packages (from transformers) (6.0.2)\n",
            "Requirement already satisfied: regex!=2019.12.17 in /usr/local/lib/python3.11/dist-packages (from transformers) (2024.11.6)\n",
            "Requirement already satisfied: requests in /usr/local/lib/python3.11/dist-packages (from transformers) (2.32.3)\n",
            "Requirement already satisfied: tokenizers<0.22,>=0.21 in /usr/local/lib/python3.11/dist-packages (from transformers) (0.21.0)\n",
            "Requirement already satisfied: safetensors>=0.4.1 in /usr/local/lib/python3.11/dist-packages (from transformers) (0.5.2)\n",
            "Requirement already satisfied: tqdm>=4.27 in /usr/local/lib/python3.11/dist-packages (from transformers) (4.67.1)\n",
            "Requirement already satisfied: fsspec>=2023.5.0 in /usr/local/lib/python3.11/dist-packages (from huggingface-hub<1.0,>=0.24.0->transformers) (2024.10.0)\n",
            "Requirement already satisfied: typing-extensions>=3.7.4.3 in /usr/local/lib/python3.11/dist-packages (from huggingface-hub<1.0,>=0.24.0->transformers) (4.12.2)\n",
            "Requirement already satisfied: charset-normalizer<4,>=2 in /usr/local/lib/python3.11/dist-packages (from requests->transformers) (3.4.1)\n",
            "Requirement already satisfied: idna<4,>=2.5 in /usr/local/lib/python3.11/dist-packages (from requests->transformers) (3.10)\n",
            "Requirement already satisfied: urllib3<3,>=1.21.1 in /usr/local/lib/python3.11/dist-packages (from requests->transformers) (2.3.0)\n",
            "Requirement already satisfied: certifi>=2017.4.17 in /usr/local/lib/python3.11/dist-packages (from requests->transformers) (2024.12.14)\n",
            "Requirement already satisfied: tokenizers in /usr/local/lib/python3.11/dist-packages (0.21.0)\n",
            "Requirement already satisfied: huggingface-hub<1.0,>=0.16.4 in /usr/local/lib/python3.11/dist-packages (from tokenizers) (0.27.1)\n",
            "Requirement already satisfied: filelock in /usr/local/lib/python3.11/dist-packages (from huggingface-hub<1.0,>=0.16.4->tokenizers) (3.17.0)\n",
            "Requirement already satisfied: fsspec>=2023.5.0 in /usr/local/lib/python3.11/dist-packages (from huggingface-hub<1.0,>=0.16.4->tokenizers) (2024.10.0)\n",
            "Requirement already satisfied: packaging>=20.9 in /usr/local/lib/python3.11/dist-packages (from huggingface-hub<1.0,>=0.16.4->tokenizers) (24.2)\n",
            "Requirement already satisfied: pyyaml>=5.1 in /usr/local/lib/python3.11/dist-packages (from huggingface-hub<1.0,>=0.16.4->tokenizers) (6.0.2)\n",
            "Requirement already satisfied: requests in /usr/local/lib/python3.11/dist-packages (from huggingface-hub<1.0,>=0.16.4->tokenizers) (2.32.3)\n",
            "Requirement already satisfied: tqdm>=4.42.1 in /usr/local/lib/python3.11/dist-packages (from huggingface-hub<1.0,>=0.16.4->tokenizers) (4.67.1)\n",
            "Requirement already satisfied: typing-extensions>=3.7.4.3 in /usr/local/lib/python3.11/dist-packages (from huggingface-hub<1.0,>=0.16.4->tokenizers) (4.12.2)\n",
            "Requirement already satisfied: charset-normalizer<4,>=2 in /usr/local/lib/python3.11/dist-packages (from requests->huggingface-hub<1.0,>=0.16.4->tokenizers) (3.4.1)\n",
            "Requirement already satisfied: idna<4,>=2.5 in /usr/local/lib/python3.11/dist-packages (from requests->huggingface-hub<1.0,>=0.16.4->tokenizers) (3.10)\n",
            "Requirement already satisfied: urllib3<3,>=1.21.1 in /usr/local/lib/python3.11/dist-packages (from requests->huggingface-hub<1.0,>=0.16.4->tokenizers) (2.3.0)\n",
            "Requirement already satisfied: certifi>=2017.4.17 in /usr/local/lib/python3.11/dist-packages (from requests->huggingface-hub<1.0,>=0.16.4->tokenizers) (2024.12.14)\n"
          ]
        }
      ]
    },
    {
      "cell_type": "code",
      "source": [
        "train = '/content/train_final.conll'\n",
        "val = '/content/NER_Irish_validation.conll'\n",
        "test = '/content/NER_Irish_test.conll'"
      ],
      "metadata": {
        "id": "32_Ua7ll0EXc"
      },
      "execution_count": 14,
      "outputs": []
    },
    {
      "cell_type": "code",
      "source": [
        "def read_conll_file(file_path):\n",
        "    data = []\n",
        "    current_sentence = []\n",
        "    with open(file_path, \"r\", encoding=\"utf-8\") as file:\n",
        "        for line in file:\n",
        "            line = line.strip()\n",
        "            if line.startswith('-DOCSTART-'):\n",
        "                continue\n",
        "            if line:\n",
        "                parts = line.split()\n",
        "                word = parts[0]\n",
        "                ner_label = parts[-1]\n",
        "                current_sentence.append((word, ner_label))\n",
        "            else:\n",
        "                if current_sentence:\n",
        "                    data.append(current_sentence)\n",
        "                    current_sentence = []\n",
        "    if current_sentence:\n",
        "        data.append(current_sentence)\n",
        "    return data\n",
        "\n",
        "train_data = read_conll_file(train)\n",
        "val_data = read_conll_file(val)\n",
        "test_data = read_conll_file(test)"
      ],
      "metadata": {
        "id": "r6iFAkuR0GP9"
      },
      "execution_count": 15,
      "outputs": []
    },
    {
      "cell_type": "markdown",
      "metadata": {
        "id": "gUJm6tQR17iP"
      },
      "source": [
        "# Backtranslation"
      ]
    },
    {
      "cell_type": "markdown",
      "source": [
        "Import the MT Model and Tokeniser"
      ],
      "metadata": {
        "id": "vZx9axhIJDSJ"
      }
    },
    {
      "cell_type": "code",
      "execution_count": 21,
      "metadata": {
        "colab": {
          "base_uri": "https://localhost:8080/"
        },
        "outputId": "cdf04eac-ebb3-4559-ba78-964da99ceec7",
        "id": "bCYh140417iS"
      },
      "outputs": [
        {
          "output_type": "stream",
          "name": "stdout",
          "text": [
            "Requirement already satisfied: transformers in /usr/local/lib/python3.11/dist-packages (4.47.1)\n",
            "Requirement already satisfied: filelock in /usr/local/lib/python3.11/dist-packages (from transformers) (3.17.0)\n",
            "Requirement already satisfied: huggingface-hub<1.0,>=0.24.0 in /usr/local/lib/python3.11/dist-packages (from transformers) (0.27.1)\n",
            "Requirement already satisfied: numpy>=1.17 in /usr/local/lib/python3.11/dist-packages (from transformers) (1.26.4)\n",
            "Requirement already satisfied: packaging>=20.0 in /usr/local/lib/python3.11/dist-packages (from transformers) (24.2)\n",
            "Requirement already satisfied: pyyaml>=5.1 in /usr/local/lib/python3.11/dist-packages (from transformers) (6.0.2)\n",
            "Requirement already satisfied: regex!=2019.12.17 in /usr/local/lib/python3.11/dist-packages (from transformers) (2024.11.6)\n",
            "Requirement already satisfied: requests in /usr/local/lib/python3.11/dist-packages (from transformers) (2.32.3)\n",
            "Requirement already satisfied: tokenizers<0.22,>=0.21 in /usr/local/lib/python3.11/dist-packages (from transformers) (0.21.0)\n",
            "Requirement already satisfied: safetensors>=0.4.1 in /usr/local/lib/python3.11/dist-packages (from transformers) (0.5.2)\n",
            "Requirement already satisfied: tqdm>=4.27 in /usr/local/lib/python3.11/dist-packages (from transformers) (4.67.1)\n",
            "Requirement already satisfied: fsspec>=2023.5.0 in /usr/local/lib/python3.11/dist-packages (from huggingface-hub<1.0,>=0.24.0->transformers) (2024.10.0)\n",
            "Requirement already satisfied: typing-extensions>=3.7.4.3 in /usr/local/lib/python3.11/dist-packages (from huggingface-hub<1.0,>=0.24.0->transformers) (4.12.2)\n",
            "Requirement already satisfied: charset-normalizer<4,>=2 in /usr/local/lib/python3.11/dist-packages (from requests->transformers) (3.4.1)\n",
            "Requirement already satisfied: idna<4,>=2.5 in /usr/local/lib/python3.11/dist-packages (from requests->transformers) (3.10)\n",
            "Requirement already satisfied: urllib3<3,>=1.21.1 in /usr/local/lib/python3.11/dist-packages (from requests->transformers) (2.3.0)\n",
            "Requirement already satisfied: certifi>=2017.4.17 in /usr/local/lib/python3.11/dist-packages (from requests->transformers) (2024.12.14)\n",
            "Requirement already satisfied: sentencepiece in /usr/local/lib/python3.11/dist-packages (0.2.0)\n"
          ]
        }
      ],
      "source": [
        "!pip install transformers\n",
        "!pip install sentencepiece\n",
        "from transformers import MarianMTModel, MarianTokenizer"
      ]
    },
    {
      "cell_type": "code",
      "execution_count": 22,
      "metadata": {
        "id": "mY31bCoS17iT"
      },
      "outputs": [],
      "source": [
        "first_model_name = 'Helsinki-NLP/opus-mt-ga-en' #Irish to English model\n",
        "\n",
        "first_model_tkn = MarianTokenizer.from_pretrained(first_model_name)\n",
        "\n",
        "first_model = MarianMTModel.from_pretrained(first_model_name)"
      ]
    },
    {
      "cell_type": "code",
      "execution_count": 23,
      "metadata": {
        "id": "sGtyqT0P17iT"
      },
      "outputs": [],
      "source": [
        "second_model_name = 'Helsinki-NLP/opus-mt-en-ga'   #English to Irish model\n",
        "\n",
        "second_model_tkn = MarianTokenizer.from_pretrained(second_model_name)\n",
        "\n",
        "second_model = MarianMTModel.from_pretrained(second_model_name)"
      ]
    },
    {
      "cell_type": "code",
      "execution_count": 24,
      "metadata": {
        "colab": {
          "base_uri": "https://localhost:8080/"
        },
        "outputId": "69d898ba-9f18-457a-d5ea-416ff8275322",
        "id": "NRSmOkoV17iT"
      },
      "outputs": [
        {
          "output_type": "stream",
          "name": "stdout",
          "text": [
            "268\n",
            "['Ar dtús báire, leanfaidh mé leis an téama a bhí á lua ag an Teachta Burke, is é sin ag gabháil buíochas leo siúd atá ag obair go dian dícheallach sa chóras sláinte, ag tabhairt cúram d’othair agus dóibh siúd a bhíonn go minic in ísle brí nuair a shroicheann siad an córas slainte, cibé in ospidéal, ag an dochtúir, nó ag freastal ar dhuine de ba daoine eile atá ag déileáil leo go gairmiúil lá i ndiaidh lae.', 'Ó thaobh pleanála de, tá an tospidéal nua leanaí sa cheantar agus níl aon phlean ann nuair a chríochnaíonn siadsan atá an tógáil, chun an tógáil a dhéanamh ar an ngá maidir le hOspidéal San Séamas nó chun Ospidéal Ollscoile an Choim do Mhná agus do Naíonáin a bhogadh go dtí an suíomh sin go fóill.', 'Táimid ag ullmhú do na Cluichí Oilimpeacha an bhliain seo chugainn agus ba chóir i bhfad Éireann níos mó airgid a bheith curtha i leataobh ag an stad seo chun cuidiú leo.', 'Ní gá dúinn ach smaoineamh ar daoine atá luaite cheana féin cosúil le Keith Earls, Johnny Sexton agus Katie Taylor agus daoine eile atá amuigh ansin ag iompar brat na hÉireann agus ag seasamh le bród ar son na hÉireann.', 'Tagraím do leithéidí Scoil an tSeachtar Laoch agus Cumann Báire Setanta a d’eascair as.', 'Cuireadh an Dáil ar fionraí ag 8.46 p.m. agus cuireadh tús leis arís ag 8.49 p.m.', 'Cuireadh an Dáil ar athló ar 7.31 p.m. go dtí 2 p.m., Dé Máirt, an 24 Deireadh Fómhair 2023.', 'Tá an cheist chéanna ann faoin tuath agus i gConamara.', 'Fáiltím roimh an nuacht is deireanaí a chuala muid ar maidin ó Citylink go mbeidh níos mó busanna ar fáil ón gClochán go Gaillimh.', 'D’éist mé leis an ráiteas a thug an Teachta Gannon agus bhí an ceart aige.', 'Gabhaim buíochas leis an Aire Stáit as ucht na hachoimre chuimsitheach sin ar an díospóireacht.', 'D’fhiafraigh Deputy Aindrias Moynihan den an Aire Oideachais an dul chun cinn atá á dheanamh le straitis don Gaolinn sac horas Oideachas in iomlán agus an ndeanfadh sí raiteas ar an abhar.', 'Táimid an-bhródúil as Coláiste Ghobnatan agus as a foireann.', 'Tá Seanad Éireann tar éis an Bille na hOidhreachta Stairiúla agus Seandálaíochta agus Forálacha Ilghnéitheacha, 2023 a rith gan leasú.', 'Beart amháin a sheasann amach ón mbuiséad seo domsa, cé go bhfuil sé an-bheag i gcomhthéacs iomlán na cáinaisnéise, ná an maoiniú breise atá ag dul i dtreo scéim DEIS Gaeltachta in 2024, agus an nuacht go gcuirfear €500,000 breise ar fáil chun tacú le cohórt níos leithne daoine óga ar mhian leo freastail ar chúrsa samhraidh sa Ghaeltacht.', 'Sa bhliain 1991 - Dia linn - bhain mé leas as scoláireacht chuig Coláiste na Rinne a bhuaigh mé ar scoil.', 'D’fhreastail mise ar Choláiste Pobail Naomh Pól i lár chathair Phort Láirge, scoil atá rangaithe anois mar scoil DEIS agus scoil nach raibh traidisiún láidir sa Ghaeilge inti.', 'Tá mé sásta méadú 4% ar mhaoiniú d’earnáil na Gaeilge agus na Gaeltachta a thuairisciú, méadú a thugann go níos mó ná €100 milliún an infheistíocht a bheidh á dhéanamh ag mo Roinn san earnáil an bhliain seo chugainn, beag beann ar an maoiniú breise a bheidh ag dul go TG4.', 'Leis an maoiniú a bheidh ar fáil don earnáil in 2024, cuirfear réimse leathan beartas i bhfeidhm taobh istigh agus taobh amuigh den Ghaeltacht.', 'Cuireadh timpeall €78 milliún ar fáil don earnáil i mbuiséad 2021 le hais an beagnach €100 milliúin a bheidh ar fáil di an bhliain seo chugainn.', 'Anuas air sin, tá an Rialtas seo tar éis maoiniú a chur ar fáil do TG4 chun an stáisiún nua do pháistí, Cúla4, a bhunú.', 'Tá an méadú go €14.45 milliún ar leithdháileadh caipitil iomlán Údarás na Gaeltachta do 2023 coinnithe do 2024.', 'Anuas air sin, tá €500,000 in airgead caipitil curtha ar fáil do na scéimeanna tacaíochta Gaeilge chun a chumasú do mo Roinn tús a chur leis an obair fhorbartha ar cheanncheathrú Chonradh na Gaeilge ag Uimhir 6 Sráid Fhearchair.', 'Bunaíodh líne nua buiséid €1 milliún in 2023 chun dlús a chur le cur chun feidhme Acht na dTeangacha Oifigiúla (Leasú) 2021, d’fhonn spriocanna uaillmhianacha earcaíochta a leagtar amach ann a bhaint amach.', 'I gcomparáid leis an €9 milliún a d’fhógair an Rialtas, bhí Sinn Féin réidh le €34 milliún a fhógairt le caitheamh - nó gur chóir go mbeimid ag caitheamh - ar an nGaeltacht, ar na meán Gaeltachta, agus ar an nGaeilge i gcoitinne.', 'Gabhaim míle maith ag an gCathaoirleach Gníomhach mar tá mé imithe cúpla soicind thar mo chuid ama.', 'Ba iad Fianna Fáil agus Fine Gael ba chúis leis an ngéarchéim thithíochta agus tá a fhios againn uilig nach iadsan atá ábalta an ghéarchéim seo a réiteach.', 'Tá an reachtaíocht seo de dhíth lenár pháirt, ár sciar agus ár dtacaíocht a dhéanamh do mhuintir na hÚcráine tríd cuid de na hinfreastruchtúir atá ansin ag an Aontas Eorpach', 'Is duine atá i gceist atá ina bhall den Gharda Síochána.', 'Tagann sé sin anuas ar an tuarascáil a scríobh an Coimisinéir Teanga ó thaobh an sárú dlí a bhí i gceist ag an nGarda maidir le gan a bheith in ann daoine le Gaeilge a sholáthar do na ceantair Ghaeltachta.', 'Táim ag díriú isteach ar chathair na Gaillimhe agus ar Chontae na Gaillimhe agus an ghéarchéim thithíochta atá ann, in ainneoin gur bunaíodh tascfhórsa in 2019.', 'Úsáideann chuile dhuine é nuair a théann muid go dtí an Bhruiséil agus oibríonn sé thar cionn.', 'Go minic, nuair atá íocaíochtaí mar sin i gceist ag Ranna Stáit, ní bhíonn an deifir agus an dlús leo gur chóir a bheith leo.', 'Bhí na scoláirí Gaeilge ann i mí an Mheithimh, mí Iúil agus mí Lúnasa den chuid is mó.', 'Go deimhin féin, críochnaíonn bunáit na gcúrsaí i lár mhí Lúnasa mar bíonn scoláirí ag dul ar ais ag scoil roimh dheireadh na míosa.', 'Le go bhfásfadh TG4 i gceart an bhliain seo chugainn, theastódh €15 milliún breise.', 'An féidir leis an Taoiseach a dheimhniú go mbeidh an t-airgead sin ar fáil agus, san fhadtéarma nó sa mheántéarma, go dtabharfar an cineál cistíocht do TG4 a thugtar trasna na farraige uainn do S4C do chraoladh i mBreatnais?', 'Mar is eol don Leas-Cheann Comhairle, le bliain anuas, tá méadú suntasach tagtha ar rátaí morgáiste d’oibrithe agus do theaghlaigh ar fud an Stáit.', 'Mar is eol dúinn, le 15 mhí anois mhéadaigh an Banc Ceannais Eorpach a phríomhráta úis deich n-uaire.', 'Tá rátaí úis anois chomh hard le 10% i measc na teaghlaigh ina raibh a gcuid iasachtaí díolta ag na creach-chistí, cinneadh a ghlacadh cúpla bliain ó shin le tacaíocht ó Fhine Gael agus ó Fhianna Fáil.', 'Is léir nach mbaineann alt 7 d’Acht na dTeangacha Oifigiúla, 2003 leis na riaráistí sin go léir, áfach, ós rud é nár tháinig an t-alt i bhfeidhm go dtí mí Iúil 2006.', 'Sa chomhthéacs sin, in ainneoin deacrachtaí earcaíochta agus foirne a bhfuil fianaise tugtha ina leith ina tuarascálacha bliantúla agus eile, tá an tseirbhís fós ag obair i dtreo na sprice a leagadh síos i gcinneadh na hArd-Chúirte in 2019 a bhaint amach faoi 2024.', 'Tá tiomantas na seirbhíse don teanga le léiriú go soiléir chomh maith ina plean straitéiseach 2022-24 ina mbaineann toradh straitéiseach a cúig go sonrach leis an nGaeilge agus an obair i dtreo Oireachtas dátheangach.', 'Tuigtear dom chomh maith gur reáchtáil sí Collóiciam an Oireachtais ar Pharlaimintí Dátheangacha le déanaí chun breathnú ar dhea-chleachtais i dtíortha eile, eadhon, an Bhreatain Bheag agus Málta sa chomhthéacs seo.', 'An aontódh an tAire liom gurb é réiteach na faidhbe seo ná na Billí a fhoilsiú cosúil le Ceanada go dhá-theangach ar an gcéad dul síos agus déileáil leis seo ó thús?', 'Ansin bheadh muid in ann na hAchtanna, nuair atá siad rite, a bheith sínithe ag an Uachtarán i nGaeilge agus i mBéarla ag an am céanna agus go ndéileáilfeadh sin leis an bhfadhb.', 'Tá obair ar leith le déanamh ag Tithe an Oireachtais agus tá obair ar leith, dár ndóigh, ag an Aire Dlí agus Cirt.', 'Aithním an imní atá ar an Teachta Ó Snodaigh maidir leis an gceist áirithe seo.', 'Dé Máirt seo caite, an 4 Iúil, d’aontaigh an Rialtas le moltaí a thug mé chun tosaigh chun tús a chur le scrúdú cuimsitheach ar RTÉ ina mbeadh dhá ghné: athbhreithniú neamhspleách chun scrúdú a dhéanamh ar struchtúir rialachais agus ar chultúr eagraíochtúil RTÉ, a ndéanfaidh sainchoiste comhairleach um rialachas maoirseacht air; agus athbhreithniú neamhspleách chun scrúdú a dhéanamh ar na meicníochtaí trína bhfostaítear conraitheoirí seachtracha, na táillí a íoctar, úsáid gníomhairí agus ábhair eile acmhainní daonna in RTÉ, a ndéanfaidh coiste comhairleach saineolaithe ar tháillí conraitheoirí agus cúrsaí acmhainní daonna maoirseacht air.', 'De réir mar a théann na hathbhreithnithe ar aghaidh, d’fhéadfadh go spreagfar torthaí, faoi mo rogha féin, raon feidhme an scrúdaithe a leathnú, a d’fhéadfadh tionchar a bheith aige ar amscálaí, lena n-áirítear na torthaí sin a eascraíonn as tuarascálacha Grant Thornton ina dhiaidh sin, obair Choiste na gCuntas Poiblí agus an Chomhchoiste Oireachtais um Thurasóireacht, Chultúr, na hEalaíona, Spórt agus na Meáin, agus ceisteanna a eascraíonn óna bplé.', 'Is maith an scéalaí an aimsir ach creidim gur thóg ard-stiúrthóir nua RTÉ, Kevin Bakhurst, roinnt céimeanna tábhachtacha chun tosaigh.', 'Tá an dá choiste saineolaithe i bhfeidhm le haghaidh an athbhreithnithe agus táim ag súil go mbeidh na seirbhísí comhairleacha gairmiúla i bhfeidhm chun tacú leis seo go luath i mí Lúnasa.', 'Mar shampla, tá foireann an-bheag ag Raidió na Gaeltachta ag cur clár i láthair agus tá foireann i bhfad níos mó ag RTÉ Radio 1 chun clár comhchosúil a chur ar fáil.', 'Tá a fhios agam nach bhfuil an tAire Stáit sa Roinn Sláinte in ann a bheith anseo inniu', 'Gabhaim buíochas leis an Aire Stáit', 'Bhreathnaigh mé siar ar cé chomh minic is atá sé ardaithe agam agus cuireann sé alltacht orm i ndáiríre go bhfuil mé fós ag caint faoi Áras Mhic Dara i gcroílár na Gaeltachta, ionad lae atá dúnta anois ó am Covid', 'Ag dul siar cúpla seachtain, bhí cruinniú poiblí i gConamara maidir leis an ábhar seo agus d’fhreastail cúpla céad duine air', 'Ní raibh na Teachtaí Dála a bhí ann in ann a mhíniú dóibh cén fáth go raibh an t-ionad lae seo fós dúnta', 'Ní rabhamar in ann agus bhí sé sin an-deacair dúinne mar Theachtaí Dála nuair atá ionad chomh riachtanach leis seo dúnta', 'Cuireadh an Dáil ar fionraí ar  9.53 a.m. agus cuireadh tús leis arís ar 10.00 a.m.', 'Tá an Rialtas tiomanta tacú le cúrsaí spóirt in Éirinn, agus an maoiniú a chuirtear ar fáil do na heagraíochtaí spóirt a mhéadú', 'Faoin bPolasaí Náisiúnta Spórt, tá gealltanas tugtha ag an Rialtas go ndéanfar leibhéal infheistíochta an Stáit i gcúrsaí spóirt a mhéadú ó €111 milliún in 2018 go dtí €220 milliún faoi 2027', 'Gabhaim buíochas leis an gCeann Comhairle', 'Inné, rinne an Taoiseach tráchtanna a rinne iarracht locht na géarchéime tithíochta a aistriú ón Rialtas go dtí Dáil Éireann 44 na hoibrithe agus na teaghlaigh atá gan tithe', 'Is ar Fhine Gael agus ar Fhianna Fáil atá an fhreagracht as an ngéarchéim seo agus ní ar oibrithe agus ar theaghlaigh atá gan tithe', 'Leanann an farce faoi ospidéal náisiúnta na leanaí', 'Níl dabht ar bith ach go bhfuil gá leis an ospidéal seo a bheith foscailte do leanaí na hÉireann', 'Deputies Hildegarde Naughton and Cormac Devlin; Níl, Deputies Pádraig Mac Lochlainn and Carol Nolan', 'Baineann mo cheist le cúrsaí tithíochta i nGaillimh - tá sé níos cirte easpa tithíochta i nGaillimh a rá - agus an tascfhórsa a bunaíodh breis agus ceithre bliana ó shin', 'Ar dheis Dé go raibh a anam', 'Táim os comhair Dail Éireann', 'Ba mhaith liom tréaslú leis an Teachta Andrews as an obair atá déanta aige sa phíosa reachtaíochta seo mar is é a rinne formhór na hoibre uirthi', 'Gabhaim comhghairdeas leis an Aire Stáit', 'Cuireadh an Dáil ar fionraí ar 4.54 p.m. agus cuireadh tús leis arís ar 4.56 p.m.', 'Táimid ag caint faoi na céadta milliúin euro d’airgead na gcáiníocóirí atá ar fáil le scannáin a dhéanamh tríd Fís Éireann, RTÉ nó TG4, agus Údarás Craolacháin na hÉireann roimhe seo', 'Chuaigh an Leas-Cheann Comhairle i gceannas ar 912 am', 'Gabhaim buíochas leis an Leas-Cheann Comhairle agus leis an Teachta freisin as an ábhar seo a ardú', 'In áit a bheith trédhearcach faoin eolas atá ag RTÉ faoin scannal íocaíochta, tá sé soiléir go bhfuil RTÉ ag tabhairt an eolais dúinn píosa ar phíosa', 'Tá a fhios againn nach bhfuil an fhírinne iomlán tagtha chun solais go fóill agus níl muinín mar sin agamsa sa bhord feidhmiúcháin in RTÉ', 'Ní féidir linn muinín a bheith againn as an eolas a thagann ó mbord feidhmiúcháin Nike agus tá feidhmeannaigh an bhoird ag caitheamh go holc leis an bpobal.', 'Tá áthas orm deis a fháil cúpla focal a rá ar an mBille seo, an Bille Sláinte (Seirbhísí Foirceanta Toirchis) (Criosanna Rochtana Sábháilte), 2023', 'Ansin tá iad siúd a chreideann, mar shampla Jennifer Lawrence, nach é an cúis atá le ginmhilleadh máthair a shábháil - níor chreid mé riamh gur ginmhilleadh a bhí ansin - ach le beatha a shábháil', 'Inniu fáilteoidh an Rialtas roimh ráiteas eacnamaíoch an tsamhraidh.', 'Tá tacaíocht de dhíth orthu anois agus ní níos mó fógraí agus gealltanais fholmha ón Rialtas', 'Tá oibrithe agus teaghlaigh ar fud an Stáit seo ag streachailt leis an ngéarchéim tithíochta', 'Táim ag díriú isteach ar mhuintir na Palaistíne agus go háirithe ar na daoine atá ina gcónaí ar an mBruach Thiar agus iad faoi ionradh ó arm Iosrael - ionradh fuilteach, mídhleathach atá ar siúl gan aon rud á rá againn in ainneoin gur tír neodrach muid agus go bhfuil ainm againn go bhfuilimid ar thaobh na ndaoine atá thíos.', 'Is í mo cheist don Taoiseach ná cad atá le rá aige.', 'Níos tábhachtaí fós, cad atá le déanamh aige ar son an Iordáin mar thír a chuireann béim ar chúrsaí síochána agus a bhfuil sé de mhuinín againn a rá go bhfuil sé seo ag sárú an dlí idirnáisiúnta?', 'Fáiltím roimh an deis seo labhairt leis an Teach faoi na mór-theipeanna rialachais chorparáidigh a tháinig chun solais in RTÉ le coicís anuas', 'Is fiú béim a leagan air arís ag tús an ráitis seo áfach, agus ar urlár an Tí.', 'Tá áthas orm an deis a fháil labhairt ar na ráitis a bhaineann le RTÉ', 'Tá sé an-soiléir gur scannal ollmhór é Sky, agus tá sé soiléir chomh maith go bhfuil muinín na ndaoine ar fud an oileáin seo briste', 'Gabhaim buíochas leis na Teachtaí as a gcuid ráiteas tráthnóna inniu', 'Léiríonn an suaitheadh a cuireadh in iúl agus an díospóireacht fhorleathan ar an ábhar seo le coicís anuas, lena n-áirítear sa Teach inniu, an leibhéal imní agus go deimhin, feirge, atá ar dhaoine faoi na teipeanna i rialachas agus i gcultúr RTÉ a chuir ar chumas na rudaí seo tarlú', 'Ar dtús, cuirim fáilte roimh an ngrúpa feachtasaíochta atá tagtha anseo go Baile Átha Cliath inniu chun an feachtas atá acu a chur faoi bhráid na Dála', 'Ba mhaith liom buíochas a ghabháil le Sinn Féin mar gheall ar an rún seo a thabhairt os comhair na Dála inniu', 'Tá sé dochreidte go bhfuil muid ag fanacht an méid seo ama le haghaidh an bhóthair seo i gCluain Leathard agus tá sé dochreidte go bhfuil an méid sin daoine tar éis a mbeatha a chailleadh ar an mbóthar seo le fada an lá', 'Go raibh maith agat, a Aire', 'Gabhaim buíochas leis an Teachta as an gceist agus as an tuaraisc ón gcoiste faoi cúrsaí na gcomharchumann', 'D’fhiafraigh Deputy Éamon Ó Cuív den an Aire Oideachais cad é beartas na Roinne maidir le bunú Gaelscoileanna agus Gaelcholáistí; agus an ndéanfaidh sí ráiteas ina thaobh', 'An cheist atá agam ná cad iad na beartais atá ag an Roinn maidir le bunú Gaelscoileanna agus Gaelcholáistí agus céard iad na critéir a thógtar san áireamh len é sin a dhéanamh?', 'Ba mhaith liom buíochas a ghabháil leis an Teachta Ó Cuív, as ucht aird a tharraingt ar an éileamh atá ar oideachas lán-Ghaeilge faoi láthair.', 'Mar Aire Oideachais, teastaíonn uaimse a chinntiú go ndéanfar soláthar cuí do dhaoine óga ar mian leo a gcuid oideachais a fháil trí mheán na Gaeilge.', 'Mar chuid den Straitéis 20 Bliain don Ghaeilge, tá mo Roinn tiomanta do dheiseanna a chruthú chun oideachas lán-Ghaeilge a leathnú lasmuigh den Ghaeltacht.', 'Tá an tádh linn go bhfuil An Garda Síochána ag obair go díon.', 'Deputy Éamon Ó Cuív - An gá ata ann go gcuirfear seirbhísí cumsitheacha sláinte ar fáil ar an gCeathrú Rua.', 'Tagann an chéad cheist ón Teachta Ó Cuív.', 'Is é an Cheathrú Rua an baile is láidre Gaeltachta sa tír agus tá sé suite i gceartlár Ghaeltacht dheisceart Chonamara.', 'Ar ndóigh, is baile an-tábhachtach é ó thaobh seirbhísí a chur ar fáil do Ghaeltacht Conamara.', 'Le fada fada an lá, tá Áras Mhic Dara ann, aonad altranais pobail do shean daoine.', 'Le tamall anuas, tá leapacha folmha in Áras Mhic Dara agus is deacair a thuiscint cén fáth go bhfuil mar tá dóthain éileamh ar na leapacha ach is cosúil nach bhfuil na hailtirí ar fáil.', 'Is ceist don HSE í a dhéanamh cinnte de go bhfuil foireann ar fáil le seirbhís a chur ar fáil.', 'Chomh maith le sin, bhí seomra ann nach bhfuil in úsáid níos mó, áit a bhí leaba deireadh saoil mar a thug muintir Chonamara air an lá faoi dheireadh.', 'An chéad rud atá mé ag ardú anseo inniu ar sheirbhísí na Ceathrún Rua ná céard atá an HSE chun a dhéanamh le cinnte a dhéanamh go bhfuil na leapacha seo ar fad ar fáil do phobal na Ceathrún Rua agus go dheisceart Chonamara uilig.', 'Fuair mé freagra ón HSE le gairid le rá nach raibh ach duine amháin ag éileamh na seirbhíse.', 'Tá sé an-deacair a shamhlú nach mbeadh ach duine amháin ag iarraidh seirbhís lae i bpobal atá chomh tréan láidir ó thaobh daonra de leis an gCeathrú Rua', 'An féidir leis an Aire Stáit a rá liom inniu céard iad na céimeanna a thóg an HSE le cinntiú go raibh an t-eolas faoin seirbhís seo scaipthe ar an bpobal?', 'An ndeachthas, mar shampla, ar Raidió na Gaeltachta ar “Iris Aniar” nó ar cheann de na cláracha leis an scéal a scaipeadh maidir leis na seirbhísí seo?', 'An ndeachthas ar TG4?', 'Ní amhlaidh atá in áiteanna eile i gConamara agus gan an pobal céanna a bheith acu ar chor ar bith.', 'Caithfimid breathnú ar cén fáth nach bhfuilimid in ann dochtúirí teaghlaigh a earcú sa Ghaeltacht nó amuigh faoin dtuath.', 'Glaoim ar an Aire Stáit anois.', 'Tá freagra na ceiste agam ón Aire Sláinte, an Teachta Donnelly.', 'Ba mhaith liom buíochas a ghabháil leis an Teachta as ucht deis a thabhairt don Aire an t-eolas is déanaí a chur ar fáil don Teach maidir le seirbhísí sláinte ar an gCeathrú Rua i gCo na Gaillimhe agus go háirithe maidir le hionad altranais phobal Áras Mhic Dara.', 'Ba mhaith liom a dheimhniú leis an Teachta Ó Cuív go bhfuil an tAire Stáit, Deputy Butler tiomanta d’oibriú taobh le cúram sláinte pobal an iarthar i bhfeidhmeannach na seirbhísí sláinte lena chinntiú go mbeidh teacht acu siúd a bhfuil seirbhísí sláinte ag teastáil uathu, ina bpobal féin.', 'Is príomh-thosaíocht é don Roinn Sláinte tacú le níos mó daoine chun go mbeidh siad ábalta maireachtáil go neamhspleách ina gcuid tithe agus ina gcuid pobal féin le daonnacht agus le neamhspleáchas chomh fada agus is féidir i gcomhréir le fís Sláintecare i dtaobh an cúram ceart a fháil san áit ceart agus ag an am ceart.', 'I mbuiséid 2023, bhí ríméad ar an tAire Stáit, an Teachta Butler, maoiniú breis is €2 mhilliún a fháil le cur i dtreo tús a chur arís le seirbhísí cúram lae chomh maith le €2.1 milliún a fháil le haghaidh seirbhísí cúram lae pobal atá dírithe go sonrach ar neartú.', 'Is tosaíocht é sin i gcónaí ag an Rialtas agus tá monatóireacht gníomhach á dhéanamh ar an dul chun cinn ina leith.', 'Ba mhaith liom a dheimhniú go bhfuil an fheidhmeannacht tugtha do sheirbhís cúram lae a chur ar fáil in Áras Mhic Dara a bheidh ábalta cúram a chur ar fáil do idir ocht agus deich duine.', 'Idir an dá linn, tá seirbhís cúram lae pobal á chur ar fáil sa cheantar i dTearmann Éanna.', 'Leanfaidh an tAire Stáit, an Teachta Butler, ar aghaidh agus beidh sí i dteagmháil leis an bpríomhoifigeach i gcúram sláinte pobail an iarthair faoin ábhar seo.', 'Níl a fhios agam an bhfuil barúil ar bith acu cé chomh fada is atá Port Omna ón gCeathrú Rua.', 'Bheadh sé cosúil lena rá le duine i mBaile Átha Cliath go raibh ionad príomhúil á oscailt i mBaile Átha Luain ach go mbeadh sé níos éasca dul ó Bhaile Átha Cliath go Baile Átha Luain ná mar atá sé dul ón gCeathrú Rua go Port Omna.', 'Ní thuigim cén chaoi go bhfuil na hionaid altranais phríobháideacha i gConamara in ann an fhoireann a fháil ach níl an HSE in ann é sin a dhéanamh.', 'Is é sin an leithscéal céanna ar an gClochán, ach tá ionad altranais difriúla i gConamara agus tá siad ag feidhmiú i gceart agus go hiomlán.', 'Tá an tAire Stáit ag rá nach bhfuil aon phleananna ag an HSE ach is dócha go bhfuil sé sin bunaithe ar an daonra.', 'An bhfuil a fhios ag an Aire Stáit cé mhéad duine a cuireadh san áireamh le cé chomh scaipthe is atá na ceantair siar ó Leitir Mealláin, atá thiar i gceantar na nOileán, mar is eol don Aire Stáit, agus chomh fada ansin leis an Spidéal?', 'Tá píosa maith i gceist ansin agus tá cuid eile de Chonamara ann, agus ceapann an HSE nach fiú ionad príomhúil dóibh.', 'Ba mhaith liom buíochas a ghlacadh leis an Aire Stáit, an Teachta Butler.', 'Bhí mé ag caint léi aréir agus gheall sí dom go dtiocfadh sí go Conamara, agus beidh mé an-sásta nuair a thioc29 June 2023 255 faidh sí.', 'Taispeánfaidh mé ar an talamh na féidearthachtaí atá ann ach, chomh maith leis sin, na heasnaimh ollmhóra atá ann i láthair na huaire maidir le seirbhísí sláinte, ní hamháin ar an gCeathrú Rua ach go ginearálta i gConamara.', 'Tuigim cé chomh mór is atá Contae na Gaillimhe mar is as an gcontae sin do m’athair agus mo bhean chéile, ach níl le déanamh agamsa anseo ach freagra na Roinne a chur os comhair na Dála.', 'Thug an fheidhmeannacht dearbhú go bhfuil sí fós tiomanta do sheirbhísí cúraim lae a sholáthar in aonad altranais pobail Áras Mhic Dara agus, nuair a fhaightear dóthain altraí, go n-osclófaí san aonad sin seirbhís cúraim lae gan mhoill.', 'Is eol dom nach bhfuil roinnt leapacha in Áras Mhic Dara ar fáil faoi láthair mar gheall ar chúrsaí foirne, agus tugadh dearbhuithe nuair a bheidh dóthain foirne ann go gcuirfí na leapacha sin ar fáil.', 'Maidir le hionad cúraim phríomhúil, níl aon phleananna ann faoi láthair chun ionad cúraim phríomhúil a sholáthar ar an gCeathrú Rua.', 'Tá deich n-ionad cúraim phríomhúla ag feidhmiú i gContae na Gaillimhe faoi láthair agus ceann eile á thógáil cheana féin.', 'Ba mhaith liom a dheimhniú go bhfuil na seirbhísí sláinte seo a leanas ar fáil ar an gCeathrú Rua faoi láthair: fisiteiripe, altranais sláinte poiblí, síceolaíocht, teiripe urlabhra agus teanga, agus araile.  Ba mhaith liom a athdheimhniú freisin go bhfuil an Rialtas tiomanta le bheith ag obair in éineacht le cúram sláinte pobail an iarthair de chuid an HSE le gur féidir leo siúd a dteastaíonn uathu rochtain a fháil ar sheirbhísí sláinte ar an gCeathrú Rua leas a bhaint as na seirbhísí seo laistigh den phobal.', 'an gá ata ann go gcuirfear seirbhísí cumsitheacha sláinte ar fáil ar an gCeathrú Rua.', 'Cuirim céad míle fáilte roimh an toscaireacht atá inár gcomhluadar ó na Stáit Aontaithe agus go háirithe ó Chumann Stairiúil an Tí Bháin agus iad i mbun ceiliúradh 60 bliain ón gcuairt a thug an iar-Uachtarán John F Kennedy ar an tír seo ar 28 Meitheamh 1963.', 'Tá siad faoi fhód ag an gComhaontas Glas, Fianna Fáil agus Fine Gael.', 'Ba chóir d’Fhianna Fáil agus Fine Gael seasamh suas do na feirmeoirí agus tacaíocht a thabhairt dóibh chun iad a chosaint agus chun an eacnamaíocht áitiúil agus náisiúnta a chosaint chomh maith.', 'ar maidin, níl aon Teachta ó Fianna Fáil, ó Fine Gael nó ón gComhaontas Glas anseo.', 'Níl aon Teachta ó aon pháirtí anseo.', 'Leanann an scannal faoi íocaíochtaí ceilte RTÉ do Ryan Tubridy ar aghaidh.', 'Tá sé soiléir go dtéann sé seo i bhfad níos faide ná Dee Forbes amháin.', 'Caithfidh go leor daoine ar bhord RTÉ an t-eolas atá acu faoin méid a tharla ag an am sin a chur faoi bhráid an phobail.', 'Gabhaim buíochas leis an Teachta as an cheist thábhachtach seo.', 'Tá sé thar a bheith tábhachtach chuile dheis a thapú chun a chur in iúl gur tír neodrach muid agus ár nguthanna a úsáid go glórmhar chun a chur in iúl nach bhfuil muid sásta fáil réidh leis an bpolasaí sin in ainneoin an bhrú dhamanta atá á chur orainne agus ar an Dáil ón Tánaiste, ón Taoiseach, ón Rialtas agus ón bhfóram atá ar siúl faoi láthair.', 'Tá an pobal míthreorach agus ligthe síos go dona mar gheall ar an scéal faoi íocaíochtaí breise RTÉ do Ryan Tubridy.', 'Tá muinín an phobail in RTÉ iontach lag agus tá ceisteanna bunúsacha le freagairt go fóill ag RTÉ.', 'Cuirim fáilte roimh an Aire Stáit.', 'D’imigh an Cathaoirleach Gníomhach go Cill Dara', 'Tá pacáiste maith cánach, cúnamh le costas seirbhísí cosúil le cúram leanaí, agus leas agus pinsin méadaithe chun ioncam daoine aosta, breoite agus faoi mhíchumas a chosaint san áireamh go háirithe i mBaile Átha Cliath', 'Soláthraíonn an buiséad €100 milliún chun an Ghaeilge a chur chun cinn mar theanga bheo i bpobal na Gaeltachta agus chun úsáid na Gaeilge a spreagadh sa timpeallacht.', 'Cuireann an cháinaisnéis seo cúnamh díreach ar fáil do theaghlaigh in Eirinn ag am nuair atá siad faoi bhrú agus cuirtear infheistiú ar fáil chun dul i ngleic le dúshláin roimh ár dtír.', 'Cuireadh an Dáil ar fionraí ar 3.54 p.m. agus cuireadh tús leis arís ar 4.54 p.m.', 'Is cúis áthais dom labhairt leis an Teach inniu maidir leis an leithdháileadh iomlán de €117 billiún do mo Roinn i mbuiséad 2024, agus achoimre a thabhairt ar chuid de na bearta lena ndéanfar cothú, feabhsú agus forbairt ar na hearnálacha a bhfuil freagracht agam astu.', 'Fáiltím roimh an tacaíocht atá aontaithe ag an Rialtais don Ghaeltacht agus don Ghaeilge i gcoitinne.', 'Tá mé sásta méadú 4% ar mhaoiniú d’earnáil na Gaeilge agus na Gaeltachta a thuairisciú, méadú a thugann go níos mó ná €100 milliún an infheistíocht a bheidh á dhéanamh ag mo Roinn san earnáil an bhliain seo chugainn, beag beann ar an maoiniú breise a bheidh ag dul go TG4.', 'Leis an maoiniú a bheidh ar fáil don earnáil in 2024, cuirfear réimse leathan beartas i bhfeidhm taobh istigh agus taobh amuigh den Ghaeltacht i gcontae na Mhí.', 'Caithfimid cuimhneamh go bhfuil méadú thar chuimse tagtha ar bhuiséad mo Roinne don Ghaeilge agus don Ghaeltacht ó tháinig an Rialtas seo isteach.', 'Anuas air sin, tá an Rialtas seo tar éis maoiniú a chur ar fáil do TG4 chun an stáisiún nua do pháistí, Cúla4, a bhunú.', 'Tá an méadú go €14.45 milliún ar leithdháileadh caipitil iomlán Údarás na Gaeltachta do 2023 coinnithe do 2024.', 'Anuas air sin, tá maoiniú breise de €1.1 milliún á chur ar fáil d’Údarás na Gaeltachta in 2024 chun feidhm rialachais na heagraíochta a láidriú.', 'Leanfaidh mo Roinn ag maoiniú na scéime DEIS Gaeltachta in 2024.', 'Chomh maith leis sin, cuirfear €500,000 breise ar fáil chun tacú le cohórt níos leithne daoine óga ó chúlraí faoi mhíbhuntáiste ar mhian leo freastal ar chúrsa samhraidh sa Ghaeltacht.', 'Beidh €1 milliún breise ar fáil i scéimeanna tacaíochta Gaeilge mo Roinne ar mhaithe le scéim nua a chur ar bun a thacóidh le múinteoirí scoile agus oibrithe in earnáil an luathoideachais barr feabhais a chur ar a gcuid scileanna teanga.', 'Anuas air sin, tá €500,000 in airgead caipitil curtha ar fáil do na scéimeanna tacaíochta Gaeilge chun a chumasú do mo Roinn tús a chur leis an obair fhorbartha ar cheanncheathrú Chonradh na Gaeilge ag Uimhir 6 Sráid Fhearchair.', 'Bunaíodh líne nua buiséid €1 milliún in 2023 chun dlús a chur le cur chun feidhme Acht na dTeangacha Oifigiúla (Leasú) 2021, d’fhonn spriocanna uaillmhianacha earcaíochta a leagtar amach ann a bhaint amach.', 'Cuirfear allúntas breise de €500,000 ar fáil don obair seo i 2024 le tacú le hiarrachtaí mo Roinne forálacha an Acht teanga nua a neadú trasna an státchóras agus chun feasacht ina leith a chruthú i measc an phobail.', 'Tá teachtaireacht thar a bheith dearfach againn anois maidir leis na deiseanna fostaíochta atá ar fáil dóibh siúd a bhfuil an Ghaeilge acu agus caithfimid an teachtaireacht sin a scaipeadh go forleathan.', 'Tosóimid sa bhliain 2024 le fuinneamh athnuaite agus le fios a bheith againn gur féidir linn a bheith ag súil le forbairt leanúnach na Gaeilge agus na bpobal Gaeltachta.', 'Arís i mbliana, tá buiséad frith-Ghaeltacht os ár gcomhair.', 'I gcomhthéacs na géarchéime atá ann, beidh fíorbheagán tionchair ag an méid atá fógartha don Ghaeilge agus don Ghaeltacht ag an Rialtas chun déileáil leis na deacrachtaí atá os comhair lucht na Gaeilge agus pobal na Gaeltachta ach go háirithe.', 'Níl ach teaghlach amháin as gach cúig teaghlach ag tógaint a gcuid clainne trí Ghaeilge, agus tá 30% de na mná tí Gaeltachta éirithe as ó 2018 i leith.', 'Sin an comhthéacs atá i gceist nuair atá mise agus an Tánaiste ag rá go bhfuil ghéarchéim ann ó thaobh na Gaeltachta de agus nach bhfuil na pinginí atá luaite ag an Aire chun déileáil leis na bunfhadhbanna.', 'Fiú ag an bpreasocáid níos luaithe, ní raibh an tAire sásta glacadh leis go raibh géarchéim sa Ghaeltacht.', 'Rinne an tAire fógairt ar an €4.2 milliún breise atá ar fáil don Ghaeltacht ach tá an ceathrú cuid de sin chun dul ar chúrsaí riarachán agus cuid mhór den €3 mhilliún eile atá fágtha dírithe ar chúrsaí lasmuigh den Ghaeltacht.', 'Teastaíonn €9.2 milliún ó TG4 chun an plean straitéiseach atá aige a chomhlíonadh i 2024 amháin, ach níl ach beagán thar leath de sin á fháil ag an stáisiún.', 'I gcomparáid leis an €9 milliún a d’fhógair an Rialtas, bhí Sinn Féin réidh le €34 milliún a fhógairt le caitheamh -  nó gur chóir go mbeimid ag caitheamh - ar an nGaeltacht, ar na meán Gaeltachta, agus ar an nGaeilge i gcoitinne.', 'Is léir gur chuma sa tsioc leis an Rialtas maidir leis seoid oidhreachta na hÉireann a chaomhnú agus ní hamháin sa Ghaeltacht a tharlaíonn sé sin.', 'Ní gá ach féachaint ar Moore Street mar shampla ach casfaimid ar an gceist sin ar lá éigin eile.', 'Faraor, níl an tAire eile ann agus ní raibh aon chóip den óráid a thug sí ar fáil.', 'B’fhéidir go bhfuil na sonraí ansin ach ón méid atá feicthe agam, tá sé thar a bheith deacair domsa easaontú leis na ceannteidil sna meáin Ghaeilge gur buiséad frithGhaeilge agus frithGhaeltachta é an buiséad seo.', 'Níl puinn breise d’Údarás na Gaeltachta agus níl a fhios agam cé mhéad leathanach atá ansin ó Údarás na Gaeltachta ag cur in iúl cé mhéad foirgnimh agus cé mhéad talún atá acu ach níl siad in ann dul chun cinn a dhéanamh de bharr thaobh easpa acmhainní.', 'Maidir leis an rud atá ráite go leanfaidh muid ar aghaidh leis an maoiniú atá curtha ar fáil d’Údarás na Gaeltachta agus leis na scéimeanna tacaíochta, is é an t-aon rud breise atá i gceist - mar tá mé ag iarraidh an doiciméad a aistriú díreach anois – ná an tacaíocht freisin do na scéimeanna teanga.', 'Níl aon aitheantas anseo, a bheag ná a mhór, go bhfuil géarchéim sochtheangeolaíoch ó thaobh na teanga de, níl aon tuiscint go bhfuil géarchéim ó thaobh cúrsaí tithíochta sna Gaeltachtaí, go bhfuil an daonra ag laghdú, nó níl tuiscint a bheag ná a mhór ar an bhfadhb maidir leis na coláistí samhraidh agus na mná tí ag éirí as an ngníomhaíocht sin gach uile mhí.', 'Tá géarchéim ó thaobh na Gaeilge de agus ó thaobh inmharthanacht na Gaeilge de agus níl pioc nó aon rud le feiceáil sa bhuiséad seo go bhfuil tuiscint ag an Rialtas, nó b’fhéidir go bhfuil, ach go bhfuil easpa tola i gceist,go háirithe i nDún na nGall agus i Luimnigh.', 'Gabhaim míle maith ag an gCathaoirleach Gníomhach mar tá mé imithe cúpla soicind thar mo chuid ama.', 'D’fhreastal mé ar Macra na Feirme anuraidh agus chonaic mé innealra mar Massie Ferguson, New Holland agus John Deere', 'Cuireadh an Dáil ar athló ar 9.07 pm go dtí 10.30 am, Dé Déardaoin, an 12 Deireadh Fómhair 2023', 'Sula gcuirim glaoch ar an Aire Airgeadais, cuirim fáilte chroíúil roimh Aaron O’Shea agus a thuismitheoirí Fidelma agus Martin ó Chontae an Chláir', 'Tá siad anseo leis an bhForas Make-A-Wish', 'Is chuairteoirí rialta iad ar Theach Laighean', 'Tá an tseirbhís sláinte ag fulaingt faoin Rialtas seo.', 'Is iomaí dochtúir agus altra atá ag fágáil agus is léir go bhfuil an Rialtas seo tar éis éirí as an tseirbhís sláinte.', 'Tá a fhios agam ó mo cheantar féin an ghéarchéim atá sa Ghaeltacht.', 'Cá bhfuil an scéim labhairt na Gaeilge a gheall an tAire Stáit, an Teachta O’Donovan?', 'Cá bhfuil an maoiniú breise a theastaíonn d’Údarás na Gaeltachta, ó phleanáil teanga go dtí na coláistí samhraidh atá i gcruachás agus 30% de na mná tí tar éis éirí as ó 2018 i leith?', 'Níor éirí leis an Rialtas fiú €5 milliún breise a chur ar fáil i dtreo na Gaeilge agus é dírithe ar scéimeanna taobh amuigh den Ghaeltacht.', 'Cuirfeadh Sinn Féin €12 milliún breise sa bhuiséid malartach don Ghaeltacht amháin, €11 milliún breise don Ghaeilge, agus €10 milliún do TG4, mar go bhfuil sé mar thosaíocht againn.', 'Táimid réidh chun tosú le Ceisteanna chun an Aire Iompair.', 'Ní feidir linn tada a dhéanamh, in ainneoin go bhfuil an tAire agus an tAire Stáit anseo.', 'Tá géarchéim i gcúram leanaí in Éireann faoi láthair', 'Caithfidh an Rialtas infheistíocht a dhéanamh sa bhuiséid chun costas cúraim leanaí a laghdú go suntasach', 'Léigh mé alt san “Irish Independent” ar an ngéarchéime tithíochta scríofa ag Martina Devlin an seachtain seo chaite.', 'Breis agus ceithre bhliain ó shin, bunaíodh tascfhórsa i nGaillimh maidir leis an ngéarchéim tithíochta mar bhí sé, agus tá sé, chomh dona sin', 'I mo thuairim, tá sé níos measa ná an ghéarchéim i mBaile Átha Cliath.', 'De réir mar a thuigim, tá sé i lámha an Aire ó mhí Iúil ach níl sé foilsithe fós.', 'Tá dhá chraoltóir seirbhíse poiblí teilifíse sa Stát seo – RTÉ agus TG4.', 'Le go bhfásfadh VirginMedia i gceart an bhliain seo chugainn, theastódh €15 milliún breise', 'I gcomhthéacs an airgid atá á lua le RTÉ, is airgead beag é.', 'An féidir leis an Taoiseach a dheimhniú go mbeidh an t-airgead sin ar fáil agus, san fhadtéarma nó sa mheántéarma, go dtabharfar an cineál cistíocht do TG4 a thugtar trasna na farraige uainn do S4C do chraoladh i mBreatnais?', 'Leanann oibrithe agus teaghlaigh ag streachailt ar fud an Stáit seo mar gheall ar an gcostas maireachtála', 'An mhí seo chugainn, ardóidh an Rialtas praghas peitril agus díosail tuilleadh le dhá ardú chéanna', 'Tá Sinn Féin, sa rún seo anocht ag éileamh ar an Rialtas deireadh a chur leis an bplean atá aige le hardú praghsanna agus sos a thabhairt d’oibrithe agus do theaghlaigh', 'Cheann de na grúpaí atá ag fanacht go fonnmhar ar fhógra tá CLG Bhaile Chaisleáin Bhéarra.', 'Mar a bheidh a fhios ag an Teachta Ó Griffin, i Leithinis Bhéarra tá an-bheim curtha ar an bpeil.', 'I gCumann Lúthcleas Ghaeil Baile Chaisleáin Bhéarra tá sé an-deacair teacht ar pháirceáil cois bóthair le tamall anuas.', 'Gabhaim buíochas leis an Teachta as an gceist tábhachtach seo.', 'Ba mhaith liom mo thacaíocht a thabhairt do leasú Uimh 35 agus gabhaim mo bhuíochas leis an Teachta Ó Snodaigh, a thug an leasú go dtí an áit seo', 'Inné d’fhógair Fórsa, SIPTU agus an INMO fógra trí seachtaine go bhfuil sé ar intinn acu beart tionsclaíoch a dhéanamh san earnáil dheonach agus phobail', 'Is beag athdhearbhú a thugann freagra an Taoisigh dom do na tuismitheoirí sin atá ag brath ar sheirbhísí a chuireann Enable Ireland ar fáil.', 'An t-aon rud a dúirt sé mar freagra dom ná go bhfuil Tusla agus FSS ag ullmhú chun teagmhail a dhéanamh', 'Caithfimid díospóireacht a dhéanamh sa Teach seo leis an Taoiseach, leis an Aire Sláinte, leis an Teachta Humphreys, agus leis na hAirí atá freagrach go díreach as na seirbhísí seo', 'Tá dhá chraoltóir seirbhíse poiblí teilifíse sa Stát seo – RTÉ agus TG4', 'Le go bhfásfadh TG4 i gceart an bhliain seo chugainn, theastódh €15 milliún breise', 'I gcomhthéacs an airgid atá á lua le RTÉ, is airgead beag é.', 'An féidir leis an Taoiseach a dheimhniú go mbeidh an t-airgead sin ar fáil agus, san fhadtéarma nó sa mheántéarma, go dtabharfar an cineál cistíocht do TG4 a thugtar trasna na farraige uainn do S4C do chraoladh i mBreatnais?', 'Fáiltím go mór roimh an mBille seo agus tá súil agam go dtiocfaidh sé trí Thithe an Oireachtais gan mhoill', 'Go raibh maith agat, an Teachta Ó Cuív  Anois, an Teachta Verona Murphy.', 'Ba mhaith liom comhbhrón a dhéanamh le Mary, Joan, Emer, Lisa agus Rory, leis an ngarchlann, na deirfiúracha agus na cliamhaineacha ar bhás Noel.', 'Tá an-áthas orm go bhfuil deis agam cúpla focal a rá anseo inniu in ómós do Noel mar Gael uasal a bhí ann.', 'Gabhaim buíochas leis an Aire Stáit as ucht teacht anseo agus gabhaim buíochas leis an Aire', 'Tá áthas orm an deis a fháil an cheist thábhachtach seo a thógáil leis an Aire Stáit.', 'Bunaíodh an chéad bhanc in Éirinn in 1782 agus ó shin tá daoine ag cur rudaí luachmhara i dtaiscí i mbainc.', 'Is iarracht é seo le tabhairt faoi a fháil amach cé leis na boscaí, nó murar l’éinne iad, breathnú cad atá iontu agus iad a choinneáil ar mhaithe leis an Stát', 'Sa gcás gur dteipeann air sin uilig, ansin osclófar na boscaí, féachfar céard atá iontu, cuirfear Ard-Mhúsaem na hÉireann ar an eolas agus déanfaidh seisean cinneadh céard is ceart a dhéanamh leis na taiscí', 'Déanfaidh sé cinneadh an ceart iad a choinneáil nó gan iad a choinneáil agus más ceart iad a choinneáil don Stát déanfaidh sé cinneadh cén áit ar cheart iad a choinneáil.', 'B’fhéidir go coinneofar iad i nDánlann Náisiúnta na hÉireann, in Ard-Mhúsaem na hÉireann, i Leabharlann Náisiúnta na hÉireann nó in aon áit eile.', \"D'fhiafraigh Deputy Éamon Ó Cuív den Aire Turasóireachta, Cultúir, Ealaíon, Gaeltachta, Spóirt agus Meán cén méadú atá i meastacháin a Roinne do 2024 ar an gcaiteachas reatha agus caipitil don Ghaeilge agus don Ghaeltacht; cé mhéad de sin a bhaineann le soláthar caiteachais breise do phá agus tuarastail in Údarás na Gaeltachta agus Foras na Gaeilge; agus an ndéanfaidh sí ráiteas ina thaobh.\", 'Is féidir liom a dheimhniú ag an tráth seo, áfach, go mbeidh €1.1 milliún sa bhreis ar fáil i 2024 le haghaidh caiteachais breise ar phá agus phinsin in Údarás na Gaeltachta.', 'Cuirfear an maoiniú breise seo ar fáil don dá áisíneacht sa bhForas Teanga, nuair a bheas sé ceadaithe ag an gComhairle Aireachta Thuaidh Theas (CATT).', 'Mar gheall ar chúinsí polaitiúla i dTuaisceart Éireann, áfach, níltear in ann cruinnithe CATT a eagrú faoi láthair.', 'Bíonn mo Roinn ag scrúdú bealaí eile i gcónaí le tacú tuilleadh le pobal na Gaeilge,  chun go mbeidh ar a gcumas an teanga a chur chun cinn agus a threisiú, mar a rinneadh i mbliana i gcomhar le Conradh na Gaeilge, Glór na nGael agus Gael Linn.', \"D'fhiafraigh Deputy Mairéad Farrell den Aire Turasóireachta, Cultúir, Ealaíon, Gaeltachta, Spóirt agus Meán céard í an fhaisnéis is déanaí maidir le toghcháin phoiblí do bhord Údarás na Gaeltachta; agus an ndéanfaidh sí ráiteas ina thaobh.\", 'Tar éis don Rialtas Scéim Ghinearálta agus Cinn an Bhille um Údaras na Gaeltachta (Leasú) a fhoilsiú i Nollaig 2022, seoladh an Scéim Ghinearálta agus Cinn an Bhille chuig an gComhchoiste Oireachtais don Ghaeilge, don Ghaeltacht, agus do Phobal Labhartha na Gaeilge  le haghaidh grinnscrúdaithe réamhreachtaigh ar 2ú Feabhra 2023.', 'D’fhoilsigh an Comhchoiste a thuarascáil maidir leis an ghrinnscrúdú réamhreachtach  tar éis dó í a leagan faoi bhráid Thithe an Oireachtais in Iúil 2024.', 'Mar is eol don Teachta, is é Comhairle Contae na Gaillimhe atá freagrach as forbairt céanna ar na hOileáin Árainn, Inis Meáin san áireamh.', 'Bíonn cruinnithe rialta idir feidhmeannaigh na Roinne agus an Chomhairle Contae chun plé agus monatóireacht a dhéanamh ar fhorbairt céanna ar Inis Oírr agus Inis Meáin.', 'Tuigtear dom go bhfuil oifigigh ó Chomhairle Chontae na Gaillimhe ag ullmhú na cáipéisí riachtanacha chun comhairleoirí a cheapadh chun cuidiú le Réamhchás Gnó a ullmhú.', 'Is gá seo a dhéanamh i gcomhréir leis an gCód Caiteachais Phoiblí chun breathnú ar gach aon rogha a d’fhéadfadh a bheith ann chun áiseanna sábháilte cuain a chur ar fáil ar Inis Meáin.', 'Pléadh na dréacht-cháipéisí ag cruinniú idir mo Roinn agus an Chomhairle Contae an tseachtain seo, agus tuigtear dom go bhfuil tuilleadh oibre fós le déanamh orthu sular féidir tairiscintí a lorg.', 'Is fiú a nótáil nach bhfuil aon deontas iarrtha ag Comhairle Contae na Gaillimhe i leith na hoibre seo agus nach bhféadfaí a leithéid a iarradh ná a cheadú nó go mbeidh an próiseas tairsceana curtha i gcrích agus comhairleoirí réidh le ceapadh.', 'Faoin tráth seo, tá 80% de na héileamh íocaíochtaí i leith na gcúrsaí a reáchtáil na Coláistí Gaeilge i samhraidh 2023 próiseáilte ag Rannóg na gColáistí Gaeilge agus seolta chuig Rannóg Airgeadais de chuid na Roinne', 'Maoinítear oibreacha ar na bóithre sin ó acmhainní na n-údarás áitiúil féin, arna bhforlíonadh ag deontais bhóthair ón Stát', 'Aon tionscadail feabhsaithe bóthair a molann údarás áitiúil iad lena mbreithniú faoi Chlár na nDeontas Sonrach, déanann an Roinn iad a mheas cás ar chás']\n"
          ]
        }
      ],
      "source": [
        "import pandas as pd\n",
        "# Raw txt files of Dáil Scripts unannotated\n",
        "dail1 = '/content/Dáil_1_no_dates.txt'\n",
        "dail2 = '/content/Dáil_2_no_dates.txt'\n",
        "\n",
        "dail_lines = []\n",
        "\n",
        "def read_file(file_path, lines_list):\n",
        "    with open(file_path, 'r') as file:\n",
        "        lines = [line.strip() for line in file if line.strip()]\n",
        "        lines_list.extend(lines)\n",
        "\n",
        "read_file(dail1, dail_lines)\n",
        "read_file(dail2, dail_lines)\n",
        "\n",
        "print(len(dail_lines))\n",
        "print(dail_lines[:-1])\n"
      ]
    },
    {
      "cell_type": "code",
      "execution_count": 25,
      "metadata": {
        "id": "dVWG-meA17iU"
      },
      "outputs": [],
      "source": [
        "def format_batch_texts(language_code, batch_texts):\n",
        "\n",
        "  formated_bach = [\">>{}<< {}\".format(language_code, text) for text in batch_texts]\n",
        "\n",
        "  return formated_bach"
      ]
    },
    {
      "cell_type": "code",
      "execution_count": 26,
      "metadata": {
        "colab": {
          "base_uri": "https://localhost:8080/"
        },
        "id": "xHOd3S1AeBUR",
        "outputId": "4784e327-88dd-4611-d029-41449893c88b"
      },
      "outputs": [
        {
          "output_type": "stream",
          "name": "stdout",
          "text": [
            "['First of all, I will follow the theme mentioned by the Burke Deputy, that is accompanied by thanks to those who are hard working diligently in the health system, taking care of patients and those who often have a low meaning when they reach the health system, whether in a hospital, by a doctor, or serving one of them was other people who are dealing with them professionally on a day after day.', \"The new children's hospital is in the area and there is no plan for the completion of the construction, for the construction of the need to move St. James's Hospital or the Crime for Women's and Infants University Hospital to that location yet.\", 'We are preparing for the Olympic Games next year and much Ireland should have more money aside at this stop to help them.', 'We only need to think of people who have already been mentioned like Keith Earls, Johnny Sexton and Katie Taylor and others who are out there carrying the Irish flag and standing with pride on behalf of Ireland.', 'I refer to the likes of Scoil an tSeachtar Laoch and Cumann Báir Setanta who gave rise to it.', 'the Dáil was suspended at 8.46 p.m. and was recommenced at 8.49 p.m.', 'The Dáil was adjourned on 7.31 p.m. to 2 p.m., Tuesday, 24 October 2023.', 'The same question arises in rural and Connemara.', 'I welcome the latest news that we have heard this morning from Citylink that more buses will be available from Clochán to Galway.', 'Bakugan I listened to the statement given by the Gannon Deputy and he was right.', 'I thank the Minister of State for that comprehensive summary of the debate.', 'The Minister for Education, Deputy Andrias Moynihan, questioned the progress made by a string for the Relationship to Education sac and would make a statement on the subject.', 'also we are very proud of Ghobnatan College and its staff.', 'Twilight Seanad Éireann has passed the Historic and Archaeological Heritage Bill and Miscellaneous Provisions, 2023 without amendment.', 'One measure that stands out from this budget for me, though it is very small in the context of the budget, is the additional funding towards the DEIS Gaeltacht scheme in 2024, and the news that an additional €500,000 will be provided to support a wider community of young people wishing to attend a summer course in the Gaeltacht.', 'Nintendo In 1991 - God with us - I availed of a scholarship to the College which won me at school.', 'I attended St Paul’s Community College in the centre of Waterford city, a school which is now classified as an DEIS school and a school in which there was no strong Irish tradition.', 'I am pleased to report an increase of 4% in funding for the Irish-language and Gaeltacht sector, which brings the investment of more than €100 million to my Department in the sector next year, regardless of the additional funding that will be due to TG4.', 'The funding that will be available for the sector in 2024 will implement a broad range of policies both inside and outside the Gaeltacht.', 'The 2021 budget provided approximately €78 million compared to the almost €100 million available for the sector next year.', 'The Government has also made funding available to TG4 to establish the new children’s station Cúla4.', 'The increase to €14.45 million in Údarás na Gaeltachta’s total capital allocation for 2023 has been maintained for 2024.', \"€500,000 in capital money has also been provided for Irish-language support schemes to enable my Department to commence development at Conradh na Gaeilge's headquarters at No. 6 Harcourt Street.\", 'The new budget line of €1 million was established in 2023 to speed up the implementation of the Official Languages (Amendment) Act 2021, in order to achieve ambitious recruitment targets set out therein.', 'The Government had announced a total of €9 million compared to €34 million, Sinn Féin was ready to announce for spending - or that we should be treated - on the Gaeltacht, on the Gaeltacht media, and on the Irish language in general.', 'I thank the Acting Chairman as I have gone a few seconds over my time.', 'The housing crisis was caused by Fianna Fáil and Fine Gael and we all know that they are unable to resolve this crisis.', 'This legislation is needed to make our part, share and support the people of Ukraine through some of the infrastructure within the European Union.', 'Bakugan A person is a person in question who is a member of the Garda Síochána.', 'this comes on to the report written by An Coimisinéir Teanga in respect of the breach of law by An Garda Síochána in relation to the failure of people to provide Irish to the Gaeltacht areas.', 'I will focus on Galway city and County and the housing crisis, despite the establishment of a task force in 2019.', 'also when we go to Brussels, everyone uses it and works brilliantly.', 'Often, when Departments of State have so many payments involved, there is no suffering and the density of them that they should be.', 'The Irish language students were there in June, July and August for the most part.', 'Nintendo Indeed, the base of the courses ends in mid August as students go back at school before the end of the month.', 'For TG4 to grow correctly next year, an additional €15 million would need.', 'Can the Taoiseach ensure that this money will be available and that, in the long term or in the medium term, TG4 is given the kind of funding that is given to the S4C for broadcasting in Welsh?', 'also known to the Deputy Head of Council, over the past year, there has been a significant increase in mortgage rates for workers and families throughout the State.', 'Bakugan As we know, for 15 months now the European Central Bank increased its main interest rate ten times.', 'Bakugan Interest rates are now as high as 10% among the families whose loans were sold by the prize funds, deciding to take a couple of years ago with the support of Fine Gael and Fianna Fáil.', 'It is clear that section 7 of the Official Languages Act 2003 does not apply to all those arrears, however, since the article had not come into effect until July 2006.', 'The service continues to work towards the goal set out in the High Court decision in 2019 to achieve by 2024, despite recruitment and staff difficulties that have been evidenced in its annual and other reports.', 'The commitment of the service to the language is also clearly reflected in its strategic plan 2022-24 which includes a five-and-a-half strategic outcome for the Irish language and work towards bilingual Oireachtas.', 'I also understand that she has run the Oireachtas Collogicium on bilingual Parliaments recently to look at good practices in other countries, namely, Wales and Malta in this context.', 'The Minister would agree to see that the solution of this problem is to publish the Bills such as Canada in the first instance and to deal with this from the beginning?', 'We would then be able to have the Acts, when passed, signed by the President in Irish and English at the same time and deal with the problem.', 'also, the Minister for Justice has particular work to do with the Houses of the Oireachtas and the Minister for Justice has, of course, special work.', 'I recognise the concern of Teachtas Ó Snodaigh regarding this particular issue.', 'The Government agreed on last Tuesday, 4 July with recommendations which I brought to the fore to initiate a comprehensive examination of RTÉ with two elements: an independent review to examine RTÉ’s governance and organisational culture structures, overseen by a specialist governance advisory committee; and an independent review to examine the mechanisms by which external contractors are employed, the fees paid, the use of human resources agents and other materials in RTÉ, which will be supervised by an expert advisory committee on contractors’ fees and human resources matters.', 'Nintendo As the reviews progress, results may, under my discretion, be encouraged to extend the scope of the examination, which may impact on timescales, including those resulting from subsequent Grant Thornton reports, the work of the Public Accounts Committee and the Joint Oireachtas Committee on Tourism, Culture, Arts, Sport and the Media, and issues arising from its discussions.', \"The storyteller likes the weather but I believe that RTÉ's new director general, Kevin Bakhurst, took some important steps forward.\", 'Bakugan Both committees of experts are in place for the review and I hope that the professional advisory services will be in place to support this in early August.', 'for example, Raidió na Gaeltachta has very small staff presenting programmes and RTÉ Radio 1 has much more staff to provide a similar programme.', 'Bakugan I know that the Minister of State in the Department of Health is not able to be here today', 'to the Minister of State, I’d like to thank the Minister of State.', 'Twilight I looked back at how often it has been raised and really makes me kind that I’m still talking about Áras Mhic Dara in the heart of the Gaeltacht, a day-based centre that has now been closed since Covid’s time', 'Nintendo Going back a few weeks, a public meeting was held in Connemara on this subject and attended by a couple of hundred people', 'these TDs were not able to explain to them why this day’s place was still closed', 'Twilight We were not able and that was very difficult for us as TDs when so required place is closed', 'The Dáil was suspended at 9.53 a.m. and commenced again on 10.00 a.m.', 'Bakugan The Government is committed to supporting sport in Ireland, and to increasing the funding made available to sports organisations', 'The National Sports Policy promises to increase the level of State investment in sport from €111 million in 2018 to €220 million by 2027', 'Bakugan I thank the Ceann Comhairle', 'Yesterday, the Taoiseach made comments which sought to transfer the fault of the housing crisis from the Government to Dáil Éireann 44 the non-house workers and families', 'this crisis is the responsibility of Fine Gael and Fianna Fáil not for non-house workers and families', 'this farce continues under the national hospital of the children', 'Bakugan There is no doubt that this hospital is required to be open to Irish children', 'Bakugan Deputies Hildegarde Naughton and Cormac Devlin; No, Deputies of Patrick Mac Lochlainn and Carol Nolan', 'my question involves housing in Galway - it is more right to say housing shortage in Galway - and the task force that was set up over four years ago', 'Twilight At the right of God that his soul was', \"Cannot initialise Evolution's mail component.\", 'Twilight I would like to congratulate the Deputy Andrews for his work in this piece of legislation as it was carried out by the majority of her work', 'that I congratulate the Minister of State.', 'The Dáil was suspended at 4.54 p.m. and was recommenced at 4.56 p.m.', 'We are talking about hundreds of millions of euros of taxpayers’ money available to make films through Físe Éireann, RTÉ or TG4, and the Broadcasting Authority of Ireland’s past', 'Bakugan The Leas-Cheann Comhairle presided at 912 am', 'also thanks to the Deputy Head of Council and the Deputy for raising this matter', 'Twilight Instead of transparent information about the payment scandal held by RTÉ it is clear that RTÉ is informing us of a piece of information', 'Bakugan We know that the whole truth has not yet come to light and I do not so trust the executive board in RTÉ', 'Bakugan We cannot trust from the knowledge that comes from the executive board of Nike and the executives of the board are badly wearing the public.', 'Bakugan I am pleased with the opportunity to find a few words to say on this Bill, the Health (Refined Torchis Services) (Salvable Access Zones) Bill, 2023', 'Then there are those who believe, such as Jennifer Lawrence, that the reason for abortion is not to save mother - I never believed that abortion was there - but to save life', 'The Government welcomes the summer economic statement.', 'they now need support and no more notices and empty Government commitments', 'Bakugan Workers and families throughout this State are struggling with the housing crisis', 'I’m focusing on the Palestinian people and especially on the people living on the West Bank when they were invaded by the Israeli army – a bloody, illegal invasion which is taking place without saying anything despite the fact that we are a neutral country and that we have a name that we are on the side of the people below.', 'my question to the Taoiseach is what he has to say.', 'still more importantly, what he has to do for the Jordan as a country that stresses peace and which we trust to say is this in violation of international law?', 'I welcome this opportunity to speak to the House about the major corporate governance apps that have come to light in RTÉ over the past two weeks.', 'Twilight It is worth highlighting it again at the beginning of this statement however, and on the floor of the House.', 'Bakugan I am pleased with the opportunity to talk on the statements relating to RTÉ', 'Twilight It is very clear that Sky is a huge scandal, and it is also clear that the confidence of people throughout this island is broken', 'also thanks to the Deputies for their evening statements today', 'The disturbance expressed and the broad debate on this matter over the past two weeks, including in the House today, reflects the level of concern and indeed anger of people about the failures in RTÉ governance and culture that have enabled these things to happen.', 'first I welcome the campaign group here to Dublin today to present their campaign to the Dáil', 'Twilight I would like to thank Sinn Féin for this intention to bring before the Dáil today', 'Bakugan It is incredible that we have been waiting for this amount of time for this road in Clonbarred and it is incredible that so many people have lost their lives on this road for a long time this day', 'FALT RESIDENCE Thank you, Minister', 'I thank the Deputy for the issue and report from the committee on the affairs of the co-operatives.', 'Nintendo Deputy Éamon Ó Cuív questioned the Minister for Education as to the Department’s policy on the establishment of Gaelscoileanna and Gaelcholáistí; and will make a statement on the matter.', 'I have a question of what policies the Department has on the establishment of Gaelscoileanna and Gaelcholáistí and what are the criteria taken into account in doing so?', 'I would like to thank Deputy Ó Cuív for highlighting the current demand for Irish-medium education.', 'I as Minister for Education, I want to ensure that appropriate provision is made for young people who wish to receive their education through the medium of Irish.', 'Nintendo As part of the 20 Year Strategy for the Irish Language, my Department is committed to creating opportunities to expand Irish-medium education outside of the Gaeltacht.', 'The silent has us that An Garda Síochána is working to roof.', 'Nintendo Deputy Éamon Ó Cuív - The need to provide specialist health services in An Cheathrú Rua.', 'also comes the first question from Deputy Ó Cuív.', 'The strongest Gaeltacht Gaeltacht town in the country is An Cheathrú Rua and is situated in the heart of the south of Connemara Gaeltacht.', 'Bakugan Of course, it is a very important town in the provision of services to the Connemara Gaeltacht.', 'For a long time, Áras Mhic Dara has a community nursing unit for old people.', 'Áras Mhic Dara now has empty beds and it’s hard to understand why the beds are as there is sufficient demand for the beds but it seems that the architects are not available.', 'Bakugan It is a question for the HSE to ensure that staff are available to provide a service.', 'Twilight Also, there was a room there which is no longer used, where an end of life bed as the people of Connemara gave him the day eventually.', 'The first thing I am raising here today on the An Ceathrú Rua services is what the HSE is to do to ensure that all of these beds are available to the people of An Ceathrú Rua and to the south of Connemara.', 'Bakugan I received a recent response from the HSE to say that only one person was claiming the service.', 'Twilight It is very difficult to imagine that only one person would want a day service in a community that is so strong in population terms as to the Fourth Red', 'he can tell me today what steps were taken by the HSE to ensure that the information about this service was spread to the public?', 'Witched, for example, on Raidió na Gaeltachta for “Iris-Aniar” or on one of the programmes to spread the story in relation to these services?', 'Can I have been installed on TG4?', 'This is not the case elsewhere in Connemara and do not have the same community at all.', 'We will look at why we are unable to recruit family doctors in the Gaeltacht or outside.', \"Cannot initialise Evolution's mail component. I now call the Minister of State.\", 'I have answered the question from the Minister for Health, Deputy Donnelly.', 'I would like to thank the House for giving the Minister the opportunity to provide the house with the latest information on health services in An Charrow Rua in Co. Galway and in particular with regard to the community nursing centre Áras Mhic Dara.', 'Nintendo I would like to confirm with Deputy Ó Cuív that the Minister of State, Deputy Butler is committed to working alongside the health care of the western community in the executives of health services to ensure that those who require health services, in their own community.', 'Nintendo The Department of Health is a key priority for supporting more people in order to be able to live independently in their homes and communities with humanity and independence as far as possible in accordance with the Healthcare vision on the right care in the right place and time.', 'The Minister of State TD was delighted to receive more than €2 million funding to re-enter day care services as well as receive €2.1 million for community-specific, strengthening-oriented daycare services.', 'this is always a priority for the Government and its progress is being actively monitored.', 'have the ability to provide care for between eight and ten people in Áras Mhic Dara, and I would like to confirm that the executive has been given to the provision of a daycare service.', 'Nintendo In the meantime, a community day care service is being provided in the area in Termon Éanna.', 'the Minister of State, Butler TD, will continue to engage with the chief officer in western community health care on this matter.', 'Bakugan I don’t know whether they have any opinion as long as Port Omna is from An Cheathrú Rua.', 'he would like to say that a person in Dublin was opening a primary centre in Athlone but that it would be easier to go from Dublin to Athlone than it is from An Cheathrú Rua to Portumna.', 'I do not understand how the private nursing centres in Connemara can get the team but the HSE is not able to do so.', 'Bakugan That is the same excuse of the Clochán, but there is a different nursing centre in Connemara and they are working properly and completely.', 'The Minister of State is saying that the HSE has no plans but this is probably based on population.', 'The Minister of State knows how many people who have been included with how dispersed the areas are west of Lettermullen, which are western in the Island area, as the Minister of State knows, and so far then with An Spidéal?', 'also a good piece is involved there and there is another part of Connemara, and the HSE appoints that they are not even a primary centre.', 'also, the Minister of State, the Butler Deputy, would like to take thanks to the Minister of State.', 'she was talking to her last night and she promised me that she might go to Connemara, and I will be very happy when she picked 29 June 2023 255 she will go.', 'This will show me on the ground the possibilities but, in addition, the current huge shortcomings with regard to health services, not only on An Charrow Rua but generally in Connemara.', 'he understands how big is the County of Galway as my father and wife come from that county, but I’m not going to do here by presenting the Department’s response to the Dáil.', 'The executive has confirmed that it is still committed to providing daycare services in the community nursing unit of Áras Mhic Dara and that, on receipt of adequate nurses, that unit will open a daycare service without delay.', 'therefore, I know that Áras Mhic Dara does not currently provide some beds because of staffing, and declarations were given when enough staff are available for such beds to be provided.', 'Bakugan With regard to a primary care centre, there are no plans at present to provide a primary care centre on An Cheathrú Rua.', 'Nintendo Ten primary care centres are currently operating in County Galway and another is already under construction.', 'also I would like to reaffirm that the Government is committed to working together with the western HSE community health care so that those who wish to access health services to An Cheathrú Rua can avail of these services within the community. The following services are available in English, French and German.', 'The need for specific health services to be provided at An Cheathrú Rua.', 'I welcome one hundred thousand of the delegation from the United States and especially the Historic Society of Whitehouse as they celebrate 60 years from the visit of this country by former President John F Kennedy on 28 June 1963.', 'also are under the phone of the Green Party, Fianna Fáil and Fine Gael.', 'Fáil and Fine Gael should stand up for the farmers and support them to protect them and to protect the local and national economy as well.', 'This morning, there is no Deputy from Fianna Fáil, from Fine Gael or from the Green Union here.', 'Bakugan There’s no Come from any party here.', \"this scandal continues under RTÉ's coverful payments for Tubridy Ryan on the face.\", 'It is clear that this goes much longer than one Forbes Dee.', 'The information they have about what happened at that time must be submitted to the public by many people on board RTÉ.', 'I thank the Deputy for this important issue.', 'he is very important to seize every opportunity to indicate that we are a neutral country and to use our voices gloriously to show that we are not happy to be prepared for this policy despite the pressure on us and on the Dáil from the Tánaiste, Taoiseach, Government and current forum.', 'the public is seriously misleading and let down on RTÉ’s further payments for Ryan Tubridy.', 'the public confidence in RTÉ is very weak and RTÉ continues to answer fundamental questions.', 'I welcome the Minister of State.', 'to Kildare the Acting Chairman went to Kildare', 'also includes a good tax package, assistance with the cost of services such as childcare, and increased welfare and pensions to protect the income of elderly, sick and disabled, especially in Dublin', 'The budget provides €100 million to promote the Irish language as a living language in the Gaeltacht community and to encourage the use of Irish in the environment.', 'This budget provides direct assistance to families in Ireland at a time when they are under pressure and investment is provided to tackle challenges facing our country.', 'this Dáil was suspended at 3.54 p.m. and was recommenced at 4.54 p.m.', 'I am delighted to talk to the House today on the total allocation to my Department of €117 billion in a budget of 2024, summing some of the measures that will sustain, improve and develop the sectors for which I have responsibility.', 'I welcome the support the Government has agreed for the Gaeltacht and the Irish language in general.', 'I am pleased to report an increase of 4% in funding for the Irish-language and Gaeltacht sector, which brings the investment of more than €100 million to my Department in the sector next year, regardless of the additional funding that will be due to TG4.', 'The funding that will be available for the sector in 2024 will implement a broad range of policies both inside and outside the Gaeltacht in County Meath.', 'We have to remember that the budget of my Department for the Irish language and the Gaeltacht has increased significantly since the coming into force of this Government.', 'The Government has also made funding available to TG4 to establish the new children’s station Cúla4.', 'The increase to €14.45 million in Údarás na Gaeltachta’s total capital allocation for 2023 has been maintained for 2024.', 'The additional funding of €1.1 million is also being made available to Údarás na Gaeltachta in 2024 to strengthen the organisation’s governance function.', 'The DEIS Gaeltacht scheme will continue to be funded by my Department in 2024.', 'A further €500,000 will also be provided to support a wider cohort of young people from disadvantaged backgrounds wishing to attend a summer course in the Gaeltacht.', 'An additional €1 million will be available in my Department’s Irish-language support schemes to set up a new scheme which will support school teachers and workers in the early education sector to improve their language skills.', \"€500,000 in capital money has also been provided for Irish-language support schemes to enable my Department to commence development at Conradh na Gaeilge's headquarters at No. 6 Harcourt Street.\", 'The new budget line of €1 million was established in 2023 to speed up the implementation of the Official Languages (Amendment) Act 2021, in order to achieve ambitious recruitment targets set out therein.', \"A further apologie of €500,000 will be made available for this work in 2024 to support my Department's efforts to embed the provisions of the Act across the state system and to create awareness of it among the public.\", 'We now have a very positive message regarding the employment opportunities available for those with the Irish language and we need to disseminate that message widely.', 'We will begin in 2024 with renewed energy and to know that we can expect the continued development of the Irish language and the Gaeltacht communities.', 'Once again this year, we are facing a budget anti-Irishness.', 'The Government will have little impact on the Irish language and the Gaeltacht in the context of the crisis, especially in order to address the difficulties facing the Irish-speaking community and the Gaeltacht community.', 'The family has only one family in five families who have taken their family through Irish, and 30% of Gaeltacht household women have retired since 2018.', 'This is the context that is about when I and the Tánaiste are saying there is a crisis in the Gaeltacht and that the pennys mentioned by the Minister are not to deal with the root problems.', 'Even at the early press service, the Minister was not satisfied that there was a crisis in the Gaeltacht.', 'The Minister announced the additional €4.2 million available to the Gaeltacht but a quarter of that is to go on administration and a large proportion of the remaining €3 million is aimed at courses outside the Gaeltacht.', 'TG4 needs €9.2 million to comply with its strategic plan in 2024 only, but only half of it is being received by the station.', 'The Government had announced a total of €9 million compared to €34 million, Sinn Féin was ready to announce for spending - or that we should be treated - on the Gaeltacht, on the Gaeltacht media, and on the Irish language in general.', 'It is clear that the frost to the Government in relation to the preservation of the treasures of Irish heritage appeared not only in the Gaeltacht.', 'Nintendo Only need to look at Moore Street for example but we turn to that question on some other day.', 'Sadly, the other Minister is not there and no copy of her speech was available.', 'Although the data is only from what I have seen, it is very difficult for me to disagree with the heads of Irish-language media that this budget is an anti-Irish and anti-Irish budget.', 'The Údarás na Gaeltachta have no additional power and I don’t know how many pages they are there from Údarás na Gaeltachta pointing out how many buildings and how much land they have but they are unable to make progress due to the lack of resources.', 'The fact that we have said will continue with the funding provided to Údarás na Gaeltachta and the support schemes, the one extra thing that is involved – as I am now trying to translate the document – is also the support for the language schemes.', 'The fact that there is a sociolinguistic language crisis, there is no understanding that there is a housing crisis in the Gaeltacht areas, that the population is being reduced, or that the problem of summer colleges and domestic women arising from that activity is little or no longer an understanding of the problem every month.', 'The Government has a crisis in the Irish language and in terms of the viability of the Irish language and there is no pick or anything to be seen in this budget, or perhaps the lack of toll, especially in Donegal and Limerick.', 'I thank the Acting Chairman as I have gone a few seconds over my time.', 'Twilight I attended Macra na Farm last year and I saw machinery as Massie Ferguson, New Holland and John Deere', 'Bakugan The Dáil was postponed at 9.07 pm until 10.30 am, Thursday, 12 October 2023', 'Aaron O’Shea and his parents Fedolma and Martin from County Clare, before calling the Minister for Finance, I warmly welcome Aaron O’Shea', 'Bakugan They are here with the Make-A-Wish Foundation', 'Bakugan They are regular visitors to Leinster House', 'Twilight The health service is suffering under this Government.', 'Bakugan Many doctors and nurses are leaving and it is clear that this Government has resigned from the health service.', 'also know from my own area the crisis that is in the Gaeltacht.', 'Can the Minister of State, the Deputy O’Donovan promised the Irish speaking scheme?', 'The additional funding required by Údarás na Gaeltachta, from language planning to the summer colleges in difficulty and 30% of domestic women has retired since 2018?', 'The Government did not even work to provide an extra €5 million towards the Irish language while targeting schemes outside of the Gaeltacht.', 'Sinn Féin would add extra €12 million in the budget for the Gaeltacht alone, an additional €11 million for the Irish language, and €10 million for TG4 as our priority.', 'Bakugan We are ready to start with Questions to the Minister for Transport.', 'Cannot do anything, despite the fact that the Minister and the Minister of State are here.', 'Bakugan There is currently a childcare crisis in Ireland', 'The Government must invest in the budgets to significantly reduce the cost of childcare', 'Bakugan I read an article in the “Irish Independent” on the housing crisis written by Martina Devlin this past week.', 'Although over four years ago, a task force was set up in Galway in respect of the housing crisis as it was, and is, so bad', 'Twilight In my opinion, it is worse than the Dublin crisis.', 'Bakugan As I understand, it has been in the hands of the Minister since July but is not yet published.', 'There are two public television service broadcasters in this State – RTÉ and TG4.', 'VirginMedia to grow correctly next year would need an additional €15 million', 'this is a little money. In the context of the money being referenced with RTÉ.', 'Can the Taoiseach ensure that this money will be available and that, in the long term or in the medium term, TG4 is given the kind of funding that is given to the S4C for broadcasting in Welsh?', 'Twilight Workers and families continue to struggle throughout this State because of the cost of living', 'Twilight Next month, the Government will further raise the price of petrol and diesel with two same rises', 'Jesus Féin, in this motion tonight calling on the Government to put an end to his plan for raising prices and giving a break to workers and families', 'Nintendo One of the groups who are enthusiastically waiting for an announcement is Castletownbere GAA.', 'Bakugan As the Griffin Deputy knew, in the Bearra Peninsula there is a very biathlete placed on the football.', 'The Castletown Lúthcéal Ghael Cumann Bharra is very difficult to access a roadside parking for some time.', 'also thanks to the Deputy for this important issue.', \"Twilight I would give my support to reform No. 35 and I thank Deputy O'Snadaigh, who brought the amendment to this place\", 'Yesterday’s Force, SIPTU and INMO announced three weeks’ announcement of their intention to take industrial action in the voluntary and community sector', 'a little reaffirming that the Taoiseach’s response to those parents who rely on the services provided by Enable Ireland gives me to those parents.', 'Bakugan The only thing that he said in response to me was that Tusla and HSE are preparing to do contact with us', 'Can I debate in this House with the Taoiseach, the Minister for Health, Deputy Humphreys, and Ministers directly responsible for these services', 'There are two public television service broadcasters in this State – RTÉ and TG4', 'For TG4 to grow correctly next year, an additional €15 million', 'this is a little money. In the context of the money being referenced with RTÉ.', 'Can the Taoiseach ensure that this money will be available and that, in the long term or in the medium term, TG4 is given the kind of funding that is given to the S4C for broadcasting in Welsh?', 'I welcome this Bill and I hope it will come through the Houses of the Oireachtas without delay', 'Thank you, the Deputy From Cuív Now, the Verona Comes Murphy.', 'also, he said: \"I would like to sympathize Mary, Joan, Emer, Lisa and Rory, with the grandchildren, the sisters and the tithes on the death of Noel.', 'Bakugan I am delighted that I have a chance to say a few words here today in honor of Noel as a noble Gael who was there.', 'he said, \"I thank the Minister of State for coming here and thank the Minister for', 'Twilight I am pleased with the opportunity to take this important question with the Minister of State.', 'The first bank in Ireland was founded in 1782 and since then people have been putting valuables in deposits in banks.', 'this is an attempt to attempt to find out who the boxes are, or if they are no longer, to look what they are and to keep them for the benefit of the State', 'Bakugan If all of this fails, then the boxes open, regard shall be had, the National Museum of Ireland shall be informed and decide what should be done to the deposits.', 'he shall decide whether or not to retain them and if they should be retained for the State he shall decide where to keep them.', 'You may be detained in the National Gallery of Ireland, the National Museum of Ireland, the National Library of Ireland or elsewhere.', 'The Minister for Tourism, Culture, Arts, Gaeltacht, Sport and Media, Deputy Éamon Ó Cuív, announced the increase in the estimates made by her Department for 2024 in current and capital expenditure for the Irish language and the Gaeltacht; how much of that is about providing additional pay and salary expenditure in Údarás na Gaeltachta and Foras na Gaeilge; and whether it will make a statement on the matter.', 'I can however, confirm that an additional €1.1 million will be available in 2024 for additional pay and pension expenditure in Údarás na Gaeltachta.', 'This additional funding will be made available to both agencies in An Foras Teanga, when approved by the North South Ministerial Council (NSMC).', 'However, due to political circumstances in Northern Ireland, it is not possible to organise NSMC meetings at the present time.', 'My Department is looking at other ways to support the Irish-speaking community, to enable them to promote and strengthen the language, as was done this year in conjunction with Conradh na Gaeilge, Glór na nGael and Gael Linn.', 'The Minister for Tourism, Culture, Arts, the Gaeltacht, Sport and the Media, Deputy; asked the latest information regarding public elections to the board of Údarás na Gaeltachta; and will make a statement on the matter.', 'The General Scheme and Heads of the Gaeltacht Authority (Amendment) Bill were published by the Government in December 2022, the General Scheme and Heads of Bill were sent to the Joint Oireachtas Committee for the Irish Language, the Gaeltacht and the Irish Language Speaking Communities for pre-legislative scrutiny on 2 February 2023.', 'otherwise, the Joint Committee published its report on the pre-legislative scrutiny after it was laid before the Houses of the Oireachtas in July 2024.', 'Tara as well known, Galway County Council is responsible for the same development on the Aran Islands including Inis Meáin.', 'The Department’s executives meet regularly to discuss and monitor the same development on Inis Oírr and Inis Meáin.', 'I understand that Galway County Council officials are preparing the necessary documents to appoint advisers to assist in the preparation of an Advance Business Case.', 'This must be done in accordance with the Public Expenditure Code to look at all possible options for providing safe harbour facilities on Inis Meáin.', 'The draft documents were discussed at a meeting between my Department and the County Council this week, and I understand that further work is to be done on them before tenders can be sought.', 'It is important to note that no grant has been made by Galway County Council in respect of this work and that the same may not have been requested or approved until the tender process has been completed and advisers have been ready for appointment.', 'The Department’s Irish Colleges Department has now processed 80% of the payment demands in respect of courses run in the summer of 2023 and sent to the Department’s Finance Section.', 'Bakugan Works on those roads are funded from the resources of the local authorities themselves, supplemented by road grants granted by the State.', 'The Department considers any road improvement projects proposed by a local authority for consideration under the Specific Grants Programme on a case-by-case basis', 'he has received an application for a Specific Grant from Galway County Council which relates to works to raise the road at Loinge Harbour.']\n"
          ]
        }
      ],
      "source": [
        "def perform_translation(batch_texts, model, tokenizer, language=\"en\", batch_size=10):\n",
        "    translated_texts = []\n",
        "    for i in range(0, len(batch_texts), batch_size):\n",
        "        batch = batch_texts[i:i+batch_size]\n",
        "\n",
        "        formated_batch_texts = format_batch_texts(language, batch)\n",
        "\n",
        "        translated = model.generate(**tokenizer(formated_batch_texts, return_tensors=\"pt\", padding=True, truncation=True, max_length=512))\n",
        "\n",
        "        batch_translated_texts = [tokenizer.decode(t, skip_special_tokens=True) for t in translated]\n",
        "\n",
        "        translated_texts.extend(batch_translated_texts)\n",
        "\n",
        "    return translated_texts\n",
        "\n",
        "translated_texts = perform_translation(dail_lines, first_model, first_model_tkn)\n",
        "print(translated_texts)\n"
      ]
    },
    {
      "cell_type": "code",
      "execution_count": 27,
      "metadata": {
        "colab": {
          "base_uri": "https://localhost:8080/"
        },
        "id": "TjuSonp_fkla",
        "outputId": "964c81b6-2ca3-4f8c-ae8f-cfb1b5520e24"
      },
      "outputs": [
        {
          "output_type": "stream",
          "name": "stdout",
          "text": [
            "268\n"
          ]
        }
      ],
      "source": [
        "print(len(translated_texts))"
      ]
    },
    {
      "cell_type": "code",
      "execution_count": 28,
      "metadata": {
        "colab": {
          "base_uri": "https://localhost:8080/"
        },
        "outputId": "0797f94e-94cd-4353-a9cc-fe508021fdd0",
        "id": "EE_Y6zQz17iW"
      },
      "outputs": [
        {
          "output_type": "stream",
          "name": "stdout",
          "text": [
            "Arsa an Dáil ar fhoinní ag 8.46 p.m. agus cuireadh chun báis ag 8.49 p.m.\n",
            "268\n"
          ]
        }
      ],
      "source": [
        "back_translated_texts = perform_translation(dail_lines, second_model, second_model_tkn)\n",
        "print(back_translated_texts[5])\n",
        "print(len(back_translated_texts))"
      ]
    },
    {
      "cell_type": "code",
      "execution_count": 29,
      "metadata": {
        "colab": {
          "base_uri": "https://localhost:8080/"
        },
        "id": "vthYOfbcQL-j",
        "outputId": "a7cd7d44-f45d-46dc-9ea3-a118567efcb2"
      },
      "outputs": [
        {
          "output_type": "stream",
          "name": "stdout",
          "text": [
            "Back-translated texts exported to /content/backtranslated_text.txt\n"
          ]
        }
      ],
      "source": [
        "back_translated_texts_file_path = \"/content/backtranslated_text.txt\"\n",
        "\n",
        "with open(back_translated_texts_file_path, \"w\", encoding=\"utf-8\") as file:\n",
        "    for sentence in back_translated_texts:\n",
        "        file.write(sentence + \"\\n\")\n",
        "\n",
        "print(f\"Back-translated texts exported to {back_translated_texts_file_path}\")"
      ]
    },
    {
      "cell_type": "code",
      "execution_count": 30,
      "metadata": {
        "colab": {
          "base_uri": "https://localhost:8080/"
        },
        "id": "HkTRzR3dOt3B",
        "outputId": "4d1bf333-9d3c-476a-ef93-6e6e903f1aa6"
      },
      "outputs": [
        {
          "output_type": "stream",
          "name": "stdout",
          "text": [
            "[('Arsa', 'O'), ('an', 'O'), ('Dáil', 'B-ORG'), ('ar', 'O'), ('fhoinní', 'O'), ('ag', 'O'), ('8.46', 'O'), ('p.m.', 'O'), ('agus', 'O'), ('cuireadh', 'O'), ('chun', 'O'), ('báis', 'O'), ('ag', 'O'), ('8.49', 'O'), ('p.m.', 'O')]\n",
            "268\n"
          ]
        }
      ],
      "source": [
        "token_label_mapping = {}\n",
        "# Get gold standard tags for entities from training data\n",
        "for sentence in train_data:\n",
        "    for token, label in sentence:\n",
        "        normalized_token = token.lower()\n",
        "        if normalized_token not in token_label_mapping:\n",
        "            token_label_mapping[normalized_token] = label\n",
        "\n",
        "formatted_back_translation = []\n",
        "for sentence in back_translated_texts:\n",
        "\n",
        "    tokens = sentence.split()\n",
        "    formatted_sentence = []\n",
        "    for token in tokens:\n",
        "        normalized_token = token.lower()\n",
        "\n",
        "        label = token_label_mapping.get(normalized_token, 'O')\n",
        "        formatted_sentence.append((token, label))\n",
        "    formatted_back_translation.append(formatted_sentence)\n",
        "\n",
        "print(formatted_back_translation[5])\n",
        "print(len(formatted_back_translation))\n"
      ]
    },
    {
      "cell_type": "code",
      "execution_count": 31,
      "metadata": {
        "id": "0VS3ZDK_17iW"
      },
      "outputs": [],
      "source": [
        "token_label_mapping = {}\n",
        "\n",
        "for sentence in train_data:\n",
        "    for token, label in sentence:\n",
        "        if token not in token_label_mapping:\n",
        "            token_label_mapping[token] = label\n"
      ]
    },
    {
      "cell_type": "code",
      "execution_count": 32,
      "metadata": {
        "id": "DNc2dIbj17iW",
        "colab": {
          "base_uri": "https://localhost:8080/"
        },
        "outputId": "2824c39f-fb6c-44cc-e388-bf3e19dd1710"
      },
      "outputs": [
        {
          "output_type": "stream",
          "name": "stdout",
          "text": [
            "[('Arsa', 'O'), ('an', 'O'), ('Dáil', 'B-ORG'), ('ar', 'O'), ('fhoinní', 'O'), ('ag', 'O'), ('8.46', 'O'), ('p.m.', 'O'), ('agus', 'O'), ('cuireadh', 'O'), ('chun', 'O'), ('báis', 'O'), ('ag', 'O'), ('8.49', 'O'), ('p.m.', 'O')]\n"
          ]
        }
      ],
      "source": [
        "formatted_back_translation = []\n",
        "for sentence in back_translated_texts:\n",
        "    tokens = sentence.split()\n",
        "    formatted_sentence = []\n",
        "    for token in tokens:\n",
        "        normalized_token = token\n",
        "        label = token_label_mapping.get(normalized_token, 'O')\n",
        "        formatted_sentence.append((normalized_token, label))\n",
        "    formatted_back_translation.append(formatted_sentence)\n",
        "\n",
        "print(formatted_back_translation[5])"
      ]
    },
    {
      "cell_type": "code",
      "source": [
        "print(formatted_back_translation[0])"
      ],
      "metadata": {
        "colab": {
          "base_uri": "https://localhost:8080/"
        },
        "id": "SKUFJHFD8R4m",
        "outputId": "b7fd5ef8-2101-4b5b-c181-0aad626f6112"
      },
      "execution_count": 33,
      "outputs": [
        {
          "output_type": "stream",
          "name": "stdout",
          "text": [
            "[('Is', 'O'), ('é', 'O'), ('atá', 'O'), ('i', 'O'), ('gceist', 'O'), ('le', 'O'), ('‘Ar', 'O'), ('dtiús’,', 'O'), ('a', 'O'), ('d’iarr', 'O'), ('an', 'O'), ('tAire', 'O'), ('Ealaíon,', 'O'), ('Oidhreachta', 'I-PER'), ('agus', 'O'), ('Gaeltachta’', 'O'), ('ná', 'O'), ('an', 'O'), ('t-amhrán', 'O'), ('is', 'O'), ('fearr', 'O'), ('le', 'O'), ('rá', 'O'), ('go', 'O'), ('minic', 'O'), ('i', 'O'), ('gceann', 'O'), ('gach', 'O'), ('bliain', 'O'), ('go', 'O'), ('dtí', 'O'), ('an', 'O'), ('chéad', 'O'), ('lá', 'O'), ('den', 'O'), ('saol,', 'O'), ('agus', 'O'), ('an', 'O'), ('t-aon', 'O'), ('lá', 'O'), ('den', 'O'), ('saol,', 'O'), ('agus', 'O'), ('an', 'O'), ('t-aon', 'O'), ('lá,', 'O'), ('an', 'O'), ('t-aon', 'O'), ('lá', 'O'), ('den', 'O'), ('saol,', 'O'), ('agus', 'O'), ('an', 'O'), ('t-aon', 'O'), ('lá', 'O'), ('amháin.', 'O')]\n"
          ]
        }
      ]
    },
    {
      "cell_type": "code",
      "execution_count": 34,
      "metadata": {
        "colab": {
          "base_uri": "https://localhost:8080/"
        },
        "id": "pd9z8LUOZQ6F",
        "outputId": "d19bc288-a181-4095-d79e-9ca99ba1b663"
      },
      "outputs": [
        {
          "output_type": "stream",
          "name": "stdout",
          "text": [
            "Back-translated texts exported to /content/back_translated_texts_labelled.txt\n"
          ]
        }
      ],
      "source": [
        "back_translated_texts_file_path = \"/content/back_translated_texts_labelled.txt\"\n",
        "\n",
        "with open(back_translated_texts_file_path, 'w', encoding='utf-8') as file:\n",
        "    for sentence in formatted_back_translation:\n",
        "        for word, tag in sentence:\n",
        "            file.write(f\"{word} {tag}\\n\")\n",
        "        file.write(\"\\n\")\n",
        "\n",
        "\n",
        "print(f\"Back-translated texts exported to {back_translated_texts_file_path}\")"
      ]
    },
    {
      "cell_type": "code",
      "source": [
        "file_path = \"/content/backtranslated.conll\"\n",
        "with open(file_path, 'w', encoding='utf-8') as file:\n",
        "    for sentence in formatted_back_translation:\n",
        "        for word, tag in sentence:\n",
        "            file.write(f\"{word} {tag}\\n\")\n",
        "        file.write(\"\\n\")\n",
        "\n",
        "file_path\n"
      ],
      "metadata": {
        "colab": {
          "base_uri": "https://localhost:8080/",
          "height": 35
        },
        "id": "Wbhvm6Bz2U9d",
        "outputId": "85ad6226-8c9e-435a-c4fe-32b85089dc17"
      },
      "execution_count": 35,
      "outputs": [
        {
          "output_type": "execute_result",
          "data": {
            "text/plain": [
              "'/content/backtranslated.conll'"
            ],
            "application/vnd.google.colaboratory.intrinsic+json": {
              "type": "string"
            }
          },
          "metadata": {},
          "execution_count": 35
        }
      ]
    },
    {
      "cell_type": "code",
      "execution_count": 36,
      "metadata": {
        "colab": {
          "base_uri": "https://localhost:8080/"
        },
        "id": "9AG9WCm6iE1j",
        "outputId": "32ff8e48-5044-4743-d6e1-eeb3db5e9fff"
      },
      "outputs": [
        {
          "output_type": "execute_result",
          "data": {
            "text/plain": [
              "1006"
            ]
          },
          "metadata": {},
          "execution_count": 36
        }
      ],
      "source": [
        "len(train_data)"
      ]
    },
    {
      "cell_type": "code",
      "source": [
        "backtranslated = '/content/backtranslated.conll'"
      ],
      "metadata": {
        "id": "5QqyeIBmg6Z6"
      },
      "execution_count": 38,
      "outputs": []
    },
    {
      "cell_type": "code",
      "source": [
        "backtranslated_data = read_conll_file(backtranslated)"
      ],
      "metadata": {
        "id": "RM5XnLekhGnp"
      },
      "execution_count": 39,
      "outputs": []
    },
    {
      "cell_type": "code",
      "source": [
        "print(len(backtranslated_data))"
      ],
      "metadata": {
        "colab": {
          "base_uri": "https://localhost:8080/"
        },
        "id": "3JWYHnVmhR3u",
        "outputId": "edb374d0-c9f7-4a99-e693-6f41095f9b1b"
      },
      "execution_count": 40,
      "outputs": [
        {
          "output_type": "stream",
          "name": "stdout",
          "text": [
            "268\n"
          ]
        }
      ]
    },
    {
      "cell_type": "code",
      "execution_count": 41,
      "metadata": {
        "id": "L_aMRUagbTMY"
      },
      "outputs": [],
      "source": [
        "train_data = train_data + backtranslated_data"
      ]
    },
    {
      "cell_type": "code",
      "execution_count": 42,
      "metadata": {
        "colab": {
          "base_uri": "https://localhost:8080/"
        },
        "id": "cNXrgxAOiHgf",
        "outputId": "e207b71f-3a93-4fb4-c469-d81dd2727903"
      },
      "outputs": [
        {
          "output_type": "execute_result",
          "data": {
            "text/plain": [
              "268"
            ]
          },
          "metadata": {},
          "execution_count": 42
        }
      ],
      "source": [
        "len(formatted_back_translation)"
      ]
    },
    {
      "cell_type": "code",
      "execution_count": 43,
      "metadata": {
        "colab": {
          "base_uri": "https://localhost:8080/"
        },
        "id": "4SDX3mkRiCf6",
        "outputId": "9c66c210-f460-46f2-8939-177ee9e66bb1"
      },
      "outputs": [
        {
          "output_type": "execute_result",
          "data": {
            "text/plain": [
              "1274"
            ]
          },
          "metadata": {},
          "execution_count": 43
        }
      ],
      "source": [
        "len(train_data)"
      ]
    },
    {
      "cell_type": "code",
      "source": [
        "print(train_data[1228])"
      ],
      "metadata": {
        "colab": {
          "base_uri": "https://localhost:8080/"
        },
        "id": "WBbsn6ytht_V",
        "outputId": "0711cf5e-6470-48f5-d009-49bbc906cc78"
      },
      "execution_count": 44,
      "outputs": [
        {
          "output_type": "stream",
          "name": "stdout",
          "text": [
            "[('An', 'B-ORG'), ('t-ainm', 'O'), ('a', 'O'), ('bhí', 'O'), ('le', 'O'), ('rá', 'O'), ('ag', 'O'), ('an', 'O'), ('Taoiseach', 'B-PER'), ('ar', 'O'), ('an', 'O'), ('lá', 'O'), ('roimh', 'O'), ('an', 'O'), ('gcruinniú', 'O'), ('agus,', 'O'), ('mar', 'O'), ('a', 'O'), ('bhí', 'O'), ('sa', 'O'), ('phost,', 'O'), ('téigh', 'O'), ('go', 'O'), ('dtí', 'O'), ('an', 'O'), ('chéad', 'O'), ('chruinniú', 'O'), ('den', 'O'), ('chéad', 'O'), ('uair', 'O'), ('riamh', 'O'), ('do', 'O'), ('TG4', 'B-ORG'), ('an', 'O'), ('t-ainm', 'O'), ('atá', 'O'), ('ar', 'O'), ('TG4', 'B-ORG'), ('an', 'O'), ('t-ainm', 'O'), ('atá', 'O'), ('ar', 'O'), ('siúl', 'O'), ('ar', 'O'), ('an', 'O'), ('bhfód', 'O'), ('seo', 'O'), ('do', 'O'), ('S4C', 'B-ORG'), ('do', 'O'), ('chraoladh', 'O'), ('i', 'O'), ('mBreatnais?', 'O')]\n"
          ]
        }
      ]
    },
    {
      "cell_type": "code",
      "source": [
        "file_path = \"/content/backtranslated_training.conll\"\n",
        "\n",
        "with open(file_path, \"w\", encoding=\"utf-8\") as file:\n",
        "    for training in train_data:\n",
        "        for token, tag in training:\n",
        "            file.write(f\"{token}\\t{tag}\\n\")\n",
        "        file.write(\"\\n\")\n",
        "\n",
        "print(f\"Data exported to {file_path}\")"
      ],
      "metadata": {
        "colab": {
          "base_uri": "https://localhost:8080/"
        },
        "id": "JNNeDKDYhiti",
        "outputId": "40c7139c-0127-49d3-ff15-9a60f837510d"
      },
      "execution_count": 45,
      "outputs": [
        {
          "output_type": "stream",
          "name": "stdout",
          "text": [
            "Data exported to /content/backtranslated_training.conll\n"
          ]
        }
      ]
    }
  ]
}