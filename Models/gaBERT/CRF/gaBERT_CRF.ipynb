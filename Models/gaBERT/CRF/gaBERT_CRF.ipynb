{
  "nbformat": 4,
  "nbformat_minor": 0,
  "metadata": {
    "colab": {
      "provenance": [],
      "gpuType": "T4"
    },
    "kernelspec": {
      "name": "python3",
      "display_name": "Python 3"
    },
    "language_info": {
      "name": "python"
    },
    "accelerator": "GPU",
    "widgets": {
      "application/vnd.jupyter.widget-state+json": {
        "a9c9610bf12f43a5b5e4fc926b29c85c": {
          "model_module": "@jupyter-widgets/controls",
          "model_name": "HBoxModel",
          "model_module_version": "1.5.0",
          "state": {
            "_dom_classes": [],
            "_model_module": "@jupyter-widgets/controls",
            "_model_module_version": "1.5.0",
            "_model_name": "HBoxModel",
            "_view_count": null,
            "_view_module": "@jupyter-widgets/controls",
            "_view_module_version": "1.5.0",
            "_view_name": "HBoxView",
            "box_style": "",
            "children": [
              "IPY_MODEL_1c09a6735f0748f994f841eb5c08758d",
              "IPY_MODEL_17cf5a0437964d0a9bb7af6fc7ff2971",
              "IPY_MODEL_63425cf1cc914310acf20578ea5b9d36"
            ],
            "layout": "IPY_MODEL_182b2b6086404a9ab8bfa517cc27c39f"
          }
        },
        "1c09a6735f0748f994f841eb5c08758d": {
          "model_module": "@jupyter-widgets/controls",
          "model_name": "HTMLModel",
          "model_module_version": "1.5.0",
          "state": {
            "_dom_classes": [],
            "_model_module": "@jupyter-widgets/controls",
            "_model_module_version": "1.5.0",
            "_model_name": "HTMLModel",
            "_view_count": null,
            "_view_module": "@jupyter-widgets/controls",
            "_view_module_version": "1.5.0",
            "_view_name": "HTMLView",
            "description": "",
            "description_tooltip": null,
            "layout": "IPY_MODEL_2885ef1b21e44141bb61d879d1b03aa9",
            "placeholder": "​",
            "style": "IPY_MODEL_ddb30a69915c47e0b83b980a5dc8e404",
            "value": "pytorch_model.bin: 100%"
          }
        },
        "17cf5a0437964d0a9bb7af6fc7ff2971": {
          "model_module": "@jupyter-widgets/controls",
          "model_name": "FloatProgressModel",
          "model_module_version": "1.5.0",
          "state": {
            "_dom_classes": [],
            "_model_module": "@jupyter-widgets/controls",
            "_model_module_version": "1.5.0",
            "_model_name": "FloatProgressModel",
            "_view_count": null,
            "_view_module": "@jupyter-widgets/controls",
            "_view_module_version": "1.5.0",
            "_view_name": "ProgressView",
            "bar_style": "success",
            "description": "",
            "description_tooltip": null,
            "layout": "IPY_MODEL_ff6f0c71ad8042488aba46eb5be8a3d7",
            "max": 439219446,
            "min": 0,
            "orientation": "horizontal",
            "style": "IPY_MODEL_16fe093696d842f4a49a36d44e7efb90",
            "value": 439219446
          }
        },
        "63425cf1cc914310acf20578ea5b9d36": {
          "model_module": "@jupyter-widgets/controls",
          "model_name": "HTMLModel",
          "model_module_version": "1.5.0",
          "state": {
            "_dom_classes": [],
            "_model_module": "@jupyter-widgets/controls",
            "_model_module_version": "1.5.0",
            "_model_name": "HTMLModel",
            "_view_count": null,
            "_view_module": "@jupyter-widgets/controls",
            "_view_module_version": "1.5.0",
            "_view_name": "HTMLView",
            "description": "",
            "description_tooltip": null,
            "layout": "IPY_MODEL_a54614ffad0e4ce0be11c8cf52f0d433",
            "placeholder": "​",
            "style": "IPY_MODEL_858f408c8baf4c68aa64ddee71d4ab15",
            "value": " 439M/439M [00:08&lt;00:00, 56.0MB/s]"
          }
        },
        "182b2b6086404a9ab8bfa517cc27c39f": {
          "model_module": "@jupyter-widgets/base",
          "model_name": "LayoutModel",
          "model_module_version": "1.2.0",
          "state": {
            "_model_module": "@jupyter-widgets/base",
            "_model_module_version": "1.2.0",
            "_model_name": "LayoutModel",
            "_view_count": null,
            "_view_module": "@jupyter-widgets/base",
            "_view_module_version": "1.2.0",
            "_view_name": "LayoutView",
            "align_content": null,
            "align_items": null,
            "align_self": null,
            "border": null,
            "bottom": null,
            "display": null,
            "flex": null,
            "flex_flow": null,
            "grid_area": null,
            "grid_auto_columns": null,
            "grid_auto_flow": null,
            "grid_auto_rows": null,
            "grid_column": null,
            "grid_gap": null,
            "grid_row": null,
            "grid_template_areas": null,
            "grid_template_columns": null,
            "grid_template_rows": null,
            "height": null,
            "justify_content": null,
            "justify_items": null,
            "left": null,
            "margin": null,
            "max_height": null,
            "max_width": null,
            "min_height": null,
            "min_width": null,
            "object_fit": null,
            "object_position": null,
            "order": null,
            "overflow": null,
            "overflow_x": null,
            "overflow_y": null,
            "padding": null,
            "right": null,
            "top": null,
            "visibility": null,
            "width": null
          }
        },
        "2885ef1b21e44141bb61d879d1b03aa9": {
          "model_module": "@jupyter-widgets/base",
          "model_name": "LayoutModel",
          "model_module_version": "1.2.0",
          "state": {
            "_model_module": "@jupyter-widgets/base",
            "_model_module_version": "1.2.0",
            "_model_name": "LayoutModel",
            "_view_count": null,
            "_view_module": "@jupyter-widgets/base",
            "_view_module_version": "1.2.0",
            "_view_name": "LayoutView",
            "align_content": null,
            "align_items": null,
            "align_self": null,
            "border": null,
            "bottom": null,
            "display": null,
            "flex": null,
            "flex_flow": null,
            "grid_area": null,
            "grid_auto_columns": null,
            "grid_auto_flow": null,
            "grid_auto_rows": null,
            "grid_column": null,
            "grid_gap": null,
            "grid_row": null,
            "grid_template_areas": null,
            "grid_template_columns": null,
            "grid_template_rows": null,
            "height": null,
            "justify_content": null,
            "justify_items": null,
            "left": null,
            "margin": null,
            "max_height": null,
            "max_width": null,
            "min_height": null,
            "min_width": null,
            "object_fit": null,
            "object_position": null,
            "order": null,
            "overflow": null,
            "overflow_x": null,
            "overflow_y": null,
            "padding": null,
            "right": null,
            "top": null,
            "visibility": null,
            "width": null
          }
        },
        "ddb30a69915c47e0b83b980a5dc8e404": {
          "model_module": "@jupyter-widgets/controls",
          "model_name": "DescriptionStyleModel",
          "model_module_version": "1.5.0",
          "state": {
            "_model_module": "@jupyter-widgets/controls",
            "_model_module_version": "1.5.0",
            "_model_name": "DescriptionStyleModel",
            "_view_count": null,
            "_view_module": "@jupyter-widgets/base",
            "_view_module_version": "1.2.0",
            "_view_name": "StyleView",
            "description_width": ""
          }
        },
        "ff6f0c71ad8042488aba46eb5be8a3d7": {
          "model_module": "@jupyter-widgets/base",
          "model_name": "LayoutModel",
          "model_module_version": "1.2.0",
          "state": {
            "_model_module": "@jupyter-widgets/base",
            "_model_module_version": "1.2.0",
            "_model_name": "LayoutModel",
            "_view_count": null,
            "_view_module": "@jupyter-widgets/base",
            "_view_module_version": "1.2.0",
            "_view_name": "LayoutView",
            "align_content": null,
            "align_items": null,
            "align_self": null,
            "border": null,
            "bottom": null,
            "display": null,
            "flex": null,
            "flex_flow": null,
            "grid_area": null,
            "grid_auto_columns": null,
            "grid_auto_flow": null,
            "grid_auto_rows": null,
            "grid_column": null,
            "grid_gap": null,
            "grid_row": null,
            "grid_template_areas": null,
            "grid_template_columns": null,
            "grid_template_rows": null,
            "height": null,
            "justify_content": null,
            "justify_items": null,
            "left": null,
            "margin": null,
            "max_height": null,
            "max_width": null,
            "min_height": null,
            "min_width": null,
            "object_fit": null,
            "object_position": null,
            "order": null,
            "overflow": null,
            "overflow_x": null,
            "overflow_y": null,
            "padding": null,
            "right": null,
            "top": null,
            "visibility": null,
            "width": null
          }
        },
        "16fe093696d842f4a49a36d44e7efb90": {
          "model_module": "@jupyter-widgets/controls",
          "model_name": "ProgressStyleModel",
          "model_module_version": "1.5.0",
          "state": {
            "_model_module": "@jupyter-widgets/controls",
            "_model_module_version": "1.5.0",
            "_model_name": "ProgressStyleModel",
            "_view_count": null,
            "_view_module": "@jupyter-widgets/base",
            "_view_module_version": "1.2.0",
            "_view_name": "StyleView",
            "bar_color": null,
            "description_width": ""
          }
        },
        "a54614ffad0e4ce0be11c8cf52f0d433": {
          "model_module": "@jupyter-widgets/base",
          "model_name": "LayoutModel",
          "model_module_version": "1.2.0",
          "state": {
            "_model_module": "@jupyter-widgets/base",
            "_model_module_version": "1.2.0",
            "_model_name": "LayoutModel",
            "_view_count": null,
            "_view_module": "@jupyter-widgets/base",
            "_view_module_version": "1.2.0",
            "_view_name": "LayoutView",
            "align_content": null,
            "align_items": null,
            "align_self": null,
            "border": null,
            "bottom": null,
            "display": null,
            "flex": null,
            "flex_flow": null,
            "grid_area": null,
            "grid_auto_columns": null,
            "grid_auto_flow": null,
            "grid_auto_rows": null,
            "grid_column": null,
            "grid_gap": null,
            "grid_row": null,
            "grid_template_areas": null,
            "grid_template_columns": null,
            "grid_template_rows": null,
            "height": null,
            "justify_content": null,
            "justify_items": null,
            "left": null,
            "margin": null,
            "max_height": null,
            "max_width": null,
            "min_height": null,
            "min_width": null,
            "object_fit": null,
            "object_position": null,
            "order": null,
            "overflow": null,
            "overflow_x": null,
            "overflow_y": null,
            "padding": null,
            "right": null,
            "top": null,
            "visibility": null,
            "width": null
          }
        },
        "858f408c8baf4c68aa64ddee71d4ab15": {
          "model_module": "@jupyter-widgets/controls",
          "model_name": "DescriptionStyleModel",
          "model_module_version": "1.5.0",
          "state": {
            "_model_module": "@jupyter-widgets/controls",
            "_model_module_version": "1.5.0",
            "_model_name": "DescriptionStyleModel",
            "_view_count": null,
            "_view_module": "@jupyter-widgets/base",
            "_view_module_version": "1.2.0",
            "_view_name": "StyleView",
            "description_width": ""
          }
        }
      }
    }
  },
  "cells": [
    {
      "cell_type": "code",
      "source": [
        "!pip install transformers\n",
        "!pip install tokenizers\n",
        "!pip install seqeval\n",
        "!pip install pytorch-crf\n",
        "from torchcrf import CRF\n",
        "import torch\n",
        "from transformers import BertModel, AutoModelForTokenClassification, AutoTokenizer, Trainer, TrainingArguments, AdamW, BertConfig, get_linear_schedule_with_warmup, get_constant_schedule_with_warmup, get_cosine_with_hard_restarts_schedule_with_warmup\n",
        "from torch.utils.data import TensorDataset, DataLoader, RandomSampler, SequentialSampler\n",
        "from keras.preprocessing.sequence import pad_sequences\n",
        "from sklearn.model_selection import train_test_split\n",
        "from seqeval.metrics import f1_score, accuracy_score\n",
        "from tqdm import tqdm, trange\n",
        "import numpy as np\n",
        "from sklearn.metrics import classification_report\n",
        "import matplotlib.pyplot as plt\n",
        "import pandas as pd\n",
        "import torch.nn as nn\n",
        "import torch.nn.functional as F\n",
        "log_soft = F.log_softmax"
      ],
      "metadata": {
        "colab": {
          "base_uri": "https://localhost:8080/"
        },
        "id": "K2KZs7yKit48",
        "outputId": "146bb552-2eec-4eeb-a8a4-3d293e50f2de"
      },
      "execution_count": 12,
      "outputs": [
        {
          "output_type": "stream",
          "name": "stdout",
          "text": [
            "Requirement already satisfied: transformers in /usr/local/lib/python3.11/dist-packages (4.48.2)\n",
            "Requirement already satisfied: filelock in /usr/local/lib/python3.11/dist-packages (from transformers) (3.17.0)\n",
            "Requirement already satisfied: huggingface-hub<1.0,>=0.24.0 in /usr/local/lib/python3.11/dist-packages (from transformers) (0.28.1)\n",
            "Requirement already satisfied: numpy>=1.17 in /usr/local/lib/python3.11/dist-packages (from transformers) (1.26.4)\n",
            "Requirement already satisfied: packaging>=20.0 in /usr/local/lib/python3.11/dist-packages (from transformers) (24.2)\n",
            "Requirement already satisfied: pyyaml>=5.1 in /usr/local/lib/python3.11/dist-packages (from transformers) (6.0.2)\n",
            "Requirement already satisfied: regex!=2019.12.17 in /usr/local/lib/python3.11/dist-packages (from transformers) (2024.11.6)\n",
            "Requirement already satisfied: requests in /usr/local/lib/python3.11/dist-packages (from transformers) (2.32.3)\n",
            "Requirement already satisfied: tokenizers<0.22,>=0.21 in /usr/local/lib/python3.11/dist-packages (from transformers) (0.21.0)\n",
            "Requirement already satisfied: safetensors>=0.4.1 in /usr/local/lib/python3.11/dist-packages (from transformers) (0.5.2)\n",
            "Requirement already satisfied: tqdm>=4.27 in /usr/local/lib/python3.11/dist-packages (from transformers) (4.67.1)\n",
            "Requirement already satisfied: fsspec>=2023.5.0 in /usr/local/lib/python3.11/dist-packages (from huggingface-hub<1.0,>=0.24.0->transformers) (2024.10.0)\n",
            "Requirement already satisfied: typing-extensions>=3.7.4.3 in /usr/local/lib/python3.11/dist-packages (from huggingface-hub<1.0,>=0.24.0->transformers) (4.12.2)\n",
            "Requirement already satisfied: charset-normalizer<4,>=2 in /usr/local/lib/python3.11/dist-packages (from requests->transformers) (3.4.1)\n",
            "Requirement already satisfied: idna<4,>=2.5 in /usr/local/lib/python3.11/dist-packages (from requests->transformers) (3.10)\n",
            "Requirement already satisfied: urllib3<3,>=1.21.1 in /usr/local/lib/python3.11/dist-packages (from requests->transformers) (2.3.0)\n",
            "Requirement already satisfied: certifi>=2017.4.17 in /usr/local/lib/python3.11/dist-packages (from requests->transformers) (2025.1.31)\n",
            "Requirement already satisfied: tokenizers in /usr/local/lib/python3.11/dist-packages (0.21.0)\n",
            "Requirement already satisfied: huggingface-hub<1.0,>=0.16.4 in /usr/local/lib/python3.11/dist-packages (from tokenizers) (0.28.1)\n",
            "Requirement already satisfied: filelock in /usr/local/lib/python3.11/dist-packages (from huggingface-hub<1.0,>=0.16.4->tokenizers) (3.17.0)\n",
            "Requirement already satisfied: fsspec>=2023.5.0 in /usr/local/lib/python3.11/dist-packages (from huggingface-hub<1.0,>=0.16.4->tokenizers) (2024.10.0)\n",
            "Requirement already satisfied: packaging>=20.9 in /usr/local/lib/python3.11/dist-packages (from huggingface-hub<1.0,>=0.16.4->tokenizers) (24.2)\n",
            "Requirement already satisfied: pyyaml>=5.1 in /usr/local/lib/python3.11/dist-packages (from huggingface-hub<1.0,>=0.16.4->tokenizers) (6.0.2)\n",
            "Requirement already satisfied: requests in /usr/local/lib/python3.11/dist-packages (from huggingface-hub<1.0,>=0.16.4->tokenizers) (2.32.3)\n",
            "Requirement already satisfied: tqdm>=4.42.1 in /usr/local/lib/python3.11/dist-packages (from huggingface-hub<1.0,>=0.16.4->tokenizers) (4.67.1)\n",
            "Requirement already satisfied: typing-extensions>=3.7.4.3 in /usr/local/lib/python3.11/dist-packages (from huggingface-hub<1.0,>=0.16.4->tokenizers) (4.12.2)\n",
            "Requirement already satisfied: charset-normalizer<4,>=2 in /usr/local/lib/python3.11/dist-packages (from requests->huggingface-hub<1.0,>=0.16.4->tokenizers) (3.4.1)\n",
            "Requirement already satisfied: idna<4,>=2.5 in /usr/local/lib/python3.11/dist-packages (from requests->huggingface-hub<1.0,>=0.16.4->tokenizers) (3.10)\n",
            "Requirement already satisfied: urllib3<3,>=1.21.1 in /usr/local/lib/python3.11/dist-packages (from requests->huggingface-hub<1.0,>=0.16.4->tokenizers) (2.3.0)\n",
            "Requirement already satisfied: certifi>=2017.4.17 in /usr/local/lib/python3.11/dist-packages (from requests->huggingface-hub<1.0,>=0.16.4->tokenizers) (2025.1.31)\n",
            "Requirement already satisfied: seqeval in /usr/local/lib/python3.11/dist-packages (1.2.2)\n",
            "Requirement already satisfied: numpy>=1.14.0 in /usr/local/lib/python3.11/dist-packages (from seqeval) (1.26.4)\n",
            "Requirement already satisfied: scikit-learn>=0.21.3 in /usr/local/lib/python3.11/dist-packages (from seqeval) (1.6.1)\n",
            "Requirement already satisfied: scipy>=1.6.0 in /usr/local/lib/python3.11/dist-packages (from scikit-learn>=0.21.3->seqeval) (1.13.1)\n",
            "Requirement already satisfied: joblib>=1.2.0 in /usr/local/lib/python3.11/dist-packages (from scikit-learn>=0.21.3->seqeval) (1.4.2)\n",
            "Requirement already satisfied: threadpoolctl>=3.1.0 in /usr/local/lib/python3.11/dist-packages (from scikit-learn>=0.21.3->seqeval) (3.5.0)\n",
            "Requirement already satisfied: pytorch-crf in /usr/local/lib/python3.11/dist-packages (0.7.2)\n"
          ]
        }
      ]
    },
    {
      "cell_type": "code",
      "source": [
        "MAX_LEN = 256\n",
        "bs = 32"
      ],
      "metadata": {
        "id": "XXZ95tPAjw9p"
      },
      "execution_count": 13,
      "outputs": []
    },
    {
      "cell_type": "code",
      "source": [
        "def read_conll_file(file_path):\n",
        "    data = []\n",
        "    current_sentence = []\n",
        "    with open(file_path, \"r\", encoding=\"utf-8\") as file:\n",
        "        for line in file:\n",
        "            line = line.strip()\n",
        "            if line.startswith('-DOCSTART-'):\n",
        "                continue\n",
        "            if line:\n",
        "                parts = line.split()\n",
        "                word = parts[0]\n",
        "                ner_label = parts[-1]\n",
        "                current_sentence.append((word, ner_label))\n",
        "            else:\n",
        "                if current_sentence:\n",
        "                    data.append(current_sentence)\n",
        "                    current_sentence = []\n",
        "    if current_sentence:\n",
        "        data.append(current_sentence)\n",
        "    return data"
      ],
      "metadata": {
        "id": "1376dTkTiwei"
      },
      "execution_count": 14,
      "outputs": []
    },
    {
      "cell_type": "code",
      "source": [
        "train_data = read_conll_file('/content/train_final.conll')\n",
        "val_data = read_conll_file('/content/NER_Irish_validation.conll')\n",
        "test_data = read_conll_file('/content/NER_Irish_test.conll')"
      ],
      "metadata": {
        "id": "NiANHrW6i08t"
      },
      "execution_count": 15,
      "outputs": []
    },
    {
      "cell_type": "code",
      "source": [
        "# Finding instances of multi-word named entities\n",
        "\n",
        "def findMWE(sentence):\n",
        "    tags = [tag for _, tag in sentence]  # Extract only the tags\n",
        "\n",
        "    # Condition 1: Sentence must contain at least one 'I-' tag\n",
        "    if not any(tag.startswith('I-') for tag in tags):\n",
        "        return False\n",
        "\n",
        "    # Condition 2: Ensure all 'B-' tags are followed by an 'I-' tag\n",
        "    prev_tag = None\n",
        "    for tag in tags:\n",
        "        if tag.startswith('B-'):\n",
        "            prev_tag = tag  # Store current 'B-' tag\n",
        "        elif tag.startswith('I-'):\n",
        "            if prev_tag and prev_tag[2:] == tag[2:]:  # Matching entity type\n",
        "                prev_tag = None  # Valid sequence, reset\n",
        "\n",
        "    # If there's still a lingering 'B-' tag, it means it wasn't followed correctly\n",
        "    return prev_tag is None\n",
        "\n",
        "\n",
        "mwe_test_data = [sentence for sentence in test_data if findMWE(sentence)]\n",
        "print(len(mwe_test_data))\n",
        "print(mwe_test_data[:10])"
      ],
      "metadata": {
        "colab": {
          "base_uri": "https://localhost:8080/"
        },
        "id": "E6u5HC5Gr1-4",
        "outputId": "5156a5aa-2d4d-49c7-aae8-54a0e6dcea28"
      },
      "execution_count": 16,
      "outputs": [
        {
          "output_type": "stream",
          "name": "stdout",
          "text": [
            "89\n",
            "[[('Mar', 'O'), ('a', 'O'), ('tchítear', 'O'), ('do', 'O'), ('Sheosamh', 'B-PER'), ('Mac', 'I-PER'), ('Grianna', 'I-PER'), ('é', 'O'), ('caithfidh', 'O'), ('an', 'O'), ('t-ealaíontóir', 'O'), ('an', 'O'), ('solas', 'O'), ('a', 'O'), ('thabhairt', 'O'), ('don', 'O'), ('saol', 'O'), ('agus', 'O'), ('diúltú', 'O'), ('do', 'O'), ('chathú', 'O'), ('sin', 'O'), ('na', 'O'), ('truaillíochta', 'O'), ('a', 'O'), ('chuireann', 'O'), ('an', 'O'), ('saol', 'O'), ('ina', 'O'), ('chosán', 'O'), ('.', 'O')], [('Grianghraif', 'O'), ('le', 'O'), ('Maidhc', 'B-PER'), ('Ó', 'I-PER'), ('Seachnasaí', 'I-PER'), ('.', 'O')], [('Tagann', 'O'), ('a', 'O'), ('ráiteas', 'O'), ('tar', 'O'), ('éis', 'O'), ('don', 'O'), ('chomhlacht', 'O'), ('a', 'O'), ('rá', 'O'), ('le', 'O'), ('hoibrithe', 'O'), ('an', 'O'), ('iarnróid', 'O'), ('mí', 'O'), ('ó', 'O'), ('shin', 'O'), ('go', 'O'), ('raibh', 'O'), ('sí', 'O'), ('le', 'O'), ('dúnadh', 'O'), (':', 'O'), (\"'Chuamar\", 'O'), ('ag', 'O'), ('cruinniú', 'O'), ('i', 'O'), ('mBaile', 'B-LOC'), ('Átha', 'I-LOC'), ('an', 'I-LOC'), ('Rí', 'I-LOC'), ('agus', 'O'), ('dúirt', 'O'), ('an', 'O'), ('bhainistíocht', 'O'), ('linn', 'O'), ('ansin', 'O'), ('go', 'O'), ('raibh', 'O'), ('deireadh', 'O'), ('leis', 'O'), ('an', 'O'), ('tseirbhís', 'O'), ('lasta', 'O'), ('agus', 'O'), ('go', 'O'), ('raibh', 'O'), ('baol', 'O'), ('ann', 'O'), ('dár', 'O'), ('bpostanna', 'O'), (',', 'O'), (\"'\", 'O'), ('a', 'O'), ('deir', 'O'), ('Pat', 'B-PER'), ('McDonagh', 'I-PER'), (',', 'O'), ('oibrí', 'O'), ('ar', 'O'), ('an', 'O'), ('líne', 'O'), ('le', 'O'), ('25', 'O'), ('bliain', 'O'), ('anuas', 'O'), ('.', 'O')], [(\"'CÉIMÍOCHT\", 'O'), (':', 'O'), ('Páistí', 'O'), ('Naíscoil', 'B-ORG'), ('an', 'I-ORG'), ('Lóiste', 'I-ORG'), ('Úir', 'I-ORG'), ('atá', 'O'), ('ag', 'O'), ('dul', 'O'), ('isteach', 'O'), ('i', 'O'), ('rang', 'O'), ('1', 'O'), ('Bunscoil', 'B-ORG'), ('Mhic', 'I-ORG'), ('Reachtain', 'I-ORG'), ('i', 'O'), ('mbliana', 'O'), ('.', 'O')], [('Duine', 'O'), ('fíorthuisceanach', 'O'), ('é', 'O'), ('Ciarán', 'B-PER'), ('a', 'O'), ('thug', 'O'), ('faoi', 'O'), ('deara', 'O'), ('go', 'O'), ('luath', 'O'), ('buanna', 'O'), ('Chaitlín', 'B-PER'), ('Maude', 'I-PER'), ('.', 'O')], [('Ghlac', 'O'), ('aintín', 'O'), ('a', 'O'), ('máthar', 'O'), (',', 'O'), ('Bean', 'O'), ('Uí', 'B-PER'), ('Eidhin', 'I-PER'), (',', 'O'), ('as', 'O'), ('Sráid', 'B-LOC'), ('na', 'I-LOC'), ('Cathrach', 'I-LOC'), (',', 'I-LOC'), ('Co.', 'I-LOC'), ('an', 'I-LOC'), ('Chláir', 'I-LOC'), (',', 'O'), ('cúram', 'O'), ('na', 'O'), ('beirte', 'O'), ('chuici', 'O'), ('féin', 'O'), ('.', 'O')], [('Cuireadh', 'O'), ('tús', 'O'), ('leis', 'O'), ('na', 'O'), ('ranganna', 'O'), ('ag', 'O'), ('Bishopsgate', 'B-ORG'), ('Institute', 'I-ORG'), ('ar', 'O'), ('7', 'O'), ('Deireadh', 'O'), ('Fómhair', 'O'), ('.', 'O')], [('Is', 'O'), ('gnáthach', 'O'), ('leis', 'O'), ('an', 'O'), ('dTaoiseach', 'O'), (',', 'O'), ('Bertie', 'B-PER'), ('Ahern', 'I-PER'), (',', 'O'), ('tamall', 'O'), ('de', 'O'), ('laethanta', 'O'), ('a', 'O'), ('chaitheamh', 'O'), ('san', 'O'), ('óstán', 'O'), ('seo', 'O'), ('gach', 'O'), ('bliain', 'O'), ('agus', 'O'), ('thug', 'O'), ('sé', 'O'), ('cúpla', 'O'), ('lá', 'O'), ('ann', 'O'), ('le', 'O'), ('déanaí', 'O'), ('.', 'O')], [('Bhíodh', 'O'), ('Conall', 'B-PER'), ('Ó', 'I-PER'), ('Dochartaigh', 'I-PER'), ('ag', 'O'), ('airneál', 'O'), ('ag', 'O'), ('an', 'O'), ('mháistir', 'O'), ('go', 'O'), ('mion', 'O'), ('is', 'O'), ('go', 'O'), ('minic', 'O'), ('.', 'O')], [('Chuir', 'O'), ('an', 'O'), ('scéala', 'O'), ('a', 'O'), ('bhí', 'O'), ('ag', 'O'), ('Seosamh', 'B-PER'), ('Ó', 'I-PER'), ('Cearbhaill', 'I-PER'), ('di', 'O'), ('gruaim', 'O'), ('agus', 'O'), ('dubhachas', 'O'), ('uirthi', 'O'), ('.', 'O')]]\n"
          ]
        }
      ]
    },
    {
      "cell_type": "code",
      "source": [
        "# Import tokenizer and create tag dictionary\n",
        "tokenizer = AutoTokenizer.from_pretrained('DCU-NLP/bert-base-irish-cased-v1', do_lower_case=False)\n",
        "\n",
        "tag_values = [\n",
        "        'O',\n",
        "        'B-PER',\n",
        "        'I-PER',\n",
        "        'B-LOC',\n",
        "        'I-LOC',\n",
        "        'B-ORG',\n",
        "        'I-ORG'\n",
        "]\n",
        "\n",
        "tag_values.append(\"PAD\")\n",
        "tag2idx = {t: i for i, t in enumerate(tag_values)}\n"
      ],
      "metadata": {
        "id": "AWr4KZQijflZ"
      },
      "execution_count": 17,
      "outputs": []
    },
    {
      "cell_type": "code",
      "source": [
        "device = torch.device(\"cuda\" if torch.cuda.is_available() else \"cpu\")\n",
        "n_gpu = torch.cuda.device_count()\n",
        "torch.cuda.get_device_name(0)"
      ],
      "metadata": {
        "colab": {
          "base_uri": "https://localhost:8080/",
          "height": 35
        },
        "id": "qLVRaL3fjzcP",
        "outputId": "3528b9f2-c6cc-49b4-9382-fdfd65bb2e2b"
      },
      "execution_count": 18,
      "outputs": [
        {
          "output_type": "execute_result",
          "data": {
            "text/plain": [
              "'Tesla T4'"
            ],
            "application/vnd.google.colaboratory.intrinsic+json": {
              "type": "string"
            }
          },
          "metadata": {},
          "execution_count": 18
        }
      ]
    },
    {
      "cell_type": "code",
      "source": [
        "# Split the words and labels in the data\n",
        "def splitWordsAndLabels(data_list):\n",
        "  sent = []\n",
        "  labels = []\n",
        "  for lst in data_list:\n",
        "    s = []\n",
        "    l = []\n",
        "    for words in lst:\n",
        "      s.append(words[0])\n",
        "      l.append(words[1])\n",
        "    sent.append(s)\n",
        "    labels.append(l)\n",
        "  return sent, labels\n",
        "\n",
        "train_sent, train_labels = splitWordsAndLabels(train_data)\n",
        "val_sent, val_labels = splitWordsAndLabels(val_data)\n",
        "test_sent, test_labels = splitWordsAndLabels(test_data)\n",
        "mwe_test_sent, mwe_test_labels = splitWordsAndLabels(mwe_test_data)\n",
        "print(train_sent[1])\n",
        "print(train_labels[1])"
      ],
      "metadata": {
        "colab": {
          "base_uri": "https://localhost:8080/"
        },
        "id": "WUy78yh2j6--",
        "outputId": "7cbea477-fb3f-4696-a406-9aa209bde39e"
      },
      "execution_count": 19,
      "outputs": [
        {
          "output_type": "stream",
          "name": "stdout",
          "text": [
            "['Baineann', 'mo', 'cheist', 'le', 'cúrsaí', 'tithíochta', 'i', 'nGaillimh', '-', 'tá', 'sé', 'níos', 'cirte', 'easpa', 'tithíochta', 'i', 'nGaillimh', 'a', 'rá', '-', 'agus', 'an', 'tascfhórsa', 'a', 'bunaíodh', 'breis', 'agus', 'ceithre', 'bliana', 'ó', 'shin']\n",
            "['O', 'O', 'O', 'O', 'O', 'O', 'O', 'B-LOC', 'O', 'O', 'O', 'O', 'O', 'O', 'O', 'O', 'B-LOC', 'O', 'O', 'O', 'O', 'O', 'O', 'O', 'O', 'O', 'O', 'O', 'O', 'O', 'O']\n"
          ]
        }
      ]
    },
    {
      "cell_type": "code",
      "source": [
        "# Tokenize the data and preserve the corresponding labels/tags\n",
        "\n",
        "def tokenize_and_preserve_labels(sentence, text_labels):\n",
        "    tokenized_sentence = []\n",
        "    labels = []\n",
        "\n",
        "    for word, label in zip(sentence, text_labels):\n",
        "        tokenized_word = tokenizer.tokenize(word)\n",
        "        n_subwords = len(tokenized_word)\n",
        "        tokenized_sentence.extend(tokenized_word)\n",
        "        labels.extend([label] * n_subwords)\n",
        "    return tokenized_sentence, labels\n",
        "\n",
        "# Run the splitting function on the training, test, and validation sets\n",
        "tokenized_texts_and_labels = [\n",
        "    tokenize_and_preserve_labels(sent, labs)\n",
        "    for sent, labs in zip(train_sent, train_labels)\n",
        "]\n",
        "\n",
        "val_tokenized_texts_and_labels = [\n",
        "    tokenize_and_preserve_labels(sent, labs)\n",
        "    for sent, labs in zip(val_sent, val_labels)\n",
        "]\n",
        "\n",
        "test_tokenized_texts_and_labels = [\n",
        "    tokenize_and_preserve_labels(sent, labs)\n",
        "    for sent, labs in zip(test_sent, test_labels)\n",
        "]\n",
        "\n",
        "mwe_test_tokenized_texts_and_labels = [\n",
        "    tokenize_and_preserve_labels(sent, labs)\n",
        "    for sent, labs in zip(mwe_test_sent, mwe_test_labels)\n",
        "]\n",
        "\n",
        "# Bring the sentences and labels back together after tokenizing\n",
        "tokenized_texts = [token_label_pair[0] for token_label_pair in tokenized_texts_and_labels]\n",
        "labels = [token_label_pair[1] for token_label_pair in tokenized_texts_and_labels]\n",
        "\n",
        "val_tokenized_texts = [token_label_pair[0] for token_label_pair in val_tokenized_texts_and_labels]\n",
        "val_labels = [token_label_pair[1] for token_label_pair in val_tokenized_texts_and_labels]\n",
        "\n",
        "test_tokenized_texts = [token_label_pair[0] for token_label_pair in test_tokenized_texts_and_labels]\n",
        "test_labels = [token_label_pair[1] for token_label_pair in test_tokenized_texts_and_labels]\n",
        "\n",
        "mwe_test_tokenized_texts = [token_label_pair[0] for token_label_pair in mwe_test_tokenized_texts_and_labels]\n",
        "\n",
        "print(tokenized_texts[1])\n",
        "print(labels[1])"
      ],
      "metadata": {
        "colab": {
          "base_uri": "https://localhost:8080/"
        },
        "id": "MNvhL-0Sklzn",
        "outputId": "48a2a1de-fda0-436c-d3a4-a118d1c5669a"
      },
      "execution_count": 20,
      "outputs": [
        {
          "output_type": "stream",
          "name": "stdout",
          "text": [
            "['Baineann', 'mo', 'cheist', 'le', 'cúrsaí', 'tithíochta', 'i', 'nGaillimh', '-', 'tá', 'sé', 'níos', 'cirt', '##e', 'easpa', 'tithíochta', 'i', 'nGaillimh', 'a', 'rá', '-', 'agus', 'an', 'tasc', '##fhórsa', 'a', 'bunaíodh', 'breis', 'agus', 'ceithre', 'bliana', 'ó', 'shin']\n",
            "['O', 'O', 'O', 'O', 'O', 'O', 'O', 'B-LOC', 'O', 'O', 'O', 'O', 'O', 'O', 'O', 'O', 'O', 'B-LOC', 'O', 'O', 'O', 'O', 'O', 'O', 'O', 'O', 'O', 'O', 'O', 'O', 'O', 'O', 'O']\n"
          ]
        }
      ]
    },
    {
      "cell_type": "code",
      "source": [
        "# Get the input ids for each dataset\n",
        "input_ids = pad_sequences([tokenizer.convert_tokens_to_ids(txt) for txt in tokenized_texts],\n",
        "                          maxlen=MAX_LEN, dtype=\"long\", value=0.0,\n",
        "                          truncating=\"post\", padding=\"post\")\n",
        "\n",
        "val_input_ids = pad_sequences([tokenizer.convert_tokens_to_ids(txt) for txt in val_tokenized_texts],\n",
        "                          maxlen=MAX_LEN, dtype=\"long\", value=0.0,\n",
        "                          truncating=\"post\", padding=\"post\")\n",
        "\n",
        "test_input_ids = pad_sequences([tokenizer.convert_tokens_to_ids(txt) for txt in test_tokenized_texts],\n",
        "                          maxlen=MAX_LEN, dtype=\"long\", value=0.0,\n",
        "                          truncating=\"post\", padding=\"post\")\n",
        "\n",
        "mwe_test_input_ids = pad_sequences([tokenizer.convert_tokens_to_ids(txt) for txt in mwe_test_tokenized_texts],\n",
        "                          maxlen=MAX_LEN, dtype=\"long\", value=0.0,\n",
        "                          truncating=\"post\", padding=\"post\")\n",
        "\n",
        "# Get the tags for each dataset\n",
        "tags = pad_sequences([[tag2idx.get(l) for l in lab] for lab in labels],\n",
        "                     maxlen=MAX_LEN, value=tag2idx[\"PAD\"], padding=\"post\",\n",
        "                     dtype=\"long\", truncating=\"post\")\n",
        "\n",
        "val_tags = pad_sequences([[tag2idx.get(l) for l in lab] for lab in val_labels],\n",
        "                     maxlen=MAX_LEN, value=tag2idx[\"PAD\"], padding=\"post\",\n",
        "                     dtype=\"long\", truncating=\"post\")\n",
        "\n",
        "test_tags = pad_sequences([[tag2idx.get(l) for l in lab] for lab in test_labels],\n",
        "                     maxlen=MAX_LEN, value=tag2idx[\"PAD\"], padding=\"post\",\n",
        "                     dtype=\"long\", truncating=\"post\")\n",
        "\n",
        "mwe_test_tags = pad_sequences([[tag2idx.get(l) for l in lab] for lab in mwe_test_labels],\n",
        "                     maxlen=MAX_LEN, value=tag2idx[\"PAD\"], padding=\"post\",\n",
        "                     dtype=\"long\", truncating=\"post\")\n",
        "\n",
        "# Create attention masks for each dataset\n",
        "attention_masks = [[float(i != 0.0) for i in ii] for ii in input_ids]\n",
        "\n",
        "val_attention_masks = [[float(i != 0.0) for i in ii] for ii in val_input_ids]\n",
        "\n",
        "test_attention_masks = [[float(i != 0.0) for i in ii] for ii in test_input_ids]\n",
        "\n",
        "mwe_test_attention_masks = [[float(i != 0.0) for i in ii] for ii in mwe_test_input_ids]\n",
        "\n",
        "# Make the inputs, tags, and masks for each dataset into torch tensors\n",
        "tr_inputs = torch.tensor(input_ids)\n",
        "tr_tags = torch.tensor(tags)\n",
        "tr_masks = torch.tensor(attention_masks)\n",
        "\n",
        "vl_inputs = torch.tensor(val_input_ids)\n",
        "vl_tags = torch.tensor(val_tags)\n",
        "vl_masks = torch.tensor(val_attention_masks)\n",
        "\n",
        "tst_inputs = torch.tensor(test_input_ids)\n",
        "tst_tags = torch.tensor(test_tags)\n",
        "tst_masks = torch.tensor(test_attention_masks)\n",
        "\n",
        "mwe_tst_inputs = torch.tensor(mwe_test_input_ids)\n",
        "mwe_tst_tags = torch.tensor(mwe_test_tags)\n",
        "mwe_tst_masks = torch.tensor(mwe_test_attention_masks)\n",
        "\n",
        "# Create a tensor dataset, sampler and dataloader for each dataset\n",
        "tr_data = TensorDataset(tr_inputs, tr_masks, tr_tags)\n",
        "train_sampler = RandomSampler(tr_data) # Sample from the training set randomly\n",
        "train_dataloader = DataLoader(tr_data, sampler=train_sampler, batch_size=bs)\n",
        "\n",
        "valid_data = TensorDataset(vl_inputs, vl_masks, vl_tags)\n",
        "valid_sampler = SequentialSampler(valid_data) # Sample from the validation set sequentially\n",
        "valid_dataloader = DataLoader(valid_data, sampler=valid_sampler, batch_size=bs)\n",
        "\n",
        "tst_data = TensorDataset(tst_inputs, tst_masks, tst_tags)\n",
        "tst_sampler = SequentialSampler(tst_data) # Sample from the test set sequentially\n",
        "tst_dataloader = DataLoader(tst_data, sampler=tst_sampler, batch_size=bs)\n",
        "\n",
        "mwe_tst_data = TensorDataset(mwe_tst_inputs, mwe_tst_masks, mwe_tst_tags)\n",
        "mwe_sampler = SequentialSampler(mwe_tst_data) # Sample from the mwe test set sequentially\n",
        "mwe_tst_dataloader = DataLoader(mwe_tst_data, sampler=mwe_sampler, batch_size=bs)"
      ],
      "metadata": {
        "id": "NWIPnR0blubz"
      },
      "execution_count": 21,
      "outputs": []
    },
    {
      "cell_type": "code",
      "source": [
        "# Load the model\n",
        "config = BertConfig.from_pretrained('DCU-NLP/bert-base-irish-cased-v1', output_hidden_states=True)\n",
        "config.max_position_embeddings = 512\n",
        "\n",
        "bert_model = BertModel.from_pretrained(\n",
        "                        'DCU-NLP/bert-base-irish-cased-v1',\n",
        "                        config=config,\n",
        "                        add_pooling_layer=False\n",
        ")"
      ],
      "metadata": {
        "colab": {
          "base_uri": "https://localhost:8080/",
          "height": 49,
          "referenced_widgets": [
            "a9c9610bf12f43a5b5e4fc926b29c85c",
            "1c09a6735f0748f994f841eb5c08758d",
            "17cf5a0437964d0a9bb7af6fc7ff2971",
            "63425cf1cc914310acf20578ea5b9d36",
            "182b2b6086404a9ab8bfa517cc27c39f",
            "2885ef1b21e44141bb61d879d1b03aa9",
            "ddb30a69915c47e0b83b980a5dc8e404",
            "ff6f0c71ad8042488aba46eb5be8a3d7",
            "16fe093696d842f4a49a36d44e7efb90",
            "a54614ffad0e4ce0be11c8cf52f0d433",
            "858f408c8baf4c68aa64ddee71d4ab15"
          ]
        },
        "id": "A-foz_SxmFUp",
        "outputId": "fbe94e54-c46c-48d2-cc0f-18a1780b2862"
      },
      "execution_count": 22,
      "outputs": [
        {
          "output_type": "display_data",
          "data": {
            "text/plain": [
              "pytorch_model.bin:   0%|          | 0.00/439M [00:00<?, ?B/s]"
            ],
            "application/vnd.jupyter.widget-view+json": {
              "version_major": 2,
              "version_minor": 0,
              "model_id": "a9c9610bf12f43a5b5e4fc926b29c85c"
            }
          },
          "metadata": {}
        }
      ]
    },
    {
      "cell_type": "code",
      "source": [
        "class BERT_CRF(nn.Module):\n",
        "    def __init__(self, bert_model, num_labels):\n",
        "        super(BERT_CRF, self).__init__()\n",
        "        self.bert = bert_model\n",
        "        self.dropout = nn.Dropout(0.25)\n",
        "        # 4 last of layer\n",
        "        self.classifier = nn.Linear(4*768, num_labels)\n",
        "        self.crf = CRF(num_labels, batch_first = True)\n",
        "\n",
        "    def forward_custom(self, b_input_ids, b_input_mask,  b_labels=None, token_type_ids=None):\n",
        "        outputs = self.bert(b_input_ids, attention_mask=b_input_mask)\n",
        "        sequence_output = torch.cat((outputs[1][-1], outputs[1][-2], outputs[1][-3], outputs[1][-4]),-1)\n",
        "        sequence_output = self.dropout(sequence_output)\n",
        "\n",
        "        emission = self.classifier(sequence_output)\n",
        "\n",
        "        if b_labels is not None:\n",
        "            loss = -self.crf(log_soft(emission, 2), b_labels, mask=b_input_mask.type(torch.uint8), reduction='mean')\n",
        "            prediction = self.crf.decode(emission, mask=b_input_mask.type(torch.uint8))\n",
        "            return [loss, prediction]\n",
        "\n",
        "        else:\n",
        "            prediction = self.crf.decode(emission, mask=b_input_mask.type(torch.uint8))\n",
        "            return prediction"
      ],
      "metadata": {
        "id": "KvfgF5ivnrSM"
      },
      "execution_count": 23,
      "outputs": []
    },
    {
      "cell_type": "code",
      "source": [
        "model = BERT_CRF(bert_model, num_labels=len(tag2idx))\n",
        "model.to(device)"
      ],
      "metadata": {
        "colab": {
          "base_uri": "https://localhost:8080/"
        },
        "id": "zZ5XghQEnskL",
        "outputId": "e709753b-6d81-4dad-f5d5-de150bf7cd14"
      },
      "execution_count": 24,
      "outputs": [
        {
          "output_type": "execute_result",
          "data": {
            "text/plain": [
              "BERT_CRF(\n",
              "  (bert): BertModel(\n",
              "    (embeddings): BertEmbeddings(\n",
              "      (word_embeddings): Embedding(30101, 768, padding_idx=0)\n",
              "      (position_embeddings): Embedding(512, 768)\n",
              "      (token_type_embeddings): Embedding(2, 768)\n",
              "      (LayerNorm): LayerNorm((768,), eps=1e-12, elementwise_affine=True)\n",
              "      (dropout): Dropout(p=0.1, inplace=False)\n",
              "    )\n",
              "    (encoder): BertEncoder(\n",
              "      (layer): ModuleList(\n",
              "        (0-11): 12 x BertLayer(\n",
              "          (attention): BertAttention(\n",
              "            (self): BertSdpaSelfAttention(\n",
              "              (query): Linear(in_features=768, out_features=768, bias=True)\n",
              "              (key): Linear(in_features=768, out_features=768, bias=True)\n",
              "              (value): Linear(in_features=768, out_features=768, bias=True)\n",
              "              (dropout): Dropout(p=0.1, inplace=False)\n",
              "            )\n",
              "            (output): BertSelfOutput(\n",
              "              (dense): Linear(in_features=768, out_features=768, bias=True)\n",
              "              (LayerNorm): LayerNorm((768,), eps=1e-12, elementwise_affine=True)\n",
              "              (dropout): Dropout(p=0.1, inplace=False)\n",
              "            )\n",
              "          )\n",
              "          (intermediate): BertIntermediate(\n",
              "            (dense): Linear(in_features=768, out_features=3072, bias=True)\n",
              "            (intermediate_act_fn): GELUActivation()\n",
              "          )\n",
              "          (output): BertOutput(\n",
              "            (dense): Linear(in_features=3072, out_features=768, bias=True)\n",
              "            (LayerNorm): LayerNorm((768,), eps=1e-12, elementwise_affine=True)\n",
              "            (dropout): Dropout(p=0.1, inplace=False)\n",
              "          )\n",
              "        )\n",
              "      )\n",
              "    )\n",
              "  )\n",
              "  (dropout): Dropout(p=0.25, inplace=False)\n",
              "  (classifier): Linear(in_features=3072, out_features=8, bias=True)\n",
              "  (crf): CRF(num_tags=8)\n",
              ")"
            ]
          },
          "metadata": {},
          "execution_count": 24
        }
      ]
    },
    {
      "cell_type": "code",
      "source": [
        "model.cuda();"
      ],
      "metadata": {
        "id": "QJBhTS8emIfx"
      },
      "execution_count": 25,
      "outputs": []
    },
    {
      "cell_type": "code",
      "source": [
        "# Optimising parameters for finetuning the model\n",
        "cnt = -1\n",
        "num_layer = 197\n",
        "for param in model.named_parameters():\n",
        "    cnt += 1\n",
        "    if cnt>=num_layer:\n",
        "        param[1].requires_grad = True\n",
        "    else:\n",
        "        param[1].requires_grad = True\n",
        "    print(cnt,param[0],'\\t',param[1].requires_grad)\n",
        "\n",
        "\n",
        "FINETUNING = True\n",
        "if FINETUNING:\n",
        "    param_optimizer1 = list(model.named_parameters())[:num_layer]\n",
        "    param_optimizer2 = list(model.named_parameters())[num_layer:num_layer+2]\n",
        "    param_optimizer3 = list(model.named_parameters())[num_layer+2:]\n",
        "    no_decay = ['bias', 'gamma', 'beta']\n",
        "    optimizer_grouped_parameters = [\n",
        "        {'params': [p for n, p in param_optimizer1 if not any(nd in n for nd in no_decay)],\n",
        "         'weight_decay_rate': 1e-5},\n",
        "        {'params': [p for n, p in param_optimizer1 if any(nd in n for nd in no_decay)],\n",
        "         'weight_decay_rate': 0.0},\n",
        "\n",
        "        {'params': [p for n, p in param_optimizer2 if not any(nd in n for nd in no_decay)],\n",
        "         'weight_decay_rate': 1e-3,\n",
        "         'lr': 1e-3},\n",
        "        {'params': [p for n, p in param_optimizer2 if any(nd in n for nd in no_decay)],\n",
        "         'weight_decay_rate': 0.0,\n",
        "         'lr':1e-3},\n",
        "\n",
        "        {'params': [p for n, p in param_optimizer3 if not any(nd in n for nd in no_decay)],\n",
        "         'weight_decay_rate': 1e-3,\n",
        "         'lr':4e-3},\n",
        "        {'params': [p for n, p in param_optimizer3 if any(nd in n for nd in no_decay)],\n",
        "         'weight_decay_rate': 0.0,\n",
        "         'lr':4e-3}\n",
        "    ]\n",
        "\n",
        "optimizer = AdamW(\n",
        "    optimizer_grouped_parameters,\n",
        "    lr=3e-5,\n",
        "    eps=1e-8\n",
        ")\n",
        "\n",
        "epochs = 10\n",
        "max_grad_norm = 1.0\n",
        "\n",
        "# Total number of training steps = number of batches * number of epochs\n",
        "total_steps = len(train_dataloader) * epochs\n",
        "\n",
        "# Defining the learning rate scheduler\n",
        "scheduler = get_linear_schedule_with_warmup(\n",
        "    optimizer,\n",
        "    num_warmup_steps=int(total_steps/10),\n",
        "    num_training_steps=total_steps\n",
        ")"
      ],
      "metadata": {
        "colab": {
          "base_uri": "https://localhost:8080/"
        },
        "id": "ny7Emj1omJ6Z",
        "outputId": "17987f2d-e267-4033-b2ee-16a7316dc968"
      },
      "execution_count": 26,
      "outputs": [
        {
          "output_type": "stream",
          "name": "stdout",
          "text": [
            "0 bert.embeddings.word_embeddings.weight \t True\n",
            "1 bert.embeddings.position_embeddings.weight \t True\n",
            "2 bert.embeddings.token_type_embeddings.weight \t True\n",
            "3 bert.embeddings.LayerNorm.weight \t True\n",
            "4 bert.embeddings.LayerNorm.bias \t True\n",
            "5 bert.encoder.layer.0.attention.self.query.weight \t True\n",
            "6 bert.encoder.layer.0.attention.self.query.bias \t True\n",
            "7 bert.encoder.layer.0.attention.self.key.weight \t True\n",
            "8 bert.encoder.layer.0.attention.self.key.bias \t True\n",
            "9 bert.encoder.layer.0.attention.self.value.weight \t True\n",
            "10 bert.encoder.layer.0.attention.self.value.bias \t True\n",
            "11 bert.encoder.layer.0.attention.output.dense.weight \t True\n",
            "12 bert.encoder.layer.0.attention.output.dense.bias \t True\n",
            "13 bert.encoder.layer.0.attention.output.LayerNorm.weight \t True\n",
            "14 bert.encoder.layer.0.attention.output.LayerNorm.bias \t True\n",
            "15 bert.encoder.layer.0.intermediate.dense.weight \t True\n",
            "16 bert.encoder.layer.0.intermediate.dense.bias \t True\n",
            "17 bert.encoder.layer.0.output.dense.weight \t True\n",
            "18 bert.encoder.layer.0.output.dense.bias \t True\n",
            "19 bert.encoder.layer.0.output.LayerNorm.weight \t True\n",
            "20 bert.encoder.layer.0.output.LayerNorm.bias \t True\n",
            "21 bert.encoder.layer.1.attention.self.query.weight \t True\n",
            "22 bert.encoder.layer.1.attention.self.query.bias \t True\n",
            "23 bert.encoder.layer.1.attention.self.key.weight \t True\n",
            "24 bert.encoder.layer.1.attention.self.key.bias \t True\n",
            "25 bert.encoder.layer.1.attention.self.value.weight \t True\n",
            "26 bert.encoder.layer.1.attention.self.value.bias \t True\n",
            "27 bert.encoder.layer.1.attention.output.dense.weight \t True\n",
            "28 bert.encoder.layer.1.attention.output.dense.bias \t True\n",
            "29 bert.encoder.layer.1.attention.output.LayerNorm.weight \t True\n",
            "30 bert.encoder.layer.1.attention.output.LayerNorm.bias \t True\n",
            "31 bert.encoder.layer.1.intermediate.dense.weight \t True\n",
            "32 bert.encoder.layer.1.intermediate.dense.bias \t True\n",
            "33 bert.encoder.layer.1.output.dense.weight \t True\n",
            "34 bert.encoder.layer.1.output.dense.bias \t True\n",
            "35 bert.encoder.layer.1.output.LayerNorm.weight \t True\n",
            "36 bert.encoder.layer.1.output.LayerNorm.bias \t True\n",
            "37 bert.encoder.layer.2.attention.self.query.weight \t True\n",
            "38 bert.encoder.layer.2.attention.self.query.bias \t True\n",
            "39 bert.encoder.layer.2.attention.self.key.weight \t True\n",
            "40 bert.encoder.layer.2.attention.self.key.bias \t True\n",
            "41 bert.encoder.layer.2.attention.self.value.weight \t True\n",
            "42 bert.encoder.layer.2.attention.self.value.bias \t True\n",
            "43 bert.encoder.layer.2.attention.output.dense.weight \t True\n",
            "44 bert.encoder.layer.2.attention.output.dense.bias \t True\n",
            "45 bert.encoder.layer.2.attention.output.LayerNorm.weight \t True\n",
            "46 bert.encoder.layer.2.attention.output.LayerNorm.bias \t True\n",
            "47 bert.encoder.layer.2.intermediate.dense.weight \t True\n",
            "48 bert.encoder.layer.2.intermediate.dense.bias \t True\n",
            "49 bert.encoder.layer.2.output.dense.weight \t True\n",
            "50 bert.encoder.layer.2.output.dense.bias \t True\n",
            "51 bert.encoder.layer.2.output.LayerNorm.weight \t True\n",
            "52 bert.encoder.layer.2.output.LayerNorm.bias \t True\n",
            "53 bert.encoder.layer.3.attention.self.query.weight \t True\n",
            "54 bert.encoder.layer.3.attention.self.query.bias \t True\n",
            "55 bert.encoder.layer.3.attention.self.key.weight \t True\n",
            "56 bert.encoder.layer.3.attention.self.key.bias \t True\n",
            "57 bert.encoder.layer.3.attention.self.value.weight \t True\n",
            "58 bert.encoder.layer.3.attention.self.value.bias \t True\n",
            "59 bert.encoder.layer.3.attention.output.dense.weight \t True\n",
            "60 bert.encoder.layer.3.attention.output.dense.bias \t True\n",
            "61 bert.encoder.layer.3.attention.output.LayerNorm.weight \t True\n",
            "62 bert.encoder.layer.3.attention.output.LayerNorm.bias \t True\n",
            "63 bert.encoder.layer.3.intermediate.dense.weight \t True\n",
            "64 bert.encoder.layer.3.intermediate.dense.bias \t True\n",
            "65 bert.encoder.layer.3.output.dense.weight \t True\n",
            "66 bert.encoder.layer.3.output.dense.bias \t True\n",
            "67 bert.encoder.layer.3.output.LayerNorm.weight \t True\n",
            "68 bert.encoder.layer.3.output.LayerNorm.bias \t True\n",
            "69 bert.encoder.layer.4.attention.self.query.weight \t True\n",
            "70 bert.encoder.layer.4.attention.self.query.bias \t True\n",
            "71 bert.encoder.layer.4.attention.self.key.weight \t True\n",
            "72 bert.encoder.layer.4.attention.self.key.bias \t True\n",
            "73 bert.encoder.layer.4.attention.self.value.weight \t True\n",
            "74 bert.encoder.layer.4.attention.self.value.bias \t True\n",
            "75 bert.encoder.layer.4.attention.output.dense.weight \t True\n",
            "76 bert.encoder.layer.4.attention.output.dense.bias \t True\n",
            "77 bert.encoder.layer.4.attention.output.LayerNorm.weight \t True\n",
            "78 bert.encoder.layer.4.attention.output.LayerNorm.bias \t True\n",
            "79 bert.encoder.layer.4.intermediate.dense.weight \t True\n",
            "80 bert.encoder.layer.4.intermediate.dense.bias \t True\n",
            "81 bert.encoder.layer.4.output.dense.weight \t True\n",
            "82 bert.encoder.layer.4.output.dense.bias \t True\n",
            "83 bert.encoder.layer.4.output.LayerNorm.weight \t True\n",
            "84 bert.encoder.layer.4.output.LayerNorm.bias \t True\n",
            "85 bert.encoder.layer.5.attention.self.query.weight \t True\n",
            "86 bert.encoder.layer.5.attention.self.query.bias \t True\n",
            "87 bert.encoder.layer.5.attention.self.key.weight \t True\n",
            "88 bert.encoder.layer.5.attention.self.key.bias \t True\n",
            "89 bert.encoder.layer.5.attention.self.value.weight \t True\n",
            "90 bert.encoder.layer.5.attention.self.value.bias \t True\n",
            "91 bert.encoder.layer.5.attention.output.dense.weight \t True\n",
            "92 bert.encoder.layer.5.attention.output.dense.bias \t True\n",
            "93 bert.encoder.layer.5.attention.output.LayerNorm.weight \t True\n",
            "94 bert.encoder.layer.5.attention.output.LayerNorm.bias \t True\n",
            "95 bert.encoder.layer.5.intermediate.dense.weight \t True\n",
            "96 bert.encoder.layer.5.intermediate.dense.bias \t True\n",
            "97 bert.encoder.layer.5.output.dense.weight \t True\n",
            "98 bert.encoder.layer.5.output.dense.bias \t True\n",
            "99 bert.encoder.layer.5.output.LayerNorm.weight \t True\n",
            "100 bert.encoder.layer.5.output.LayerNorm.bias \t True\n",
            "101 bert.encoder.layer.6.attention.self.query.weight \t True\n",
            "102 bert.encoder.layer.6.attention.self.query.bias \t True\n",
            "103 bert.encoder.layer.6.attention.self.key.weight \t True\n",
            "104 bert.encoder.layer.6.attention.self.key.bias \t True\n",
            "105 bert.encoder.layer.6.attention.self.value.weight \t True\n",
            "106 bert.encoder.layer.6.attention.self.value.bias \t True\n",
            "107 bert.encoder.layer.6.attention.output.dense.weight \t True\n",
            "108 bert.encoder.layer.6.attention.output.dense.bias \t True\n",
            "109 bert.encoder.layer.6.attention.output.LayerNorm.weight \t True\n",
            "110 bert.encoder.layer.6.attention.output.LayerNorm.bias \t True\n",
            "111 bert.encoder.layer.6.intermediate.dense.weight \t True\n",
            "112 bert.encoder.layer.6.intermediate.dense.bias \t True\n",
            "113 bert.encoder.layer.6.output.dense.weight \t True\n",
            "114 bert.encoder.layer.6.output.dense.bias \t True\n",
            "115 bert.encoder.layer.6.output.LayerNorm.weight \t True\n",
            "116 bert.encoder.layer.6.output.LayerNorm.bias \t True\n",
            "117 bert.encoder.layer.7.attention.self.query.weight \t True\n",
            "118 bert.encoder.layer.7.attention.self.query.bias \t True\n",
            "119 bert.encoder.layer.7.attention.self.key.weight \t True\n",
            "120 bert.encoder.layer.7.attention.self.key.bias \t True\n",
            "121 bert.encoder.layer.7.attention.self.value.weight \t True\n",
            "122 bert.encoder.layer.7.attention.self.value.bias \t True\n",
            "123 bert.encoder.layer.7.attention.output.dense.weight \t True\n",
            "124 bert.encoder.layer.7.attention.output.dense.bias \t True\n",
            "125 bert.encoder.layer.7.attention.output.LayerNorm.weight \t True\n",
            "126 bert.encoder.layer.7.attention.output.LayerNorm.bias \t True\n",
            "127 bert.encoder.layer.7.intermediate.dense.weight \t True\n",
            "128 bert.encoder.layer.7.intermediate.dense.bias \t True\n",
            "129 bert.encoder.layer.7.output.dense.weight \t True\n",
            "130 bert.encoder.layer.7.output.dense.bias \t True\n",
            "131 bert.encoder.layer.7.output.LayerNorm.weight \t True\n",
            "132 bert.encoder.layer.7.output.LayerNorm.bias \t True\n",
            "133 bert.encoder.layer.8.attention.self.query.weight \t True\n",
            "134 bert.encoder.layer.8.attention.self.query.bias \t True\n",
            "135 bert.encoder.layer.8.attention.self.key.weight \t True\n",
            "136 bert.encoder.layer.8.attention.self.key.bias \t True\n",
            "137 bert.encoder.layer.8.attention.self.value.weight \t True\n",
            "138 bert.encoder.layer.8.attention.self.value.bias \t True\n",
            "139 bert.encoder.layer.8.attention.output.dense.weight \t True\n",
            "140 bert.encoder.layer.8.attention.output.dense.bias \t True\n",
            "141 bert.encoder.layer.8.attention.output.LayerNorm.weight \t True\n",
            "142 bert.encoder.layer.8.attention.output.LayerNorm.bias \t True\n",
            "143 bert.encoder.layer.8.intermediate.dense.weight \t True\n",
            "144 bert.encoder.layer.8.intermediate.dense.bias \t True\n",
            "145 bert.encoder.layer.8.output.dense.weight \t True\n",
            "146 bert.encoder.layer.8.output.dense.bias \t True\n",
            "147 bert.encoder.layer.8.output.LayerNorm.weight \t True\n",
            "148 bert.encoder.layer.8.output.LayerNorm.bias \t True\n",
            "149 bert.encoder.layer.9.attention.self.query.weight \t True\n",
            "150 bert.encoder.layer.9.attention.self.query.bias \t True\n",
            "151 bert.encoder.layer.9.attention.self.key.weight \t True\n",
            "152 bert.encoder.layer.9.attention.self.key.bias \t True\n",
            "153 bert.encoder.layer.9.attention.self.value.weight \t True\n",
            "154 bert.encoder.layer.9.attention.self.value.bias \t True\n",
            "155 bert.encoder.layer.9.attention.output.dense.weight \t True\n",
            "156 bert.encoder.layer.9.attention.output.dense.bias \t True\n",
            "157 bert.encoder.layer.9.attention.output.LayerNorm.weight \t True\n",
            "158 bert.encoder.layer.9.attention.output.LayerNorm.bias \t True\n",
            "159 bert.encoder.layer.9.intermediate.dense.weight \t True\n",
            "160 bert.encoder.layer.9.intermediate.dense.bias \t True\n",
            "161 bert.encoder.layer.9.output.dense.weight \t True\n",
            "162 bert.encoder.layer.9.output.dense.bias \t True\n",
            "163 bert.encoder.layer.9.output.LayerNorm.weight \t True\n",
            "164 bert.encoder.layer.9.output.LayerNorm.bias \t True\n",
            "165 bert.encoder.layer.10.attention.self.query.weight \t True\n",
            "166 bert.encoder.layer.10.attention.self.query.bias \t True\n",
            "167 bert.encoder.layer.10.attention.self.key.weight \t True\n",
            "168 bert.encoder.layer.10.attention.self.key.bias \t True\n",
            "169 bert.encoder.layer.10.attention.self.value.weight \t True\n",
            "170 bert.encoder.layer.10.attention.self.value.bias \t True\n",
            "171 bert.encoder.layer.10.attention.output.dense.weight \t True\n",
            "172 bert.encoder.layer.10.attention.output.dense.bias \t True\n",
            "173 bert.encoder.layer.10.attention.output.LayerNorm.weight \t True\n",
            "174 bert.encoder.layer.10.attention.output.LayerNorm.bias \t True\n",
            "175 bert.encoder.layer.10.intermediate.dense.weight \t True\n",
            "176 bert.encoder.layer.10.intermediate.dense.bias \t True\n",
            "177 bert.encoder.layer.10.output.dense.weight \t True\n",
            "178 bert.encoder.layer.10.output.dense.bias \t True\n",
            "179 bert.encoder.layer.10.output.LayerNorm.weight \t True\n",
            "180 bert.encoder.layer.10.output.LayerNorm.bias \t True\n",
            "181 bert.encoder.layer.11.attention.self.query.weight \t True\n",
            "182 bert.encoder.layer.11.attention.self.query.bias \t True\n",
            "183 bert.encoder.layer.11.attention.self.key.weight \t True\n",
            "184 bert.encoder.layer.11.attention.self.key.bias \t True\n",
            "185 bert.encoder.layer.11.attention.self.value.weight \t True\n",
            "186 bert.encoder.layer.11.attention.self.value.bias \t True\n",
            "187 bert.encoder.layer.11.attention.output.dense.weight \t True\n",
            "188 bert.encoder.layer.11.attention.output.dense.bias \t True\n",
            "189 bert.encoder.layer.11.attention.output.LayerNorm.weight \t True\n",
            "190 bert.encoder.layer.11.attention.output.LayerNorm.bias \t True\n",
            "191 bert.encoder.layer.11.intermediate.dense.weight \t True\n",
            "192 bert.encoder.layer.11.intermediate.dense.bias \t True\n",
            "193 bert.encoder.layer.11.output.dense.weight \t True\n",
            "194 bert.encoder.layer.11.output.dense.bias \t True\n",
            "195 bert.encoder.layer.11.output.LayerNorm.weight \t True\n",
            "196 bert.encoder.layer.11.output.LayerNorm.bias \t True\n",
            "197 classifier.weight \t True\n",
            "198 classifier.bias \t True\n",
            "199 crf.start_transitions \t True\n",
            "200 crf.end_transitions \t True\n",
            "201 crf.transitions \t True\n"
          ]
        },
        {
          "output_type": "stream",
          "name": "stderr",
          "text": [
            "/usr/local/lib/python3.11/dist-packages/transformers/optimization.py:591: FutureWarning: This implementation of AdamW is deprecated and will be removed in a future version. Use the PyTorch implementation torch.optim.AdamW instead, or set `no_deprecation_warning=True` to disable this warning\n",
            "  warnings.warn(\n"
          ]
        }
      ]
    },
    {
      "cell_type": "code",
      "source": [
        "## Store the average loss after each epoch so we can plot them\n",
        "loss_values, validation_loss_values = [], []\n",
        "best_model_state = None\n",
        "patience = 2\n",
        "best_val_loss = float('inf')\n",
        "epochs_without_improvement = 0\n",
        "best_epoch = 0\n",
        "\n",
        "for epoch in trange(epochs, desc=\"Epoch\"):\n",
        "    # ========================================\n",
        "    #               Training\n",
        "    # ========================================\n",
        "    # Perform one full pass over the training set\n",
        "\n",
        "    # Put the model into training mode\n",
        "    model.train()\n",
        "    # Reset the total loss for this epoch\n",
        "    total_loss = 0\n",
        "\n",
        "    # Training loop\n",
        "    for step, batch in enumerate(train_dataloader):\n",
        "        # add batch to gpu\n",
        "        batch = tuple(t.to(device) for t in batch)\n",
        "        b_input_ids, b_input_mask, b_labels = batch\n",
        "        # Always clear any previously calculated gradients before performing a backward pass\n",
        "        model.zero_grad()\n",
        "        # forward pass\n",
        "        # This will return the loss (rather than the model output)\n",
        "        # because we have provided the `labels`\n",
        "        outputs = model.forward_custom(b_input_ids, b_input_mask, b_labels, token_type_ids=None)\n",
        "        # get the loss\n",
        "        loss = outputs[0]\n",
        "        # Perform a backward pass to calculate the gradients\n",
        "        loss.backward()\n",
        "        # track train loss\n",
        "        total_loss += loss.item()\n",
        "        # Clip the norm of the gradient\n",
        "        # This is to help prevent the \"exploding gradients\" problem\n",
        "        torch.nn.utils.clip_grad_norm_(parameters=model.parameters(), max_norm=max_grad_norm)\n",
        "        # update parameters\n",
        "        optimizer.step()\n",
        "        # Update the learning rate\n",
        "        scheduler.step()\n",
        "\n",
        "    # Calculate the average loss over the training data\n",
        "    avg_train_loss = total_loss / len(train_dataloader)\n",
        "    print(\"Average train loss: {}\".format(avg_train_loss))\n",
        "\n",
        "    # Store the loss value for plotting the learning curve\n",
        "    loss_values.append(avg_train_loss)\n",
        "\n",
        "\n",
        "    # ========================================\n",
        "    #               Validation\n",
        "    # ========================================\n",
        "    # After the completion of each training epoch, measure our performance on\n",
        "    # our validation set\n",
        "\n",
        "    # Put the model into evaluation mode\n",
        "    model.eval()\n",
        "    # Reset the validation loss for this epoch\n",
        "    eval_loss, eval_accuracy = 0, 0\n",
        "    nb_eval_steps, nb_eval_examples = 0, 0\n",
        "    predictions , true_labels = [], []\n",
        "    for batch in valid_dataloader:\n",
        "        batch = tuple(t.to(device) for t in batch)\n",
        "        b_input_ids, b_input_mask, b_labels = batch\n",
        "\n",
        "        # Telling the model not to compute or store gradients,\n",
        "        # saving memory and speeding up validation\n",
        "        with torch.no_grad():\n",
        "            # Forward pass, calculate logit predictions\n",
        "            # This will return the logits rather than the loss because we have not provided labels\n",
        "            outputs = model.forward_custom(b_input_ids, b_input_mask, b_labels, token_type_ids=None)\n",
        "        # Move logits and labels to CPU\n",
        "        logits = outputs[0].detach().cpu().numpy()\n",
        "        label_ids = b_labels.to('cpu').numpy()\n",
        "\n",
        "        # Calculate the accuracy for this batch of test sentences\n",
        "        eval_loss += outputs[0].mean().item()\n",
        "        predictions.extend(outputs[1])\n",
        "        true_labels.extend(label_ids)\n",
        "\n",
        "    eval_loss = eval_loss / len(valid_dataloader)\n",
        "    validation_loss_values.append(eval_loss)\n",
        "    print(\"Validation loss: {}\".format(eval_loss))\n",
        "    pred_tags = []\n",
        "    valid_tags = []\n",
        "    for p, l in zip(predictions, true_labels):\n",
        "        for p_i, l_i in zip(p, l):\n",
        "            if tag_values[l_i] != \"PAD\":\n",
        "                pred_tags.append(tag_values[p_i])\n",
        "                valid_tags.append(tag_values[l_i])\n",
        "                tokens = tokenizer.convert_ids_to_tokens(b_input_ids[0].to('cpu').numpy())\n",
        "                new_tokens, new_labels, new_preds = [], [], []\n",
        "                for token, label_idx, pred in zip(tokens, l, p):\n",
        "                    if token.startswith(\"##\"):\n",
        "                        new_tokens[-1] = new_tokens[-1] + token[2:]\n",
        "                    else:\n",
        "                        new_labels.append(label_idx)\n",
        "                        new_preds.append(pred)\n",
        "                        new_tokens.append(token)\n",
        "                for token, pred, label in zip(new_tokens, new_preds, new_labels):\n",
        "                    pred_tags.append(tag_values[pred])\n",
        "                    valid_tags.append(tag_values[label])\n",
        "\n",
        "    print(\"Validation Accuracy: {}\".format(accuracy_score(pred_tags, valid_tags)))\n",
        "    val_report = classification_report(valid_tags, pred_tags)\n",
        "    print(\"Epoch {} - Validation Classification Report:\".format(epoch))\n",
        "    print(val_report)\n",
        "    if eval_loss < best_val_loss:\n",
        "      best_val_loss = eval_loss\n",
        "      best_epoch = epoch\n",
        "      best_model_state = model.state_dict()\n",
        "      epochs_without_improvement = 0\n",
        "    else:\n",
        "      epochs_without_improvement += 1\n",
        "      if epochs_without_improvement >= patience:\n",
        "          print(f\"Validation loss hasn't improved for {patience} epochs. Best model found at epoch {best_epoch}.\")\n",
        "          break\n",
        "\n",
        "    print(\"Epoch {} - Training Loss: {:.4f}, Validation Loss: {:.4f}\".format(epoch, avg_train_loss, eval_loss))\n",
        "    print()\n",
        "\n",
        "# Output the best epoch model\n",
        "if best_model_state is not None:\n",
        "    torch.save(best_model_state, \"gaBERT_CRF.pt\")"
      ],
      "metadata": {
        "colab": {
          "base_uri": "https://localhost:8080/"
        },
        "id": "KPa5gEWDmatX",
        "outputId": "a75237f9-77a7-4cef-c857-9c8dfb788d07"
      },
      "execution_count": 36,
      "outputs": [
        {
          "output_type": "stream",
          "name": "stderr",
          "text": [
            "\rEpoch:   0%|          | 0/10 [00:00<?, ?it/s]"
          ]
        },
        {
          "output_type": "stream",
          "name": "stdout",
          "text": [
            "Average train loss: 3.1891976706683636\n",
            "Validation loss: 6.143548607826233\n",
            "Validation Accuracy: 0.9441918716608511\n"
          ]
        },
        {
          "output_type": "stream",
          "name": "stderr",
          "text": [
            "\rEpoch:  10%|█         | 1/10 [00:55<08:16, 55.21s/it]"
          ]
        },
        {
          "output_type": "stream",
          "name": "stdout",
          "text": [
            "Epoch 0 - Validation Classification Report:\n",
            "              precision    recall  f1-score   support\n",
            "\n",
            "       B-LOC       0.95      0.85      0.90      2563\n",
            "       B-ORG       0.64      0.89      0.74      4166\n",
            "       B-PER       0.84      0.70      0.76      3450\n",
            "       I-LOC       0.76      0.98      0.86      1681\n",
            "       I-ORG       0.61      0.76      0.68      4941\n",
            "       I-PER       0.80      0.74      0.77      6028\n",
            "           O       0.99      0.97      0.98    115305\n",
            "\n",
            "    accuracy                           0.94    138134\n",
            "   macro avg       0.80      0.84      0.81    138134\n",
            "weighted avg       0.95      0.94      0.95    138134\n",
            "\n",
            "Epoch 0 - Training Loss: 3.1892, Validation Loss: 6.1435\n",
            "\n",
            "Average train loss: 1.6048012245446444\n",
            "Validation loss: 5.887268424034119\n",
            "Validation Accuracy: 0.9437357927809229\n"
          ]
        },
        {
          "output_type": "stream",
          "name": "stderr",
          "text": [
            "\rEpoch:  20%|██        | 2/10 [01:50<07:22, 55.37s/it]"
          ]
        },
        {
          "output_type": "stream",
          "name": "stdout",
          "text": [
            "Epoch 1 - Validation Classification Report:\n",
            "              precision    recall  f1-score   support\n",
            "\n",
            "       B-LOC       0.95      0.84      0.89      2563\n",
            "       B-ORG       0.70      0.80      0.74      4166\n",
            "       B-PER       0.68      0.72      0.70      3450\n",
            "       I-LOC       0.83      0.97      0.89      1681\n",
            "       I-ORG       0.61      0.82      0.70      4941\n",
            "       I-PER       0.83      0.74      0.78      6028\n",
            "           O       0.99      0.97      0.98    115305\n",
            "\n",
            "    accuracy                           0.94    138134\n",
            "   macro avg       0.80      0.84      0.81    138134\n",
            "weighted avg       0.95      0.94      0.95    138134\n",
            "\n",
            "Epoch 1 - Training Loss: 1.6048, Validation Loss: 5.8873\n",
            "\n",
            "Average train loss: 0.8547236500307918\n",
            "Validation loss: 6.464193105697632\n",
            "Validation Accuracy: 0.9479997683408864\n"
          ]
        },
        {
          "output_type": "stream",
          "name": "stderr",
          "text": [
            "\rEpoch:  30%|███       | 3/10 [02:43<06:20, 54.39s/it]"
          ]
        },
        {
          "output_type": "stream",
          "name": "stdout",
          "text": [
            "Epoch 2 - Validation Classification Report:\n",
            "              precision    recall  f1-score   support\n",
            "\n",
            "       B-LOC       0.95      0.88      0.92      2563\n",
            "       B-ORG       0.70      0.82      0.75      4166\n",
            "       B-PER       0.87      0.70      0.78      3450\n",
            "       I-LOC       0.77      0.97      0.86      1681\n",
            "       I-ORG       0.62      0.84      0.71      4941\n",
            "       I-PER       0.83      0.72      0.77      6028\n",
            "           O       0.99      0.98      0.98    115305\n",
            "\n",
            "    accuracy                           0.95    138134\n",
            "   macro avg       0.82      0.84      0.82    138134\n",
            "weighted avg       0.95      0.95      0.95    138134\n",
            "\n",
            "Epoch 2 - Training Loss: 0.8547, Validation Loss: 6.4642\n",
            "\n",
            "Average train loss: 0.49878982035443187\n",
            "Validation loss: 6.735937714576721\n",
            "Validation Accuracy: 0.9478622207421779\n"
          ]
        },
        {
          "output_type": "stream",
          "name": "stderr",
          "text": [
            "\rEpoch:  30%|███       | 3/10 [03:39<08:31, 73.07s/it]"
          ]
        },
        {
          "output_type": "stream",
          "name": "stdout",
          "text": [
            "Epoch 3 - Validation Classification Report:\n",
            "              precision    recall  f1-score   support\n",
            "\n",
            "       B-LOC       0.95      0.88      0.92      2563\n",
            "       B-ORG       0.75      0.75      0.75      4166\n",
            "       B-PER       0.85      0.71      0.78      3450\n",
            "       I-LOC       0.81      0.97      0.88      1681\n",
            "       I-ORG       0.59      0.81      0.68      4941\n",
            "       I-PER       0.82      0.73      0.77      6028\n",
            "           O       0.99      0.98      0.98    115305\n",
            "\n",
            "    accuracy                           0.95    138134\n",
            "   macro avg       0.82      0.83      0.82    138134\n",
            "weighted avg       0.95      0.95      0.95    138134\n",
            "\n",
            "Validation loss hasn't improved for 2 epochs. Best model found at epoch 1.\n"
          ]
        },
        {
          "output_type": "stream",
          "name": "stderr",
          "text": [
            "\n"
          ]
        },
        {
          "output_type": "stream",
          "name": "stdout",
          "text": [
            "Best model saved to 'final_gabert_V1_5.pt'.\n"
          ]
        }
      ]
    },
    {
      "cell_type": "code",
      "source": [
        "# Training and Validation Loss Plot\n",
        "\n",
        "# Generate x-axis values (epochs)\n",
        "epochs = range(len(loss_values) + 1)\n",
        "\n",
        "# Plotting with markers and lines\n",
        "plt.plot(epochs[:-1], loss_values, marker='o', linestyle='-', label='Training Loss', color='blue')\n",
        "plt.plot(epochs[:-1], validation_loss_values, marker='o', linestyle='-', label='Validation Loss', color='orange')\n",
        "\n",
        "# Labeling and styling\n",
        "plt.title('Training and Validation Loss')\n",
        "plt.xlabel('Epoch')\n",
        "plt.ylabel('Loss')\n",
        "plt.legend()\n",
        "\n",
        "# Set ticks for x-axis (epochs) to whole numbers only starting from 0\n",
        "plt.xticks(epochs[:-1])\n",
        "\n",
        "\n",
        "# Ensure y-axis (loss) ticks are whole numbers only\n",
        "#plt.yticks(range(int(min(min(loss_values), min(validation_loss_values))), int(max(max(loss_values), max(validation_loss_values))) + 1))\n",
        "plt.savefig('gabert_CRF_training_validation_loss_plot.png')\n",
        "# Show plot\n",
        "plt.grid(True)\n",
        "plt.show()"
      ],
      "metadata": {
        "id": "C4eXQCgcm28q",
        "colab": {
          "base_uri": "https://localhost:8080/",
          "height": 472
        },
        "outputId": "daba7827-d2be-4c37-e832-674176060c6e"
      },
      "execution_count": 37,
      "outputs": [
        {
          "output_type": "display_data",
          "data": {
            "text/plain": [
              "<Figure size 640x480 with 1 Axes>"
            ],
            "image/png": "[encoded data removed]"
          },
          "metadata": {}
        }
      ]
    },
    {
      "cell_type": "code",
      "source": [
        "model.eval()\n",
        "\n",
        "predicted_labels = []\n",
        "true_labels = []\n",
        "\n",
        "# Iterate through the test_dataloader to get the predictions\n",
        "# Using the GPU\n",
        "for batch in tst_dataloader:\n",
        "    batch = tuple(t.to(device) for t in batch)\n",
        "    inputs = {'input_ids': batch[0], 'attention_mask': batch[1], 'labels': batch[2]}\n",
        "\n",
        "    # Disabling gradient calculation for evaluation\n",
        "    with torch.no_grad():\n",
        "        #outputs = model(**inputs)\n",
        "        outputs = model.forward_custom(batch[0], batch[1], batch[2], token_type_ids=None)\n",
        "\n",
        "    # Extracting the predictions and also the true labels for the test data\n",
        "    predict_labels = outputs[1]\n",
        "    #print(predict_labels)\n",
        "    predictions = []\n",
        "    for predict_label in predict_labels:\n",
        "      #print(predict_label)\n",
        "      predicted_labels.append(predict_label)\n",
        "    #predicted_labels.append(predictions)\n",
        "\n",
        "    true_labels.extend(inputs['labels'].tolist())"
      ],
      "metadata": {
        "id": "3P57y4KgnJkB"
      },
      "execution_count": 40,
      "outputs": []
    },
    {
      "cell_type": "code",
      "source": [
        "trues = []\n",
        "\n",
        "for sentences in true_labels:\n",
        "  t = []\n",
        "  for vals in sentences:\n",
        "    if vals != 7:\n",
        "      t.append(vals)\n",
        "  trues.append(t)\n",
        "\n",
        "preds=predicted_labels"
      ],
      "metadata": {
        "id": "Lp6AgFI02agf"
      },
      "execution_count": 43,
      "outputs": []
    },
    {
      "cell_type": "code",
      "source": [
        "i = 0\n",
        "while i < len(preds):\n",
        "  if len(test_labels[i]) != len(preds[i]):\n",
        "    print(f'issue: {i} {len(test_labels[i])}, {len(preds[i])}')\n",
        "    print(f'{test_tokenized_texts[i]}\\n{test_labels[i]}\\n{preds[i]}')\n",
        "    i += 1\n",
        "  i += 1"
      ],
      "metadata": {
        "id": "5lRDVwGr2hr2"
      },
      "execution_count": 44,
      "outputs": []
    },
    {
      "cell_type": "code",
      "source": [
        "label_map = {\n",
        "    0: 'O',\n",
        "    1: 'B-PER',\n",
        "    2: 'I-PER',\n",
        "    3: 'B-LOC',\n",
        "    4: 'I-LOC',\n",
        "    5: 'B-ORG',\n",
        "    6: 'I-ORG'\n",
        "}\n",
        "\n",
        "# Initialise an empty list to store DataFrames\n",
        "dfs = []\n",
        "\n",
        "# Iterate through the tokens, labels, and predictions\n",
        "for tokens, labels, predictions in zip(test_tokenized_texts, test_labels, preds):\n",
        "    # Create a DataFrame from the current sublist\n",
        "    temp_df = pd.DataFrame({'Word': tokens, 'POS': 'X', 'True': labels, 'Predicted': [label_map[pred] for pred in predictions]})\n",
        "    # Append the DataFrame to the list\n",
        "    dfs.append(temp_df)\n",
        "    # Add an empty row as a DataFrame to the list\n",
        "    dfs.append(pd.DataFrame({'Word': [''], 'POS': [''], 'True': [''], 'Predicted': ['']}))\n",
        "\n",
        "# Concatenate the DataFrames along the rows axis\n",
        "df = pd.concat(dfs, ignore_index=True)\n",
        "\n",
        "# Print the concatenated DataFrame\n",
        "print(df)\n",
        "\n",
        "# Check the alignment is correct\n",
        "print(df.head(45))"
      ],
      "metadata": {
        "id": "LZwh74eInh4z",
        "colab": {
          "base_uri": "https://localhost:8080/"
        },
        "outputId": "59eaf2aa-5792-4432-8731-2f53882ac014"
      },
      "execution_count": 45,
      "outputs": [
        {
          "output_type": "stream",
          "name": "stdout",
          "text": [
            "           Word POS   True Predicted\n",
            "0           Mar   X      O         O\n",
            "1             a   X      O         O\n",
            "2             t   X      O         O\n",
            "3          ##ch   X      O         O\n",
            "4       ##ítear   X      O         O\n",
            "...         ...  ..    ...       ...\n",
            "4839          a   X      O         O\n",
            "4840     bhfuil   X      O         O\n",
            "4841  Gaeltacht   X  B-LOC     B-LOC\n",
            "4842        ann   X      O         O\n",
            "4843                                \n",
            "\n",
            "[4844 rows x 4 columns]\n",
            "           Word POS   True Predicted\n",
            "0           Mar   X      O         O\n",
            "1             a   X      O         O\n",
            "2             t   X      O         O\n",
            "3          ##ch   X      O         O\n",
            "4       ##ítear   X      O         O\n",
            "5            do   X      O         O\n",
            "6         Sheos   X  B-PER     B-PER\n",
            "7         ##amh   X  B-PER     B-PER\n",
            "8           Mac   X  I-PER     I-PER\n",
            "9       Grianna   X  I-PER     I-PER\n",
            "10            é   X      O         O\n",
            "11    caithfidh   X      O         O\n",
            "12           an   X      O         O\n",
            "13            t   X      O         O\n",
            "14            -   X      O         O\n",
            "15  ealaíontóir   X      O         O\n",
            "16           an   X      O         O\n",
            "17        solas   X      O         O\n",
            "18            a   X      O         O\n",
            "19    thabhairt   X      O         O\n",
            "20          don   X      O         O\n",
            "21         saol   X      O         O\n",
            "22         agus   X      O         O\n",
            "23       diúltú   X      O         O\n",
            "24           do   X      O         O\n",
            "25        chath   X      O         O\n",
            "26          ##ú   X      O         O\n",
            "27          sin   X      O         O\n",
            "28           na   X      O         O\n",
            "29      truaill   X      O         O\n",
            "30     ##íochta   X      O         O\n",
            "31            a   X      O         O\n",
            "32    chuireann   X      O         O\n",
            "33           an   X      O         O\n",
            "34         saol   X      O         O\n",
            "35          ina   X      O         O\n",
            "36         chos   X      O         O\n",
            "37         ##án   X      O         O\n",
            "38            .   X      O         O\n",
            "39                                  \n",
            "40   Dhiúltaigh   X      O         O\n",
            "41         John   X  B-PER     B-PER\n",
            "42       ##atha   X  B-PER     B-PER\n",
            "43          ##n   X  B-PER     B-PER\n",
            "44         Cape   X  I-PER     I-PER\n"
          ]
        }
      ]
    },
    {
      "cell_type": "code",
      "source": [
        "# Change to conll format for evaluation script to be run\n",
        "conll_format = \"\"\n",
        "\n",
        "for index, row in df.iterrows():\n",
        "    text = row['Word']\n",
        "    pos = row['POS']\n",
        "    tag = row['True']\n",
        "    mapped_tag = row['Predicted']\n",
        "\n",
        "    # Append the token in CoNLL format (word, POS, gold_label, predicted_label)\n",
        "    conll_format += f\"{text}\\t{pos}\\t{tag}\\t{mapped_tag}\\n\"\n",
        "\n",
        "# Write the CoNLL format string to a text file\n",
        "with open('gaBERT_CRF.conll', 'w') as f:\n",
        "    f.write(conll_format)"
      ],
      "metadata": {
        "id": "5xWSYW9Pnqjw"
      },
      "execution_count": 46,
      "outputs": []
    },
    {
      "cell_type": "markdown",
      "source": [
        "#MWE case study"
      ],
      "metadata": {
        "id": "u1ojsiBYumYY"
      }
    },
    {
      "cell_type": "code",
      "source": [
        "model.eval()\n",
        "\n",
        "mwe_predicted_labels = []\n",
        "mwe_true_labels = []\n",
        "\n",
        "# Iterate through the test_dataloader to get the predictions\n",
        "# Using the GPU\n",
        "for batch in mwe_tst_dataloader:\n",
        "    batch = tuple(t.to(device) for t in batch)\n",
        "    inputs = {'input_ids': batch[0], 'attention_mask': batch[1], 'labels': batch[2]}\n",
        "\n",
        "    # Disabling gradient calculation for evaluation\n",
        "    with torch.no_grad():\n",
        "        #outputs = model(**inputs)\n",
        "        outputs = model.forward_custom(batch[0], batch[1], batch[2], token_type_ids=None)\n",
        "\n",
        "    # Extracting the predictions and also the true labels for the test data\n",
        "    predict_labels = outputs[1]\n",
        "    #print(predict_labels)\n",
        "    predictions = []\n",
        "    for predict_label in predict_labels:\n",
        "      #print(predict_label)\n",
        "      mwe_predicted_labels.append(predict_label)\n",
        "    #predicted_labels.append(predictions)\n",
        "\n",
        "    mwe_true_labels.extend(inputs['labels'].tolist())"
      ],
      "metadata": {
        "id": "B9_05h4m2tnI"
      },
      "execution_count": 78,
      "outputs": []
    },
    {
      "cell_type": "code",
      "source": [
        "#print(mwe_predicted_labels)"
      ],
      "metadata": {
        "id": "_yLRcpsp4jSJ"
      },
      "execution_count": 79,
      "outputs": []
    },
    {
      "cell_type": "code",
      "source": [
        "print(len(mwe_predicted_labels))\n",
        "print(len(mwe_true_labels))"
      ],
      "metadata": {
        "id": "ia306Uia40Im",
        "colab": {
          "base_uri": "https://localhost:8080/"
        },
        "outputId": "0c53c64f-bcad-485b-f076-14eedd309ad2"
      },
      "execution_count": 80,
      "outputs": [
        {
          "output_type": "stream",
          "name": "stdout",
          "text": [
            "89\n",
            "89\n"
          ]
        }
      ]
    },
    {
      "cell_type": "code",
      "source": [
        "print(mwe_true_labels[0])\n",
        "print(mwe_predicted_labels[0])"
      ],
      "metadata": {
        "colab": {
          "base_uri": "https://localhost:8080/"
        },
        "id": "Yi7pcVbr4LqG",
        "outputId": "aa08795a-9133-4e1b-a83a-fad581eec52c"
      },
      "execution_count": 81,
      "outputs": [
        {
          "output_type": "stream",
          "name": "stdout",
          "text": [
            "[0, 0, 0, 0, 1, 2, 2, 0, 0, 0, 0, 0, 0, 0, 0, 0, 0, 0, 0, 0, 0, 0, 0, 0, 0, 0, 0, 0, 0, 0, 0, 7, 7, 7, 7, 7, 7, 7, 7, 7, 7, 7, 7, 7, 7, 7, 7, 7, 7, 7, 7, 7, 7, 7, 7, 7, 7, 7, 7, 7, 7, 7, 7, 7, 7, 7, 7, 7, 7, 7, 7, 7, 7, 7, 7, 7, 7, 7, 7, 7, 7, 7, 7, 7, 7, 7, 7, 7, 7, 7, 7, 7, 7, 7, 7, 7, 7, 7, 7, 7, 7, 7, 7, 7, 7, 7, 7, 7, 7, 7, 7, 7, 7, 7, 7, 7, 7, 7, 7, 7, 7, 7, 7, 7, 7, 7, 7, 7, 7, 7, 7, 7, 7, 7, 7, 7, 7, 7, 7, 7, 7, 7, 7, 7, 7, 7, 7, 7, 7, 7, 7, 7, 7, 7, 7, 7, 7, 7, 7, 7, 7, 7, 7, 7, 7, 7, 7, 7, 7, 7, 7, 7, 7, 7, 7, 7, 7, 7, 7, 7, 7, 7, 7, 7, 7, 7, 7, 7, 7, 7, 7, 7, 7, 7, 7, 7, 7, 7, 7, 7, 7, 7, 7, 7, 7, 7, 7, 7, 7, 7, 7, 7, 7, 7, 7, 7, 7, 7, 7, 7, 7, 7, 7, 7, 7, 7, 7, 7, 7, 7, 7, 7, 7, 7, 7, 7, 7, 7, 7, 7, 7, 7, 7, 7, 7, 7, 7, 7, 7, 7, 7, 7, 7, 7, 7, 7]\n",
            "[0, 0, 0, 0, 0, 0, 1, 1, 2, 2, 0, 0, 0, 0, 0, 0, 0, 0, 0, 0, 0, 0, 0, 0, 0, 0, 0, 0, 0, 0, 0, 0, 0, 0, 0, 0, 0, 0, 0]\n"
          ]
        }
      ]
    },
    {
      "cell_type": "code",
      "source": [
        "mwe_preds = []\n",
        "mwe_trues = []\n",
        "\n",
        "for sentences in mwe_true_labels:\n",
        "  t = []\n",
        "  for vals in sentences:\n",
        "    if vals != 7:\n",
        "      t.append(vals)\n",
        "  mwe_trues.append(t)\n",
        "\n",
        "for sentences in mwe_predicted_labels:\n",
        "  p = []\n",
        "  for vals in sentences:\n",
        "    if vals != 7:\n",
        "      p.append(vals)\n",
        "  mwe_preds.append(p)\n",
        "\n",
        "\n",
        "#print(mwe_test_tokenized_texts_and_labels)\n",
        "mwe_tokenized_labels = []\n",
        "for sentence, labels in mwe_test_tokenized_texts_and_labels:\n",
        "    mwe_tokenized_labels.append(labels)\n",
        "\n",
        "print(len(mwe_test_tokenized_texts[0]))\n",
        "print(len(mwe_trues[0]))\n",
        "print(len(mwe_tokenized_labels[0]))\n",
        "print(len(mwe_preds[0]))"
      ],
      "metadata": {
        "colab": {
          "base_uri": "https://localhost:8080/"
        },
        "id": "cPqaCWM84TA9",
        "outputId": "a747c1ea-eace-4c10-a5f3-dc52b10b507d"
      },
      "execution_count": 82,
      "outputs": [
        {
          "output_type": "stream",
          "name": "stdout",
          "text": [
            "39\n",
            "31\n",
            "39\n",
            "39\n"
          ]
        }
      ]
    },
    {
      "cell_type": "code",
      "source": [
        "i = 0\n",
        "while i < len(mwe_tokenized_labels):\n",
        "  #print(len(mwe_true_labels[i]))\n",
        "  #print(len(mwe_predicted_labels[i]))\n",
        "  #print(i)\n",
        "  if len(mwe_tokenized_labels[i]) != len(mwe_preds[i]):\n",
        "    print('issue')\n",
        "    i += 1\n",
        "  i += 1"
      ],
      "metadata": {
        "id": "x2E_S6pe3Dp1"
      },
      "execution_count": 83,
      "outputs": []
    },
    {
      "cell_type": "code",
      "source": [
        "# Initialise an empty list to store DataFrames\n",
        "dfs = []\n",
        "\n",
        "# Iterate through the tokens, labels, and predictions\n",
        "for tokens, labels, predictions in zip(mwe_test_tokenized_texts, mwe_tokenized_labels, mwe_preds):\n",
        "    # Create a DataFrame from the current sublist\n",
        "    temp_df = pd.DataFrame({'Word': tokens, 'POS': 'X', 'True': labels, 'Predicted': [label_map[pred] for pred in predictions]})\n",
        "    # Append the DataFrame to the list\n",
        "    dfs.append(temp_df)\n",
        "    # Add an empty row as a DataFrame to the list\n",
        "    dfs.append(pd.DataFrame({'Word': [''], 'POS': [''], 'True': [''], 'Predicted': ['']}))\n",
        "\n",
        "# Concatenate the DataFrames along the rows axis\n",
        "df = pd.concat(dfs, ignore_index=True)\n",
        "\n",
        "# Print the concatenated DataFrame\n",
        "print(df)\n",
        "\n",
        "# Check the alignment is correct\n",
        "print(df.head(45))"
      ],
      "metadata": {
        "id": "O5wTG1Gf8UEx",
        "colab": {
          "base_uri": "https://localhost:8080/"
        },
        "outputId": "03366e21-89b6-4fc0-ffa7-c690b6958fe9"
      },
      "execution_count": 84,
      "outputs": [
        {
          "output_type": "stream",
          "name": "stdout",
          "text": [
            "         Word POS   True Predicted\n",
            "0         Mar   X      O         O\n",
            "1           a   X      O         O\n",
            "2           t   X      O         O\n",
            "3        ##ch   X      O         O\n",
            "4     ##ítear   X      O         O\n",
            "...       ...  ..    ...       ...\n",
            "3167       na   X  I-LOC     I-LOC\n",
            "3168       nD   X  I-LOC     I-LOC\n",
            "3169   ##éise   X  I-LOC     I-LOC\n",
            "3170        .   X      O         O\n",
            "3171                              \n",
            "\n",
            "[3172 rows x 4 columns]\n",
            "           Word POS   True Predicted\n",
            "0           Mar   X      O         O\n",
            "1             a   X      O         O\n",
            "2             t   X      O         O\n",
            "3          ##ch   X      O         O\n",
            "4       ##ítear   X      O         O\n",
            "5            do   X      O         O\n",
            "6         Sheos   X  B-PER     B-PER\n",
            "7         ##amh   X  B-PER     B-PER\n",
            "8           Mac   X  I-PER     I-PER\n",
            "9       Grianna   X  I-PER     I-PER\n",
            "10            é   X      O         O\n",
            "11    caithfidh   X      O         O\n",
            "12           an   X      O         O\n",
            "13            t   X      O         O\n",
            "14            -   X      O         O\n",
            "15  ealaíontóir   X      O         O\n",
            "16           an   X      O         O\n",
            "17        solas   X      O         O\n",
            "18            a   X      O         O\n",
            "19    thabhairt   X      O         O\n",
            "20          don   X      O         O\n",
            "21         saol   X      O         O\n",
            "22         agus   X      O         O\n",
            "23       diúltú   X      O         O\n",
            "24           do   X      O         O\n",
            "25        chath   X      O         O\n",
            "26          ##ú   X      O         O\n",
            "27          sin   X      O         O\n",
            "28           na   X      O         O\n",
            "29      truaill   X      O         O\n",
            "30     ##íochta   X      O         O\n",
            "31            a   X      O         O\n",
            "32    chuireann   X      O         O\n",
            "33           an   X      O         O\n",
            "34         saol   X      O         O\n",
            "35          ina   X      O         O\n",
            "36         chos   X      O         O\n",
            "37         ##án   X      O         O\n",
            "38            .   X      O         O\n",
            "39                                  \n",
            "40  Grianghraif   X      O         O\n",
            "41           le   X      O         O\n",
            "42       Maidhc   X  B-PER     B-PER\n",
            "43            Ó   X  I-PER     I-PER\n",
            "44        Seach   X  I-PER     I-PER\n"
          ]
        }
      ]
    },
    {
      "cell_type": "code",
      "source": [
        "# Change to conll format for evaluation script to be run\n",
        "conll_format = \"\"\n",
        "\n",
        "for index, row in df.iterrows():\n",
        "    text = row['Word']\n",
        "    pos = row['POS']\n",
        "    tag = row['True']\n",
        "    mapped_tag = row['Predicted']\n",
        "\n",
        "    # Append the token in CoNLL format (word, POS, gold_label, predicted_label)\n",
        "    conll_format += f\"{text}\\t{pos}\\t{tag}\\t{mapped_tag}\\n\"\n",
        "\n",
        "# Write the CoNLL format string to a text file\n",
        "with open('gaBERT_CRF_MWE.conll', 'w') as f:\n",
        "    f.write(conll_format)"
      ],
      "metadata": {
        "id": "_blFxH196M2J"
      },
      "execution_count": 85,
      "outputs": []
    }
  ]
}